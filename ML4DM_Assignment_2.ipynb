{
  "nbformat": 4,
  "nbformat_minor": 0,
  "metadata": {
    "colab": {
      "name": "ML4DM-Assignment_2.ipynb",
      "provenance": [],
      "collapsed_sections": []
    },
    "kernelspec": {
      "name": "python3",
      "display_name": "Python 3"
    },
    "accelerator": "GPU"
  },
  "cells": [
    {
      "cell_type": "code",
      "metadata": {
        "id": "MI9jQDaih7Ac",
        "colab_type": "code",
        "outputId": "086f02d1-ad73-4cb0-ec78-17e26cd0bd0f",
        "colab": {
          "base_uri": "https://localhost:8080/",
          "height": 34
        }
      },
      "source": [
        "import numpy as np\n",
        "import tensorflow as tf\n",
        "from sklearn.decomposition import PCA\n",
        "import scipy.io\n",
        "from sklearn.model_selection import train_test_split\n",
        "import keras\n",
        "from keras import optimizers\n",
        "import pandas as pd\n",
        "from sklearn.model_selection import StratifiedKFold\n",
        "import matplotlib.pyplot as plt\n",
        "from sklearn.preprocessing import StandardScaler\n",
        "!pip install -U -q PyDrive\n",
        "from pydrive.auth import GoogleAuth\n",
        "from pydrive.drive import GoogleDrive\n",
        "from google.colab import auth\n",
        "from oauth2client.client import GoogleCredentials\n",
        "auth.authenticate_user()\n",
        "gauth = GoogleAuth()\n",
        "gauth.credentials = GoogleCredentials.get_application_default()\n",
        "drive = GoogleDrive(gauth)\n",
        "import math\n",
        "from scipy import stats"
      ],
      "execution_count": 0,
      "outputs": [
        {
          "output_type": "stream",
          "text": [
            "Using TensorFlow backend.\n"
          ],
          "name": "stderr"
        }
      ]
    },
    {
      "cell_type": "code",
      "metadata": {
        "id": "0OKrPqoHhyP3",
        "colab_type": "code",
        "colab": {}
      },
      "source": [
        "id = \"1_ZtXbVbjQqC3Y-O04Jld9O0nXrbuAq01\"\n",
        "downloaded = drive.CreateFile({'id':id}) \n",
        "downloaded.GetContentFile('SUB_100307_S2.mat')  \n",
        "data = scipy.io.loadmat('SUB_100307_S2.mat')"
      ],
      "execution_count": 0,
      "outputs": []
    },
    {
      "cell_type": "code",
      "metadata": {
        "id": "ho-BFoY2h0KG",
        "colab_type": "code",
        "outputId": "71f02736-cd89-4336-8d69-24567b5482ab",
        "colab": {
          "base_uri": "https://localhost:8080/",
          "height": 1000
        }
      },
      "source": [
        "data"
      ],
      "execution_count": 0,
      "outputs": [
        {
          "output_type": "execute_result",
          "data": {
            "text/plain": [
              "{'D': array([[[-2.09151336e-14, -5.41053004e-14,  6.54931967e-14, ...,\n",
              "           1.24200547e-13, -1.96418518e-13, -5.45248851e-14],\n",
              "         [-2.21179479e-13, -3.99130518e-13,  1.68847703e-13, ...,\n",
              "           3.17905311e-14, -1.90115749e-13, -2.19864366e-13],\n",
              "         [-1.93471751e-14, -1.34969500e-13,  2.55453833e-13, ...,\n",
              "          -1.45627658e-13, -2.63070784e-13, -4.70834048e-14],\n",
              "         ...,\n",
              "         [ 2.73748297e-13,  9.00729087e-14,  1.04738340e-13, ...,\n",
              "          -2.42499423e-13,  1.23867057e-13,  1.33588873e-13],\n",
              "         [ 2.02379935e-13, -2.16917027e-13, -1.64777102e-13, ...,\n",
              "          -3.31792702e-13,  2.00359854e-13, -2.72261635e-13],\n",
              "         [-3.66881564e-14, -8.93052808e-14,  8.01718894e-14, ...,\n",
              "          -1.85836754e-13,  3.06366502e-14, -1.60810714e-13]],\n",
              " \n",
              "        [[ 1.98385669e-13, -7.18277038e-14,  4.60407179e-15, ...,\n",
              "          -1.97723751e-13,  1.78413619e-13,  1.91885171e-13],\n",
              "         [ 7.01846943e-14, -2.02696918e-13, -2.00668416e-14, ...,\n",
              "          -3.24898690e-13,  5.30295932e-13,  5.39052044e-13],\n",
              "         [ 1.66339439e-13,  1.82197459e-14,  2.11852680e-13, ...,\n",
              "          -3.03270045e-13,  2.80707511e-13,  4.58378088e-13],\n",
              "         ...,\n",
              "         [-5.03208427e-13,  3.46086151e-13,  2.83823264e-13, ...,\n",
              "           2.46277959e-13, -6.76542047e-13,  8.98293566e-14],\n",
              "         [-4.56862309e-13,  2.61700346e-13,  2.39178500e-13, ...,\n",
              "           1.98867126e-13, -6.50594042e-13,  2.89576332e-14],\n",
              "         [-5.03008929e-13,  1.30020604e-13,  3.18093073e-13, ...,\n",
              "          -6.90160015e-14, -5.19085737e-13,  1.38619317e-13]],\n",
              " \n",
              "        [[ 1.01640307e-13, -2.00645368e-13, -2.63687782e-13, ...,\n",
              "          -2.97239136e-13, -1.76603857e-14, -1.25302985e-13],\n",
              "         [ 8.74313708e-14, -3.64268109e-13, -2.08892544e-13, ...,\n",
              "          -5.11707855e-13,  3.17906613e-14,  3.48938090e-14],\n",
              "         [ 7.95030859e-14, -1.60750451e-13,  6.26029183e-14, ...,\n",
              "          -5.94385639e-13, -2.47498637e-13,  1.19963959e-13],\n",
              "         ...,\n",
              "         [-1.30206416e-13,  2.58739864e-13, -3.84337540e-13, ...,\n",
              "          -5.70729918e-14, -5.78294211e-13, -1.09708673e-13],\n",
              "         [-3.45417039e-13,  5.31136351e-13, -4.54533710e-13, ...,\n",
              "           7.18974617e-14, -4.54166396e-13,  2.05365965e-13],\n",
              "         [-5.25677258e-13,  4.12348173e-13, -1.47439268e-13, ...,\n",
              "           1.43618930e-13, -3.06503552e-13,  1.96243551e-13]],\n",
              " \n",
              "        ...,\n",
              " \n",
              "        [[-7.78188229e-14, -3.02265302e-13, -1.19818215e-13, ...,\n",
              "          -1.80014882e-13,  1.67289772e-15, -2.03768282e-13],\n",
              "         [-1.67382910e-13, -4.05489919e-13, -1.28762393e-13, ...,\n",
              "          -7.32527058e-13, -2.52813690e-14, -1.19337048e-13],\n",
              "         [ 1.13746995e-13, -7.15386156e-13, -1.57553590e-13, ...,\n",
              "          -4.78136024e-13, -1.70088412e-13, -2.17905215e-13],\n",
              "         ...,\n",
              "         [ 1.36615894e-13,  4.24994916e-13, -5.33216970e-14, ...,\n",
              "           1.06898456e-13,  1.00054366e-13, -4.14230115e-13],\n",
              "         [-1.13246144e-13,  1.01309264e-13, -1.24117397e-13, ...,\n",
              "          -1.12567246e-13,  1.17576401e-13, -1.46868821e-13],\n",
              "         [-1.08589591e-13,  4.12856441e-14, -8.51900643e-14, ...,\n",
              "          -5.43450692e-14,  1.26025079e-13, -7.07980300e-14]],\n",
              " \n",
              "        [[ 1.84266746e-13, -1.18301968e-14,  4.06964608e-14, ...,\n",
              "          -8.20555937e-14,  1.69517167e-13,  8.92289245e-14],\n",
              "         [ 8.87731999e-14,  1.48110317e-15, -1.08103019e-13, ...,\n",
              "          -1.93754956e-13,  3.23178479e-13,  1.22616182e-13],\n",
              "         [ 3.76083646e-14, -6.15746793e-14,  2.13999936e-13, ...,\n",
              "          -4.01641976e-13,  1.48070872e-13,  1.12863651e-14],\n",
              "         ...,\n",
              "         [-4.79608661e-13,  2.22748116e-13,  3.28255326e-13, ...,\n",
              "          -2.20077922e-13, -2.16236659e-13, -2.11936591e-13],\n",
              "         [-3.66464370e-13,  4.10913443e-14,  3.24502528e-13, ...,\n",
              "          -7.73176127e-14, -4.28984644e-13, -2.38096270e-13],\n",
              "         [-2.23594391e-13,  2.49017465e-14,  3.46329230e-13, ...,\n",
              "          -1.69988664e-13, -2.48971185e-13, -5.15473098e-14]],\n",
              " \n",
              "        [[ 2.74036308e-16,  2.33168207e-13, -5.06842972e-15, ...,\n",
              "           3.23901369e-14,  1.69404169e-13,  2.45368005e-13],\n",
              "         [-1.55878576e-13,  2.41684533e-13, -7.14227911e-14, ...,\n",
              "           4.09704002e-14,  3.05392455e-13,  1.14515266e-13],\n",
              "         [-6.35097113e-14,  5.17262080e-13, -5.51066703e-14, ...,\n",
              "          -1.03864013e-13,  1.12592927e-13, -2.64739292e-14],\n",
              "         ...,\n",
              "         [-3.34080059e-14, -2.39297610e-13,  5.85130181e-13, ...,\n",
              "          -3.52380803e-13, -3.94821006e-13, -1.73331743e-13],\n",
              "         [-1.75507471e-13, -3.05928608e-13,  7.05500257e-13, ...,\n",
              "          -1.78555063e-13, -5.45212663e-13, -7.21755190e-14],\n",
              "         [-1.47731095e-13, -3.83716556e-14,  6.63812386e-13, ...,\n",
              "          -1.70265550e-13, -3.32832431e-13, -2.58215163e-14]]]),\n",
              " 'SR': array([[508.6275249]]),\n",
              " '__globals__': [],\n",
              " '__header__': b'MATLAB 5.0 MAT-file, Platform: PCWIN64, Created on: Wed Sep 11 11:11:34 2019',\n",
              " '__version__': '1.0',\n",
              " 'class_label': array([[1],\n",
              "        [1],\n",
              "        [1],\n",
              "        [1],\n",
              "        [1],\n",
              "        [1],\n",
              "        [1],\n",
              "        [1],\n",
              "        [1],\n",
              "        [1],\n",
              "        [1],\n",
              "        [1],\n",
              "        [1],\n",
              "        [1],\n",
              "        [1],\n",
              "        [1],\n",
              "        [1],\n",
              "        [1],\n",
              "        [1],\n",
              "        [1],\n",
              "        [1],\n",
              "        [1],\n",
              "        [1],\n",
              "        [1],\n",
              "        [1],\n",
              "        [1],\n",
              "        [1],\n",
              "        [1],\n",
              "        [1],\n",
              "        [1],\n",
              "        [1],\n",
              "        [1],\n",
              "        [1],\n",
              "        [1],\n",
              "        [1],\n",
              "        [1],\n",
              "        [1],\n",
              "        [1],\n",
              "        [1],\n",
              "        [1],\n",
              "        [1],\n",
              "        [1],\n",
              "        [1],\n",
              "        [1],\n",
              "        [1],\n",
              "        [1],\n",
              "        [1],\n",
              "        [1],\n",
              "        [2],\n",
              "        [2],\n",
              "        [2],\n",
              "        [2],\n",
              "        [2],\n",
              "        [2],\n",
              "        [2],\n",
              "        [2],\n",
              "        [2],\n",
              "        [2],\n",
              "        [2],\n",
              "        [2],\n",
              "        [2],\n",
              "        [2],\n",
              "        [2],\n",
              "        [2],\n",
              "        [2],\n",
              "        [2],\n",
              "        [2],\n",
              "        [2],\n",
              "        [2],\n",
              "        [2],\n",
              "        [2],\n",
              "        [2],\n",
              "        [2],\n",
              "        [2],\n",
              "        [2],\n",
              "        [2],\n",
              "        [2],\n",
              "        [2],\n",
              "        [2],\n",
              "        [2],\n",
              "        [2],\n",
              "        [2],\n",
              "        [2],\n",
              "        [2],\n",
              "        [2],\n",
              "        [2],\n",
              "        [2],\n",
              "        [2],\n",
              "        [2],\n",
              "        [2],\n",
              "        [2],\n",
              "        [2],\n",
              "        [2],\n",
              "        [2],\n",
              "        [2],\n",
              "        [2],\n",
              "        [2],\n",
              "        [2],\n",
              "        [2],\n",
              "        [2],\n",
              "        [2],\n",
              "        [2],\n",
              "        [1],\n",
              "        [1],\n",
              "        [1],\n",
              "        [1],\n",
              "        [1],\n",
              "        [1],\n",
              "        [1],\n",
              "        [1],\n",
              "        [1],\n",
              "        [1],\n",
              "        [1],\n",
              "        [1],\n",
              "        [1],\n",
              "        [1],\n",
              "        [1],\n",
              "        [1],\n",
              "        [1],\n",
              "        [1],\n",
              "        [1],\n",
              "        [1],\n",
              "        [1],\n",
              "        [1]], dtype=uint8),\n",
              " 'time_vect': array([[-1.49962391, -1.49765784, -1.49569176, ...,  2.49544104,\n",
              "          2.49740712,  2.49937319]])}"
            ]
          },
          "metadata": {
            "tags": []
          },
          "execution_count": 3
        }
      ]
    },
    {
      "cell_type": "code",
      "metadata": {
        "id": "Q0a20h88h15L",
        "colab_type": "code",
        "outputId": "c36f48cd-5093-4294-e9ac-296374a03c94",
        "colab": {
          "base_uri": "https://localhost:8080/",
          "height": 34
        }
      },
      "source": [
        "data['time_vect'].shape, data['D'].shape"
      ],
      "execution_count": 0,
      "outputs": [
        {
          "output_type": "execute_result",
          "data": {
            "text/plain": [
              "((1, 2035), (240, 2035, 124))"
            ]
          },
          "metadata": {
            "tags": []
          },
          "execution_count": 4
        }
      ]
    },
    {
      "cell_type": "code",
      "metadata": {
        "id": "W4u6n41hmO5N",
        "colab_type": "code",
        "colab": {}
      },
      "source": [
        "x =  data['D']\n",
        "x = np.reshape(x,(x.shape[0],x.shape[1]*x.shape[2]))\n",
        "x = np.transpose(x)"
      ],
      "execution_count": 0,
      "outputs": []
    },
    {
      "cell_type": "markdown",
      "metadata": {
        "id": "T4Y7L44JmQda",
        "colab_type": "text"
      },
      "source": [
        "**By using PCA**"
      ]
    },
    {
      "cell_type": "code",
      "metadata": {
        "id": "WbVTjlWMh3GZ",
        "colab_type": "code",
        "colab": {}
      },
      "source": [
        "X = stats.zscore(x,axis=1)\n",
        "pca = PCA(0.95)\n",
        "mu = np.mean(X, axis=0)\n",
        "Xhat = pca.fit_transform(X)\n",
        "reconstructionX = np.dot(Xhat, pca.components_)"
      ],
      "execution_count": 0,
      "outputs": []
    },
    {
      "cell_type": "code",
      "metadata": {
        "id": "Cr4XByIFi4V0",
        "colab_type": "code",
        "outputId": "247e1d3a-25c3-457c-958f-d03d09c67249",
        "colab": {
          "base_uri": "https://localhost:8080/",
          "height": 34
        }
      },
      "source": [
        "math.sqrt(np.mean((reconstructionX - X)**2))"
      ],
      "execution_count": 0,
      "outputs": [
        {
          "output_type": "execute_result",
          "data": {
            "text/plain": [
              "0.22329215035176186"
            ]
          },
          "metadata": {
            "tags": []
          },
          "execution_count": 7
        }
      ]
    },
    {
      "cell_type": "markdown",
      "metadata": {
        "id": "X_1gVvOTnWg7",
        "colab_type": "text"
      },
      "source": [
        "**By using auto encoders**"
      ]
    },
    {
      "cell_type": "code",
      "metadata": {
        "id": "AN1WqgViqB7f",
        "colab_type": "code",
        "colab": {}
      },
      "source": [
        "epochs = 50\n",
        "verbose = 1\n",
        "train_validation_split = 0.2"
      ],
      "execution_count": 0,
      "outputs": []
    },
    {
      "cell_type": "code",
      "metadata": {
        "id": "SZnoyC4pk0_r",
        "colab_type": "code",
        "outputId": "09c728d5-82fa-49c6-cd06-2faab9b589e7",
        "colab": {
          "base_uri": "https://localhost:8080/",
          "height": 306
        }
      },
      "source": [
        "input_dims = X.shape[1]\n",
        "model = keras.Sequential([\n",
        "      keras.layers.Dense(Xhat.shape[1],input_dim = input_dims,activation = tf.nn.relu),\n",
        "      keras.layers.Dense(X.shape[1], activation = 'sigmoid')\n",
        "    ])\n",
        "model.summary()\n",
        "sgd = optimizers.RMSprop(lr=1e-1)\n",
        "model.compile(optimizer='adam', loss='mse',metrics=['accuracy'])\n",
        "history = model.fit(X,X,epochs=epochs,validation_split=train_validation_split,verbose=verbose,shuffle=True)"
      ],
      "execution_count": 0,
      "outputs": [
        {
          "output_type": "stream",
          "text": [
            "Model: \"sequential_4\"\n",
            "_________________________________________________________________\n",
            "Layer (type)                 Output Shape              Param #   \n",
            "=================================================================\n",
            "dense_7 (Dense)              (None, 85)                20485     \n",
            "_________________________________________________________________\n",
            "dense_8 (Dense)              (None, 240)               20640     \n",
            "=================================================================\n",
            "Total params: 41,125\n",
            "Trainable params: 41,125\n",
            "Non-trainable params: 0\n",
            "_________________________________________________________________\n",
            "Train on 201872 samples, validate on 50468 samples\n",
            "Epoch 1/50\n",
            "201872/201872 [==============================] - 28s 138us/step - loss: 0.6314 - acc: 0.3214 - val_loss: 0.6030 - val_acc: 0.4376\n",
            "Epoch 2/50\n",
            "  4256/201872 [..............................] - ETA: 24s - loss: 0.6060 - acc: 0.4617"
          ],
          "name": "stdout"
        }
      ]
    },
    {
      "cell_type": "code",
      "metadata": {
        "id": "N0H2prGShcTj",
        "colab_type": "code",
        "colab": {}
      },
      "source": [
        "rmse = math.sqrt(model.evaluate(X,X)[1])"
      ],
      "execution_count": 0,
      "outputs": []
    },
    {
      "cell_type": "code",
      "metadata": {
        "id": "QjnxmJsp3vOQ",
        "colab_type": "code",
        "colab": {}
      },
      "source": [
        "rmse"
      ],
      "execution_count": 0,
      "outputs": []
    }
  ]
}