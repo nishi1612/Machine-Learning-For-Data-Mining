{
  "nbformat": 4,
  "nbformat_minor": 0,
  "metadata": {
    "colab": {
      "name": "ML4DM_Lab_3.ipynb",
      "version": "0.3.2",
      "provenance": [],
      "collapsed_sections": [],
      "include_colab_link": true
    },
    "kernelspec": {
      "name": "python3",
      "display_name": "Python 3"
    }
  },
  "cells": [
    {
      "cell_type": "markdown",
      "metadata": {
        "id": "view-in-github",
        "colab_type": "text"
      },
      "source": [
        "<a href=\"https://colab.research.google.com/github/nishi1612/Machine-Learning-For-Data-Mining/blob/master/ML4DM_Lab_3.ipynb\" target=\"_parent\"><img src=\"https://colab.research.google.com/assets/colab-badge.svg\" alt=\"Open In Colab\"/></a>"
      ]
    },
    {
      "cell_type": "code",
      "metadata": {
        "id": "at_8D_SVXOL5",
        "colab_type": "code",
        "colab": {}
      },
      "source": [
        "import numpy as np\n",
        "import tensorflow as tf\n",
        "from keras.datasets import mnist\n",
        "import keras\n",
        "import matplotlib.pyplot as plt"
      ],
      "execution_count": 0,
      "outputs": []
    },
    {
      "cell_type": "code",
      "metadata": {
        "id": "yu7vd-_HXQYo",
        "colab_type": "code",
        "colab": {}
      },
      "source": [
        "((trainX, trainY), (testX, testY)) = mnist.load_data()"
      ],
      "execution_count": 0,
      "outputs": []
    },
    {
      "cell_type": "code",
      "metadata": {
        "id": "-6foas8pXeqr",
        "colab_type": "code",
        "colab": {
          "base_uri": "https://localhost:8080/",
          "height": 34
        },
        "outputId": "8ed6d68f-9d0a-4aaf-a272-1438d3f7ed54"
      },
      "source": [
        "trainX.shape , trainY.shape, testX.shape, testY.shape"
      ],
      "execution_count": 15,
      "outputs": [
        {
          "output_type": "execute_result",
          "data": {
            "text/plain": [
              "((60000, 28, 28), (60000,), (10000, 28, 28), (10000,))"
            ]
          },
          "metadata": {
            "tags": []
          },
          "execution_count": 15
        }
      ]
    },
    {
      "cell_type": "code",
      "metadata": {
        "id": "Hil2CMDfXh_8",
        "colab_type": "code",
        "colab": {}
      },
      "source": [
        "trainX = trainX/255.0\n",
        "testX = testX/255.0"
      ],
      "execution_count": 0,
      "outputs": []
    },
    {
      "cell_type": "code",
      "metadata": {
        "id": "UpHRkogWXnTU",
        "colab_type": "code",
        "colab": {}
      },
      "source": [
        "def show_graph(history):\n",
        "  plt.plot(history.history['loss'])\n",
        "  plt.title('Loss')\n",
        "  plt.xlabel('No. of epochs')\n",
        "  plt.ylabel('Loss')\n",
        "  plt.show()\n",
        "  plt.plot(history.history['acc'])\n",
        "  plt.title('Accuracy')\n",
        "  plt.xlabel('No. of epochs')\n",
        "  plt.ylabel('Accuracy')\n",
        "  plt.show()"
      ],
      "execution_count": 0,
      "outputs": []
    },
    {
      "cell_type": "code",
      "metadata": {
        "id": "8A5q-IUPXn7F",
        "colab_type": "code",
        "colab": {}
      },
      "source": [
        "epochs = 100\n",
        "verbose = 1\n",
        "validation_split = 0.2"
      ],
      "execution_count": 0,
      "outputs": []
    },
    {
      "cell_type": "code",
      "metadata": {
        "id": "CskAdJ9gXqBj",
        "colab_type": "code",
        "colab": {
          "base_uri": "https://localhost:8080/",
          "height": 445
        },
        "outputId": "760df210-faf7-4a58-d0e9-cbb3e45cfbc4"
      },
      "source": [
        "model = keras.Sequential([\n",
        "    keras.layers.Flatten(input_shape=(trainX.shape[1],trainX.shape[2])),\n",
        "    keras.layers.Dense(256,activation = tf.nn.relu),\n",
        "    keras.layers.Dense(10,activation=tf.nn.softmax)    \n",
        "])\n",
        "model.compile(optimizer='adam',\n",
        "              loss='sparse_categorical_crossentropy',\n",
        "              metrics=['accuracy'])\n",
        "model.summary()"
      ],
      "execution_count": 7,
      "outputs": [
        {
          "output_type": "stream",
          "text": [
            "WARNING:tensorflow:From /usr/local/lib/python3.6/dist-packages/keras/backend/tensorflow_backend.py:66: The name tf.get_default_graph is deprecated. Please use tf.compat.v1.get_default_graph instead.\n",
            "\n",
            "WARNING:tensorflow:From /usr/local/lib/python3.6/dist-packages/keras/backend/tensorflow_backend.py:541: The name tf.placeholder is deprecated. Please use tf.compat.v1.placeholder instead.\n",
            "\n",
            "WARNING:tensorflow:From /usr/local/lib/python3.6/dist-packages/keras/backend/tensorflow_backend.py:4432: The name tf.random_uniform is deprecated. Please use tf.random.uniform instead.\n",
            "\n",
            "WARNING:tensorflow:From /usr/local/lib/python3.6/dist-packages/keras/optimizers.py:793: The name tf.train.Optimizer is deprecated. Please use tf.compat.v1.train.Optimizer instead.\n",
            "\n",
            "WARNING:tensorflow:From /usr/local/lib/python3.6/dist-packages/keras/backend/tensorflow_backend.py:3622: The name tf.log is deprecated. Please use tf.math.log instead.\n",
            "\n",
            "Model: \"sequential_1\"\n",
            "_________________________________________________________________\n",
            "Layer (type)                 Output Shape              Param #   \n",
            "=================================================================\n",
            "flatten_1 (Flatten)          (None, 784)               0         \n",
            "_________________________________________________________________\n",
            "dense_1 (Dense)              (None, 256)               200960    \n",
            "_________________________________________________________________\n",
            "dense_2 (Dense)              (None, 10)                2570      \n",
            "=================================================================\n",
            "Total params: 203,530\n",
            "Trainable params: 203,530\n",
            "Non-trainable params: 0\n",
            "_________________________________________________________________\n"
          ],
          "name": "stdout"
        }
      ]
    },
    {
      "cell_type": "code",
      "metadata": {
        "id": "OOfvNThiXr2f",
        "colab_type": "code",
        "colab": {
          "base_uri": "https://localhost:8080/",
          "height": 1000
        },
        "outputId": "8dd47da7-1e21-4b33-ed45-9915295a16dd"
      },
      "source": [
        "history = model.fit(trainX, trainY, epochs=epochs, validation_split=validation_split,verbose=verbose, shuffle=True)"
      ],
      "execution_count": 8,
      "outputs": [
        {
          "output_type": "stream",
          "text": [
            "WARNING:tensorflow:From /usr/local/lib/python3.6/dist-packages/tensorflow/python/ops/math_grad.py:1250: add_dispatch_support.<locals>.wrapper (from tensorflow.python.ops.array_ops) is deprecated and will be removed in a future version.\n",
            "Instructions for updating:\n",
            "Use tf.where in 2.0, which has the same broadcast rule as np.where\n",
            "WARNING:tensorflow:From /usr/local/lib/python3.6/dist-packages/keras/backend/tensorflow_backend.py:1033: The name tf.assign_add is deprecated. Please use tf.compat.v1.assign_add instead.\n",
            "\n",
            "Train on 48000 samples, validate on 12000 samples\n",
            "Epoch 1/100\n",
            "48000/48000 [==============================] - 8s 163us/step - loss: 0.2498 - acc: 0.9278 - val_loss: 0.1368 - val_acc: 0.9603\n",
            "Epoch 2/100\n",
            "48000/48000 [==============================] - 8s 159us/step - loss: 0.1029 - acc: 0.9696 - val_loss: 0.1087 - val_acc: 0.9688\n",
            "Epoch 3/100\n",
            "48000/48000 [==============================] - 7s 145us/step - loss: 0.0673 - acc: 0.9796 - val_loss: 0.0931 - val_acc: 0.9719\n",
            "Epoch 4/100\n",
            "48000/48000 [==============================] - 7s 148us/step - loss: 0.0478 - acc: 0.9853 - val_loss: 0.0879 - val_acc: 0.9733\n",
            "Epoch 5/100\n",
            "48000/48000 [==============================] - 7s 150us/step - loss: 0.0347 - acc: 0.9891 - val_loss: 0.0923 - val_acc: 0.9725\n",
            "Epoch 6/100\n",
            "48000/48000 [==============================] - 7s 147us/step - loss: 0.0268 - acc: 0.9911 - val_loss: 0.0895 - val_acc: 0.9743\n",
            "Epoch 7/100\n",
            "48000/48000 [==============================] - 7s 149us/step - loss: 0.0214 - acc: 0.9935 - val_loss: 0.0880 - val_acc: 0.9752\n",
            "Epoch 8/100\n",
            "48000/48000 [==============================] - 7s 152us/step - loss: 0.0159 - acc: 0.9951 - val_loss: 0.0821 - val_acc: 0.9787\n",
            "Epoch 9/100\n",
            "48000/48000 [==============================] - 7s 153us/step - loss: 0.0135 - acc: 0.9958 - val_loss: 0.0883 - val_acc: 0.9783\n",
            "Epoch 10/100\n",
            "48000/48000 [==============================] - 7s 152us/step - loss: 0.0106 - acc: 0.9967 - val_loss: 0.1008 - val_acc: 0.9762\n",
            "Epoch 11/100\n",
            "48000/48000 [==============================] - 7s 149us/step - loss: 0.0091 - acc: 0.9971 - val_loss: 0.0982 - val_acc: 0.9772\n",
            "Epoch 12/100\n",
            "48000/48000 [==============================] - 7s 152us/step - loss: 0.0092 - acc: 0.9972 - val_loss: 0.0963 - val_acc: 0.9767\n",
            "Epoch 13/100\n",
            "48000/48000 [==============================] - 7s 150us/step - loss: 0.0097 - acc: 0.9967 - val_loss: 0.1002 - val_acc: 0.9778\n",
            "Epoch 14/100\n",
            "48000/48000 [==============================] - 7s 150us/step - loss: 0.0052 - acc: 0.9985 - val_loss: 0.1048 - val_acc: 0.9786\n",
            "Epoch 15/100\n",
            "48000/48000 [==============================] - 7s 151us/step - loss: 0.0072 - acc: 0.9977 - val_loss: 0.1035 - val_acc: 0.9789\n",
            "Epoch 16/100\n",
            "48000/48000 [==============================] - 7s 148us/step - loss: 0.0077 - acc: 0.9973 - val_loss: 0.1190 - val_acc: 0.9769\n",
            "Epoch 17/100\n",
            "48000/48000 [==============================] - 7s 144us/step - loss: 0.0048 - acc: 0.9985 - val_loss: 0.1168 - val_acc: 0.9764\n",
            "Epoch 18/100\n",
            "48000/48000 [==============================] - 7s 147us/step - loss: 0.0040 - acc: 0.9987 - val_loss: 0.1106 - val_acc: 0.9788\n",
            "Epoch 19/100\n",
            "48000/48000 [==============================] - 7s 140us/step - loss: 0.0077 - acc: 0.9975 - val_loss: 0.1110 - val_acc: 0.9783\n",
            "Epoch 20/100\n",
            "48000/48000 [==============================] - 7s 149us/step - loss: 0.0055 - acc: 0.9983 - val_loss: 0.1347 - val_acc: 0.9748\n",
            "Epoch 21/100\n",
            "48000/48000 [==============================] - 7s 153us/step - loss: 0.0040 - acc: 0.9986 - val_loss: 0.1173 - val_acc: 0.9784\n",
            "Epoch 22/100\n",
            "48000/48000 [==============================] - 7s 152us/step - loss: 0.0064 - acc: 0.9980 - val_loss: 0.1306 - val_acc: 0.9762\n",
            "Epoch 23/100\n",
            "48000/48000 [==============================] - 7s 138us/step - loss: 0.0042 - acc: 0.9984 - val_loss: 0.1254 - val_acc: 0.9774\n",
            "Epoch 24/100\n",
            "48000/48000 [==============================] - 7s 139us/step - loss: 0.0040 - acc: 0.9986 - val_loss: 0.1216 - val_acc: 0.9791\n",
            "Epoch 25/100\n",
            "48000/48000 [==============================] - 7s 141us/step - loss: 0.0052 - acc: 0.9983 - val_loss: 0.1369 - val_acc: 0.9770\n",
            "Epoch 26/100\n",
            "48000/48000 [==============================] - 7s 137us/step - loss: 0.0041 - acc: 0.9985 - val_loss: 0.1234 - val_acc: 0.9782\n",
            "Epoch 27/100\n",
            "48000/48000 [==============================] - 7s 139us/step - loss: 0.0036 - acc: 0.9989 - val_loss: 0.1241 - val_acc: 0.9795\n",
            "Epoch 28/100\n",
            "48000/48000 [==============================] - 7s 141us/step - loss: 0.0032 - acc: 0.9989 - val_loss: 0.1491 - val_acc: 0.9756\n",
            "Epoch 29/100\n",
            "48000/48000 [==============================] - 7s 139us/step - loss: 0.0042 - acc: 0.9985 - val_loss: 0.1364 - val_acc: 0.9774\n",
            "Epoch 30/100\n",
            "48000/48000 [==============================] - 7s 140us/step - loss: 0.0038 - acc: 0.9986 - val_loss: 0.1286 - val_acc: 0.9795\n",
            "Epoch 31/100\n",
            "48000/48000 [==============================] - 7s 141us/step - loss: 0.0029 - acc: 0.9992 - val_loss: 0.1367 - val_acc: 0.9774\n",
            "Epoch 32/100\n",
            "48000/48000 [==============================] - 7s 154us/step - loss: 0.0041 - acc: 0.9988 - val_loss: 0.1350 - val_acc: 0.9786\n",
            "Epoch 33/100\n",
            "48000/48000 [==============================] - 7s 153us/step - loss: 0.0037 - acc: 0.9986 - val_loss: 0.1318 - val_acc: 0.9802\n",
            "Epoch 34/100\n",
            "48000/48000 [==============================] - 7s 148us/step - loss: 0.0027 - acc: 0.9990 - val_loss: 0.1434 - val_acc: 0.9782\n",
            "Epoch 35/100\n",
            "48000/48000 [==============================] - 7s 147us/step - loss: 0.0011 - acc: 0.9997 - val_loss: 0.1556 - val_acc: 0.9773\n",
            "Epoch 36/100\n",
            "48000/48000 [==============================] - 7s 148us/step - loss: 0.0070 - acc: 0.9980 - val_loss: 0.1409 - val_acc: 0.9793\n",
            "Epoch 37/100\n",
            "48000/48000 [==============================] - 7s 148us/step - loss: 0.0017 - acc: 0.9996 - val_loss: 0.1398 - val_acc: 0.9788\n",
            "Epoch 38/100\n",
            "48000/48000 [==============================] - 7s 149us/step - loss: 0.0045 - acc: 0.9985 - val_loss: 0.1450 - val_acc: 0.9776\n",
            "Epoch 39/100\n",
            "48000/48000 [==============================] - 7s 152us/step - loss: 0.0031 - acc: 0.9990 - val_loss: 0.1438 - val_acc: 0.9787\n",
            "Epoch 40/100\n",
            "48000/48000 [==============================] - 7s 156us/step - loss: 0.0013 - acc: 0.9996 - val_loss: 0.1365 - val_acc: 0.9795\n",
            "Epoch 41/100\n",
            "48000/48000 [==============================] - 7s 152us/step - loss: 0.0013 - acc: 0.9997 - val_loss: 0.1467 - val_acc: 0.9786\n",
            "Epoch 42/100\n",
            "48000/48000 [==============================] - 7s 144us/step - loss: 0.0043 - acc: 0.9988 - val_loss: 0.1503 - val_acc: 0.9786\n",
            "Epoch 43/100\n",
            "48000/48000 [==============================] - 6s 135us/step - loss: 0.0037 - acc: 0.9990 - val_loss: 0.1766 - val_acc: 0.9758\n",
            "Epoch 44/100\n",
            "48000/48000 [==============================] - 7s 140us/step - loss: 0.0032 - acc: 0.9989 - val_loss: 0.1762 - val_acc: 0.9752\n",
            "Epoch 45/100\n",
            "48000/48000 [==============================] - 7s 138us/step - loss: 0.0014 - acc: 0.9996 - val_loss: 0.1421 - val_acc: 0.9788\n",
            "Epoch 46/100\n",
            "48000/48000 [==============================] - 7s 139us/step - loss: 0.0048 - acc: 0.9987 - val_loss: 0.1659 - val_acc: 0.9758\n",
            "Epoch 47/100\n",
            "48000/48000 [==============================] - 7s 136us/step - loss: 0.0030 - acc: 0.9991 - val_loss: 0.1360 - val_acc: 0.9802\n",
            "Epoch 48/100\n",
            "48000/48000 [==============================] - 7s 139us/step - loss: 0.0016 - acc: 0.9996 - val_loss: 0.1906 - val_acc: 0.9752\n",
            "Epoch 49/100\n",
            "48000/48000 [==============================] - 7s 140us/step - loss: 0.0046 - acc: 0.9986 - val_loss: 0.1623 - val_acc: 0.9785\n",
            "Epoch 50/100\n",
            "48000/48000 [==============================] - 7s 138us/step - loss: 0.0025 - acc: 0.9993 - val_loss: 0.1593 - val_acc: 0.9782\n",
            "Epoch 51/100\n",
            "48000/48000 [==============================] - 7s 149us/step - loss: 0.0025 - acc: 0.9994 - val_loss: 0.1588 - val_acc: 0.9792\n",
            "Epoch 52/100\n",
            "48000/48000 [==============================] - 7s 149us/step - loss: 0.0026 - acc: 0.9991 - val_loss: 0.1602 - val_acc: 0.9788\n",
            "Epoch 53/100\n",
            "48000/48000 [==============================] - 7s 146us/step - loss: 0.0024 - acc: 0.9995 - val_loss: 0.1415 - val_acc: 0.9822\n",
            "Epoch 54/100\n",
            "48000/48000 [==============================] - 7s 147us/step - loss: 0.0028 - acc: 0.9992 - val_loss: 0.1614 - val_acc: 0.9778\n",
            "Epoch 55/100\n",
            "48000/48000 [==============================] - 7s 145us/step - loss: 0.0026 - acc: 0.9990 - val_loss: 0.1522 - val_acc: 0.9808\n",
            "Epoch 56/100\n",
            "48000/48000 [==============================] - 7s 144us/step - loss: 0.0028 - acc: 0.9990 - val_loss: 0.1735 - val_acc: 0.9775\n",
            "Epoch 57/100\n",
            "48000/48000 [==============================] - 7s 149us/step - loss: 0.0046 - acc: 0.9987 - val_loss: 0.1564 - val_acc: 0.9808\n",
            "Epoch 58/100\n",
            "48000/48000 [==============================] - 7s 140us/step - loss: 0.0017 - acc: 0.9994 - val_loss: 0.1494 - val_acc: 0.9798\n",
            "Epoch 59/100\n",
            "48000/48000 [==============================] - 7s 141us/step - loss: 8.7646e-04 - acc: 0.9998 - val_loss: 0.1464 - val_acc: 0.9802\n",
            "Epoch 60/100\n",
            "48000/48000 [==============================] - 7s 140us/step - loss: 0.0031 - acc: 0.9991 - val_loss: 0.1690 - val_acc: 0.9786\n",
            "Epoch 61/100\n",
            "48000/48000 [==============================] - 7s 139us/step - loss: 0.0027 - acc: 0.9992 - val_loss: 0.1603 - val_acc: 0.9796\n",
            "Epoch 62/100\n",
            "48000/48000 [==============================] - 7s 136us/step - loss: 0.0033 - acc: 0.9992 - val_loss: 0.1518 - val_acc: 0.9798\n",
            "Epoch 63/100\n",
            "48000/48000 [==============================] - 6s 133us/step - loss: 0.0023 - acc: 0.9992 - val_loss: 0.1493 - val_acc: 0.9810\n",
            "Epoch 64/100\n",
            "48000/48000 [==============================] - 7s 141us/step - loss: 2.2183e-04 - acc: 0.9999 - val_loss: 0.1431 - val_acc: 0.9815\n",
            "Epoch 65/100\n",
            "48000/48000 [==============================] - 7s 139us/step - loss: 0.0045 - acc: 0.9988 - val_loss: 0.1803 - val_acc: 0.9782\n",
            "Epoch 66/100\n",
            "48000/48000 [==============================] - 7s 137us/step - loss: 0.0038 - acc: 0.9990 - val_loss: 0.1607 - val_acc: 0.9796\n",
            "Epoch 67/100\n",
            "48000/48000 [==============================] - 6s 134us/step - loss: 0.0029 - acc: 0.9994 - val_loss: 0.1815 - val_acc: 0.9788\n",
            "Epoch 68/100\n",
            "48000/48000 [==============================] - 6s 135us/step - loss: 0.0026 - acc: 0.9993 - val_loss: 0.1483 - val_acc: 0.9814\n",
            "Epoch 69/100\n",
            "48000/48000 [==============================] - 7s 139us/step - loss: 0.0031 - acc: 0.9993 - val_loss: 0.1961 - val_acc: 0.9760\n",
            "Epoch 70/100\n",
            "48000/48000 [==============================] - 7s 140us/step - loss: 0.0029 - acc: 0.9990 - val_loss: 0.1681 - val_acc: 0.9797\n",
            "Epoch 71/100\n",
            "48000/48000 [==============================] - 7s 141us/step - loss: 0.0028 - acc: 0.9992 - val_loss: 0.1526 - val_acc: 0.9813\n",
            "Epoch 72/100\n",
            "48000/48000 [==============================] - 6s 132us/step - loss: 6.0148e-05 - acc: 1.0000 - val_loss: 0.1445 - val_acc: 0.9824\n",
            "Epoch 73/100\n",
            "48000/48000 [==============================] - 6s 130us/step - loss: 1.6263e-05 - acc: 1.0000 - val_loss: 0.1437 - val_acc: 0.9823\n",
            "Epoch 74/100\n",
            "48000/48000 [==============================] - 7s 136us/step - loss: 3.6164e-06 - acc: 1.0000 - val_loss: 0.1432 - val_acc: 0.9824\n",
            "Epoch 75/100\n",
            "48000/48000 [==============================] - 6s 134us/step - loss: 2.5544e-06 - acc: 1.0000 - val_loss: 0.1430 - val_acc: 0.9826\n",
            "Epoch 76/100\n",
            "48000/48000 [==============================] - 7s 140us/step - loss: 2.0263e-06 - acc: 1.0000 - val_loss: 0.1429 - val_acc: 0.9827\n",
            "Epoch 77/100\n",
            "48000/48000 [==============================] - 7s 142us/step - loss: 1.6780e-06 - acc: 1.0000 - val_loss: 0.1425 - val_acc: 0.9828\n",
            "Epoch 78/100\n",
            "48000/48000 [==============================] - 7s 146us/step - loss: 1.4157e-06 - acc: 1.0000 - val_loss: 0.1424 - val_acc: 0.9826\n",
            "Epoch 79/100\n",
            "48000/48000 [==============================] - 7s 139us/step - loss: 1.2376e-06 - acc: 1.0000 - val_loss: 0.1421 - val_acc: 0.9827\n",
            "Epoch 80/100\n",
            "48000/48000 [==============================] - 6s 131us/step - loss: 1.1239e-06 - acc: 1.0000 - val_loss: 0.1430 - val_acc: 0.9830\n",
            "Epoch 81/100\n",
            "48000/48000 [==============================] - 6s 131us/step - loss: 0.0070 - acc: 0.9984 - val_loss: 0.1817 - val_acc: 0.9796\n",
            "Epoch 82/100\n",
            "48000/48000 [==============================] - 6s 133us/step - loss: 0.0029 - acc: 0.9992 - val_loss: 0.1679 - val_acc: 0.9807\n",
            "Epoch 83/100\n",
            "48000/48000 [==============================] - 7s 140us/step - loss: 0.0026 - acc: 0.9992 - val_loss: 0.1873 - val_acc: 0.9787\n",
            "Epoch 84/100\n",
            "48000/48000 [==============================] - 7s 141us/step - loss: 0.0018 - acc: 0.9995 - val_loss: 0.1764 - val_acc: 0.9794\n",
            "Epoch 85/100\n",
            "48000/48000 [==============================] - 7s 143us/step - loss: 0.0034 - acc: 0.9990 - val_loss: 0.1761 - val_acc: 0.9804\n",
            "Epoch 86/100\n",
            "48000/48000 [==============================] - 8s 162us/step - loss: 0.0020 - acc: 0.9995 - val_loss: 0.1806 - val_acc: 0.9779\n",
            "Epoch 87/100\n",
            "48000/48000 [==============================] - 7s 143us/step - loss: 0.0038 - acc: 0.9990 - val_loss: 0.1718 - val_acc: 0.9812\n",
            "Epoch 88/100\n",
            "48000/48000 [==============================] - 7s 149us/step - loss: 0.0013 - acc: 0.9996 - val_loss: 0.1972 - val_acc: 0.9779\n",
            "Epoch 89/100\n",
            "48000/48000 [==============================] - 7s 152us/step - loss: 0.0010 - acc: 0.9997 - val_loss: 0.1759 - val_acc: 0.9802\n",
            "Epoch 90/100\n",
            "48000/48000 [==============================] - 7s 151us/step - loss: 0.0027 - acc: 0.9993 - val_loss: 0.1784 - val_acc: 0.9801\n",
            "Epoch 91/100\n",
            "48000/48000 [==============================] - 8s 159us/step - loss: 0.0014 - acc: 0.9995 - val_loss: 0.1881 - val_acc: 0.9790\n",
            "Epoch 92/100\n",
            "48000/48000 [==============================] - 8s 158us/step - loss: 0.0058 - acc: 0.9986 - val_loss: 0.1800 - val_acc: 0.9802\n",
            "Epoch 93/100\n",
            "48000/48000 [==============================] - 7s 152us/step - loss: 0.0018 - acc: 0.9995 - val_loss: 0.1700 - val_acc: 0.9798\n",
            "Epoch 94/100\n",
            "48000/48000 [==============================] - 7s 149us/step - loss: 0.0030 - acc: 0.9993 - val_loss: 0.1738 - val_acc: 0.9804\n",
            "Epoch 95/100\n",
            "48000/48000 [==============================] - 7s 148us/step - loss: 5.1831e-04 - acc: 0.9998 - val_loss: 0.1812 - val_acc: 0.9806\n",
            "Epoch 96/100\n",
            "48000/48000 [==============================] - 7s 150us/step - loss: 0.0037 - acc: 0.9991 - val_loss: 0.1842 - val_acc: 0.9793\n",
            "Epoch 97/100\n",
            "48000/48000 [==============================] - 7s 147us/step - loss: 0.0015 - acc: 0.9994 - val_loss: 0.1816 - val_acc: 0.9790\n",
            "Epoch 98/100\n",
            "48000/48000 [==============================] - 8s 158us/step - loss: 0.0019 - acc: 0.9995 - val_loss: 0.1850 - val_acc: 0.9790\n",
            "Epoch 99/100\n",
            "48000/48000 [==============================] - 8s 163us/step - loss: 0.0017 - acc: 0.9994 - val_loss: 0.1702 - val_acc: 0.9811\n",
            "Epoch 100/100\n",
            "48000/48000 [==============================] - 8s 158us/step - loss: 0.0027 - acc: 0.9995 - val_loss: 0.1838 - val_acc: 0.9794\n"
          ],
          "name": "stdout"
        }
      ]
    },
    {
      "cell_type": "code",
      "metadata": {
        "id": "XR2bwucagpSR",
        "colab_type": "code",
        "colab": {
          "base_uri": "https://localhost:8080/",
          "height": 573
        },
        "outputId": "a4d15bca-1251-4734-bc5f-d5a3b6e3f526"
      },
      "source": [
        "show_graph(history)"
      ],
      "execution_count": 9,
      "outputs": [
        {
          "output_type": "display_data",
          "data": {
            "image/png": "[encoded data removed]",
            "text/plain": [
              "<Figure size 432x288 with 1 Axes>"
            ]
          },
          "metadata": {
            "tags": []
          }
        },
        {
          "output_type": "display_data",
          "data": {
            "image/png": "[encoded data removed]",
            "text/plain": [
              "<Figure size 432x288 with 1 Axes>"
            ]
          },
          "metadata": {
            "tags": []
          }
        }
      ]
    },
    {
      "cell_type": "code",
      "metadata": {
        "id": "X5_p-CsfyScB",
        "colab_type": "code",
        "colab": {
          "base_uri": "https://localhost:8080/",
          "height": 51
        },
        "outputId": "0d52fad8-44fc-4ae4-a8b1-37e9d6a77faa"
      },
      "source": [
        "test_loss, test_acc = model.evaluate(testX, testY)\n",
        "test_loss , test_acc"
      ],
      "execution_count": 10,
      "outputs": [
        {
          "output_type": "stream",
          "text": [
            "10000/10000 [==============================] - 0s 37us/step\n"
          ],
          "name": "stdout"
        },
        {
          "output_type": "execute_result",
          "data": {
            "text/plain": [
              "(0.17912808272422517, 0.9785)"
            ]
          },
          "metadata": {
            "tags": []
          },
          "execution_count": 10
        }
      ]
    },
    {
      "cell_type": "code",
      "metadata": {
        "id": "4qWu6vkoyVOo",
        "colab_type": "code",
        "colab": {
          "base_uri": "https://localhost:8080/",
          "height": 357
        },
        "outputId": "e815b147-d0e0-4228-d672-40149a354742"
      },
      "source": [
        "model_1 = keras.Sequential([\n",
        "    keras.layers.Flatten(input_shape=(trainX.shape[1],trainX.shape[2])),\n",
        "    keras.layers.Dense(512, activation=tf.nn.relu),\n",
        "    keras.layers.Dense(256, activation=tf.nn.relu),\n",
        "    keras.layers.Dense(128, activation=tf.nn.relu),\n",
        "    keras.layers.Dense(64, activation=tf.nn.relu),\n",
        "    keras.layers.Dense(10, activation=tf.nn.softmax)\n",
        "])\n",
        "model_1.compile(optimizer='adam',\n",
        "              loss='sparse_categorical_crossentropy',\n",
        "              metrics=['accuracy'])\n",
        "model_1.summary()"
      ],
      "execution_count": 25,
      "outputs": [
        {
          "output_type": "stream",
          "text": [
            "Model: \"sequential_4\"\n",
            "_________________________________________________________________\n",
            "Layer (type)                 Output Shape              Param #   \n",
            "=================================================================\n",
            "flatten_4 (Flatten)          (None, 784)               0         \n",
            "_________________________________________________________________\n",
            "dense_10 (Dense)             (None, 512)               401920    \n",
            "_________________________________________________________________\n",
            "dense_11 (Dense)             (None, 256)               131328    \n",
            "_________________________________________________________________\n",
            "dense_12 (Dense)             (None, 128)               32896     \n",
            "_________________________________________________________________\n",
            "dense_13 (Dense)             (None, 64)                8256      \n",
            "_________________________________________________________________\n",
            "dense_14 (Dense)             (None, 10)                650       \n",
            "=================================================================\n",
            "Total params: 575,050\n",
            "Trainable params: 575,050\n",
            "Non-trainable params: 0\n",
            "_________________________________________________________________\n"
          ],
          "name": "stdout"
        }
      ]
    },
    {
      "cell_type": "code",
      "metadata": {
        "id": "ooMgSPuXyXVo",
        "colab_type": "code",
        "colab": {
          "base_uri": "https://localhost:8080/",
          "height": 1000
        },
        "outputId": "2e45cca7-2e0e-4ca3-adbf-4eea7ac55d17"
      },
      "source": [
        "history_1 = model_1.fit(trainX, trainY, epochs=epochs, validation_split=validation_split,verbose=verbose, shuffle=True)"
      ],
      "execution_count": 26,
      "outputs": [
        {
          "output_type": "stream",
          "text": [
            "Train on 48000 samples, validate on 12000 samples\n",
            "Epoch 1/100\n",
            "48000/48000 [==============================] - 19s 389us/step - loss: 0.2345 - acc: 0.9286 - val_loss: 0.1383 - val_acc: 0.9587\n",
            "Epoch 2/100\n",
            "48000/48000 [==============================] - 17s 358us/step - loss: 0.1020 - acc: 0.9684 - val_loss: 0.1006 - val_acc: 0.9708\n",
            "Epoch 3/100\n",
            "48000/48000 [==============================] - 18s 377us/step - loss: 0.0716 - acc: 0.9773 - val_loss: 0.1088 - val_acc: 0.9684\n",
            "Epoch 4/100\n",
            "48000/48000 [==============================] - 18s 370us/step - loss: 0.0574 - acc: 0.9823 - val_loss: 0.0926 - val_acc: 0.9761\n",
            "Epoch 5/100\n",
            "48000/48000 [==============================] - 19s 387us/step - loss: 0.0458 - acc: 0.9861 - val_loss: 0.0972 - val_acc: 0.9758\n",
            "Epoch 6/100\n",
            "48000/48000 [==============================] - 19s 388us/step - loss: 0.0404 - acc: 0.9878 - val_loss: 0.0968 - val_acc: 0.9747\n",
            "Epoch 7/100\n",
            "48000/48000 [==============================] - 18s 384us/step - loss: 0.0334 - acc: 0.9895 - val_loss: 0.1014 - val_acc: 0.9762\n",
            "Epoch 8/100\n",
            "48000/48000 [==============================] - 18s 376us/step - loss: 0.0303 - acc: 0.9912 - val_loss: 0.0942 - val_acc: 0.9773\n",
            "Epoch 9/100\n",
            "48000/48000 [==============================] - 18s 372us/step - loss: 0.0238 - acc: 0.9930 - val_loss: 0.1073 - val_acc: 0.9779\n",
            "Epoch 10/100\n",
            "48000/48000 [==============================] - 18s 385us/step - loss: 0.0257 - acc: 0.9919 - val_loss: 0.1144 - val_acc: 0.9748\n",
            "Epoch 11/100\n",
            "48000/48000 [==============================] - 18s 374us/step - loss: 0.0234 - acc: 0.9934 - val_loss: 0.1956 - val_acc: 0.9647\n",
            "Epoch 12/100\n",
            "48000/48000 [==============================] - 18s 374us/step - loss: 0.0191 - acc: 0.9945 - val_loss: 0.1314 - val_acc: 0.9728\n",
            "Epoch 13/100\n",
            "48000/48000 [==============================] - 18s 375us/step - loss: 0.0189 - acc: 0.9946 - val_loss: 0.1117 - val_acc: 0.9778\n",
            "Epoch 14/100\n",
            "48000/48000 [==============================] - 18s 376us/step - loss: 0.0181 - acc: 0.9945 - val_loss: 0.1229 - val_acc: 0.9768\n",
            "Epoch 15/100\n",
            "48000/48000 [==============================] - 18s 375us/step - loss: 0.0162 - acc: 0.9957 - val_loss: 0.1282 - val_acc: 0.9755\n",
            "Epoch 16/100\n",
            "48000/48000 [==============================] - 18s 367us/step - loss: 0.0198 - acc: 0.9948 - val_loss: 0.1059 - val_acc: 0.9777\n",
            "Epoch 17/100\n",
            "48000/48000 [==============================] - 18s 367us/step - loss: 0.0135 - acc: 0.9962 - val_loss: 0.1219 - val_acc: 0.9776\n",
            "Epoch 18/100\n",
            "48000/48000 [==============================] - 17s 363us/step - loss: 0.0168 - acc: 0.9955 - val_loss: 0.1164 - val_acc: 0.9791\n",
            "Epoch 19/100\n",
            "48000/48000 [==============================] - 18s 370us/step - loss: 0.0130 - acc: 0.9966 - val_loss: 0.1111 - val_acc: 0.9792\n",
            "Epoch 20/100\n",
            "48000/48000 [==============================] - 18s 369us/step - loss: 0.0171 - acc: 0.9957 - val_loss: 0.1143 - val_acc: 0.9774\n",
            "Epoch 21/100\n",
            "48000/48000 [==============================] - 17s 362us/step - loss: 0.0084 - acc: 0.9979 - val_loss: 0.1159 - val_acc: 0.9791\n",
            "Epoch 22/100\n",
            "48000/48000 [==============================] - 17s 362us/step - loss: 0.0128 - acc: 0.9968 - val_loss: 0.1045 - val_acc: 0.9811\n",
            "Epoch 23/100\n",
            "48000/48000 [==============================] - 17s 357us/step - loss: 0.0113 - acc: 0.9973 - val_loss: 0.1532 - val_acc: 0.9745\n",
            "Epoch 24/100\n",
            "48000/48000 [==============================] - 17s 349us/step - loss: 0.0129 - acc: 0.9968 - val_loss: 0.1341 - val_acc: 0.9782\n",
            "Epoch 25/100\n",
            "48000/48000 [==============================] - 17s 356us/step - loss: 0.0110 - acc: 0.9974 - val_loss: 0.1288 - val_acc: 0.9792\n",
            "Epoch 26/100\n",
            "48000/48000 [==============================] - 17s 347us/step - loss: 0.0161 - acc: 0.9963 - val_loss: 0.1221 - val_acc: 0.9800\n",
            "Epoch 27/100\n",
            "48000/48000 [==============================] - 17s 361us/step - loss: 0.0106 - acc: 0.9973 - val_loss: 0.1147 - val_acc: 0.9814\n",
            "Epoch 28/100\n",
            "48000/48000 [==============================] - 17s 361us/step - loss: 0.0100 - acc: 0.9979 - val_loss: 0.1138 - val_acc: 0.9813\n",
            "Epoch 29/100\n",
            "48000/48000 [==============================] - 17s 363us/step - loss: 0.0129 - acc: 0.9971 - val_loss: 0.1619 - val_acc: 0.9770\n",
            "Epoch 30/100\n",
            "48000/48000 [==============================] - 18s 369us/step - loss: 0.0123 - acc: 0.9972 - val_loss: 0.1249 - val_acc: 0.9805\n",
            "Epoch 31/100\n",
            "48000/48000 [==============================] - 18s 376us/step - loss: 0.0108 - acc: 0.9976 - val_loss: 0.1356 - val_acc: 0.9811\n",
            "Epoch 32/100\n",
            "48000/48000 [==============================] - 18s 380us/step - loss: 0.0086 - acc: 0.9979 - val_loss: 0.1257 - val_acc: 0.9840\n",
            "Epoch 33/100\n",
            "48000/48000 [==============================] - 18s 377us/step - loss: 0.0114 - acc: 0.9976 - val_loss: 0.1810 - val_acc: 0.9774\n",
            "Epoch 34/100\n",
            "48000/48000 [==============================] - 18s 366us/step - loss: 0.0117 - acc: 0.9976 - val_loss: 0.1723 - val_acc: 0.9758\n",
            "Epoch 35/100\n",
            "48000/48000 [==============================] - 17s 358us/step - loss: 0.0128 - acc: 0.9973 - val_loss: 0.1598 - val_acc: 0.9779\n",
            "Epoch 36/100\n",
            "48000/48000 [==============================] - 18s 376us/step - loss: 0.0144 - acc: 0.9971 - val_loss: 0.1217 - val_acc: 0.9792\n",
            "Epoch 37/100\n",
            "48000/48000 [==============================] - 18s 375us/step - loss: 0.0068 - acc: 0.9984 - val_loss: 0.1554 - val_acc: 0.9803\n",
            "Epoch 38/100\n",
            "48000/48000 [==============================] - 18s 379us/step - loss: 0.0160 - acc: 0.9974 - val_loss: 0.1596 - val_acc: 0.9796\n",
            "Epoch 39/100\n",
            "48000/48000 [==============================] - 18s 384us/step - loss: 0.0144 - acc: 0.9973 - val_loss: 0.1284 - val_acc: 0.9822\n",
            "Epoch 40/100\n",
            "48000/48000 [==============================] - 18s 380us/step - loss: 0.0052 - acc: 0.9988 - val_loss: 0.1507 - val_acc: 0.9810\n",
            "Epoch 41/100\n",
            "48000/48000 [==============================] - 18s 371us/step - loss: 0.0103 - acc: 0.9979 - val_loss: 0.1606 - val_acc: 0.9769\n",
            "Epoch 42/100\n",
            "48000/48000 [==============================] - 18s 375us/step - loss: 0.0193 - acc: 0.9963 - val_loss: 0.1551 - val_acc: 0.9788\n",
            "Epoch 43/100\n",
            "48000/48000 [==============================] - 18s 368us/step - loss: 0.0055 - acc: 0.9988 - val_loss: 0.2068 - val_acc: 0.9785\n",
            "Epoch 44/100\n",
            "48000/48000 [==============================] - 18s 373us/step - loss: 0.0092 - acc: 0.9982 - val_loss: 0.1431 - val_acc: 0.9809\n",
            "Epoch 45/100\n",
            "48000/48000 [==============================] - 18s 376us/step - loss: 0.0141 - acc: 0.9972 - val_loss: 0.1833 - val_acc: 0.9797\n",
            "Epoch 46/100\n",
            "48000/48000 [==============================] - 20s 413us/step - loss: 0.0098 - acc: 0.9983 - val_loss: 0.1553 - val_acc: 0.9803\n",
            "Epoch 47/100\n",
            "48000/48000 [==============================] - 21s 428us/step - loss: 0.0106 - acc: 0.9981 - val_loss: 0.1541 - val_acc: 0.9801\n",
            "Epoch 48/100\n",
            "48000/48000 [==============================] - 19s 389us/step - loss: 0.0115 - acc: 0.9980 - val_loss: 0.1616 - val_acc: 0.9794\n",
            "Epoch 49/100\n",
            "48000/48000 [==============================] - 18s 381us/step - loss: 0.0127 - acc: 0.9981 - val_loss: 0.1953 - val_acc: 0.9753\n",
            "Epoch 50/100\n",
            "48000/48000 [==============================] - 18s 383us/step - loss: 0.0086 - acc: 0.9982 - val_loss: 0.1344 - val_acc: 0.9805\n",
            "Epoch 51/100\n",
            "48000/48000 [==============================] - 18s 377us/step - loss: 0.0100 - acc: 0.9985 - val_loss: 0.1653 - val_acc: 0.9801\n",
            "Epoch 52/100\n",
            "48000/48000 [==============================] - 18s 378us/step - loss: 0.0116 - acc: 0.9979 - val_loss: 0.1536 - val_acc: 0.9810\n",
            "Epoch 53/100\n",
            "48000/48000 [==============================] - 18s 382us/step - loss: 0.0091 - acc: 0.9984 - val_loss: 0.1634 - val_acc: 0.9797\n",
            "Epoch 54/100\n",
            "48000/48000 [==============================] - 18s 370us/step - loss: 0.0123 - acc: 0.9979 - val_loss: 0.1570 - val_acc: 0.9803\n",
            "Epoch 55/100\n",
            "48000/48000 [==============================] - 18s 375us/step - loss: 0.0139 - acc: 0.9979 - val_loss: 0.1716 - val_acc: 0.9800\n",
            "Epoch 56/100\n",
            "48000/48000 [==============================] - 19s 386us/step - loss: 0.0047 - acc: 0.9989 - val_loss: 0.1950 - val_acc: 0.9783\n",
            "Epoch 57/100\n",
            "48000/48000 [==============================] - 19s 399us/step - loss: 0.0122 - acc: 0.9976 - val_loss: 0.1728 - val_acc: 0.9802\n",
            "Epoch 58/100\n",
            "48000/48000 [==============================] - 22s 448us/step - loss: 0.0128 - acc: 0.9979 - val_loss: 0.1634 - val_acc: 0.9788\n",
            "Epoch 59/100\n",
            "48000/48000 [==============================] - 20s 425us/step - loss: 0.0082 - acc: 0.9986 - val_loss: 0.1980 - val_acc: 0.9789\n",
            "Epoch 60/100\n",
            "48000/48000 [==============================] - 20s 412us/step - loss: 0.0247 - acc: 0.9965 - val_loss: 0.2018 - val_acc: 0.9798\n",
            "Epoch 61/100\n",
            "48000/48000 [==============================] - 21s 431us/step - loss: 0.0070 - acc: 0.9988 - val_loss: 0.2127 - val_acc: 0.9793\n",
            "Epoch 62/100\n",
            "48000/48000 [==============================] - 21s 447us/step - loss: 0.0104 - acc: 0.9979 - val_loss: 0.1658 - val_acc: 0.9802\n",
            "Epoch 63/100\n",
            "48000/48000 [==============================] - 21s 443us/step - loss: 0.0098 - acc: 0.9985 - val_loss: 0.1719 - val_acc: 0.9808\n",
            "Epoch 64/100\n",
            "48000/48000 [==============================] - 22s 455us/step - loss: 0.0116 - acc: 0.9982 - val_loss: 0.1798 - val_acc: 0.9802\n",
            "Epoch 65/100\n",
            "48000/48000 [==============================] - 21s 441us/step - loss: 0.0127 - acc: 0.9979 - val_loss: 0.2024 - val_acc: 0.9789\n",
            "Epoch 66/100\n",
            "48000/48000 [==============================] - 21s 440us/step - loss: 0.0155 - acc: 0.9976 - val_loss: 0.1860 - val_acc: 0.9802\n",
            "Epoch 67/100\n",
            "48000/48000 [==============================] - 21s 428us/step - loss: 0.0063 - acc: 0.9988 - val_loss: 0.1826 - val_acc: 0.9812\n",
            "Epoch 68/100\n",
            "48000/48000 [==============================] - 22s 451us/step - loss: 0.0050 - acc: 0.9994 - val_loss: 0.1862 - val_acc: 0.9811\n",
            "Epoch 69/100\n",
            "48000/48000 [==============================] - 22s 457us/step - loss: 0.0127 - acc: 0.9980 - val_loss: 0.2132 - val_acc: 0.9764\n",
            "Epoch 70/100\n",
            "48000/48000 [==============================] - 22s 452us/step - loss: 0.0096 - acc: 0.9985 - val_loss: 0.2191 - val_acc: 0.9808\n",
            "Epoch 71/100\n",
            "48000/48000 [==============================] - 22s 462us/step - loss: 0.0172 - acc: 0.9978 - val_loss: 0.2041 - val_acc: 0.9804\n",
            "Epoch 72/100\n",
            "48000/48000 [==============================] - 22s 448us/step - loss: 0.0224 - acc: 0.9974 - val_loss: 0.1867 - val_acc: 0.9806\n",
            "Epoch 73/100\n",
            "48000/48000 [==============================] - 22s 461us/step - loss: 0.0219 - acc: 0.9972 - val_loss: 0.1776 - val_acc: 0.9806\n",
            "Epoch 74/100\n",
            "48000/48000 [==============================] - 22s 448us/step - loss: 0.0074 - acc: 0.9989 - val_loss: 0.1796 - val_acc: 0.9807\n",
            "Epoch 75/100\n",
            "48000/48000 [==============================] - 22s 463us/step - loss: 0.0123 - acc: 0.9983 - val_loss: 0.2085 - val_acc: 0.9764\n",
            "Epoch 76/100\n",
            "48000/48000 [==============================] - 22s 453us/step - loss: 0.0120 - acc: 0.9979 - val_loss: 0.1669 - val_acc: 0.9801\n",
            "Epoch 77/100\n",
            "48000/48000 [==============================] - 22s 453us/step - loss: 0.0106 - acc: 0.9981 - val_loss: 0.1764 - val_acc: 0.9806\n",
            "Epoch 78/100\n",
            "48000/48000 [==============================] - 21s 441us/step - loss: 0.0064 - acc: 0.9987 - val_loss: 0.1819 - val_acc: 0.9809\n",
            "Epoch 79/100\n",
            "48000/48000 [==============================] - 23s 472us/step - loss: 0.0068 - acc: 0.9986 - val_loss: 0.1808 - val_acc: 0.9810\n",
            "Epoch 80/100\n",
            "48000/48000 [==============================] - 22s 452us/step - loss: 0.0225 - acc: 0.9975 - val_loss: 0.2089 - val_acc: 0.9787\n",
            "Epoch 81/100\n",
            "48000/48000 [==============================] - 22s 453us/step - loss: 0.0124 - acc: 0.9980 - val_loss: 0.1842 - val_acc: 0.9798\n",
            "Epoch 82/100\n",
            "48000/48000 [==============================] - 22s 450us/step - loss: 0.0095 - acc: 0.9986 - val_loss: 0.1961 - val_acc: 0.9800\n",
            "Epoch 83/100\n",
            "48000/48000 [==============================] - 22s 458us/step - loss: 0.0126 - acc: 0.9986 - val_loss: 0.1707 - val_acc: 0.9812\n",
            "Epoch 84/100\n",
            "48000/48000 [==============================] - 21s 445us/step - loss: 0.0111 - acc: 0.9984 - val_loss: 0.1967 - val_acc: 0.9803\n",
            "Epoch 85/100\n",
            "48000/48000 [==============================] - 21s 447us/step - loss: 0.0069 - acc: 0.9989 - val_loss: 0.1949 - val_acc: 0.9797\n",
            "Epoch 86/100\n",
            "48000/48000 [==============================] - 21s 437us/step - loss: 0.0140 - acc: 0.9980 - val_loss: 0.1992 - val_acc: 0.9800\n",
            "Epoch 87/100\n",
            "48000/48000 [==============================] - 20s 415us/step - loss: 0.0225 - acc: 0.9970 - val_loss: 0.2139 - val_acc: 0.9775\n",
            "Epoch 88/100\n",
            "48000/48000 [==============================] - 19s 394us/step - loss: 0.0173 - acc: 0.9979 - val_loss: 0.2012 - val_acc: 0.9791\n",
            "Epoch 89/100\n",
            "48000/48000 [==============================] - 20s 415us/step - loss: 0.0122 - acc: 0.9981 - val_loss: 0.2009 - val_acc: 0.9794\n",
            "Epoch 90/100\n",
            "48000/48000 [==============================] - 21s 442us/step - loss: 0.0103 - acc: 0.9988 - val_loss: 0.2518 - val_acc: 0.9745\n",
            "Epoch 91/100\n",
            "48000/48000 [==============================] - 21s 447us/step - loss: 0.0134 - acc: 0.9983 - val_loss: 0.1908 - val_acc: 0.9817\n",
            "Epoch 92/100\n",
            "48000/48000 [==============================] - 21s 433us/step - loss: 0.0109 - acc: 0.9987 - val_loss: 0.1926 - val_acc: 0.9808\n",
            "Epoch 93/100\n",
            "48000/48000 [==============================] - 20s 411us/step - loss: 0.0132 - acc: 0.9984 - val_loss: 0.1823 - val_acc: 0.9797\n",
            "Epoch 94/100\n",
            "48000/48000 [==============================] - 20s 409us/step - loss: 0.0095 - acc: 0.9989 - val_loss: 0.2045 - val_acc: 0.9797\n",
            "Epoch 95/100\n",
            "48000/48000 [==============================] - 21s 430us/step - loss: 0.0186 - acc: 0.9977 - val_loss: 0.2033 - val_acc: 0.9798\n",
            "Epoch 96/100\n",
            "48000/48000 [==============================] - 20s 425us/step - loss: 0.0100 - acc: 0.9989 - val_loss: 0.1976 - val_acc: 0.9807\n",
            "Epoch 97/100\n",
            "48000/48000 [==============================] - 20s 409us/step - loss: 0.0154 - acc: 0.9984 - val_loss: 0.2277 - val_acc: 0.9801\n",
            "Epoch 98/100\n",
            "48000/48000 [==============================] - 22s 455us/step - loss: 0.0133 - acc: 0.9982 - val_loss: 0.1858 - val_acc: 0.9821\n",
            "Epoch 99/100\n",
            "48000/48000 [==============================] - 24s 506us/step - loss: 0.0278 - acc: 0.9971 - val_loss: 0.2257 - val_acc: 0.9797\n",
            "Epoch 100/100\n",
            "48000/48000 [==============================] - 19s 404us/step - loss: 0.0239 - acc: 0.9976 - val_loss: 0.2449 - val_acc: 0.9797\n"
          ],
          "name": "stdout"
        }
      ]
    },
    {
      "cell_type": "code",
      "metadata": {
        "id": "48ubqYoRyZMh",
        "colab_type": "code",
        "colab": {
          "base_uri": "https://localhost:8080/",
          "height": 573
        },
        "outputId": "d5a95878-dd6c-4870-ba39-a8f84311bc3d"
      },
      "source": [
        "show_graph(history_1)"
      ],
      "execution_count": 27,
      "outputs": [
        {
          "output_type": "display_data",
          "data": {
            "image/png": "[encoded data removed]",
            "text/plain": [
              "<Figure size 432x288 with 1 Axes>"
            ]
          },
          "metadata": {
            "tags": []
          }
        },
        {
          "output_type": "display_data",
          "data": {
            "image/png": "[encoded data removed]",
            "text/plain": [
              "<Figure size 432x288 with 1 Axes>"
            ]
          },
          "metadata": {
            "tags": []
          }
        }
      ]
    },
    {
      "cell_type": "code",
      "metadata": {
        "id": "L9YdSYGVyb86",
        "colab_type": "code",
        "colab": {
          "base_uri": "https://localhost:8080/",
          "height": 51
        },
        "outputId": "ead49562-ccc6-44bd-b071-93018222e6f2"
      },
      "source": [
        "test_loss_1, test_acc_1 = model_1.evaluate(testX, testY)\n",
        "test_loss_1 , test_acc_1"
      ],
      "execution_count": 28,
      "outputs": [
        {
          "output_type": "stream",
          "text": [
            "10000/10000 [==============================] - 1s 76us/step\n"
          ],
          "name": "stdout"
        },
        {
          "output_type": "execute_result",
          "data": {
            "text/plain": [
              "(0.21403014947198898, 0.9815)"
            ]
          },
          "metadata": {
            "tags": []
          },
          "execution_count": 28
        }
      ]
    },
    {
      "cell_type": "code",
      "metadata": {
        "id": "tm37jPGRyin_",
        "colab_type": "code",
        "colab": {
          "base_uri": "https://localhost:8080/",
          "height": 445
        },
        "outputId": "7eddb462-b490-4bfe-e23d-4ba9330a611b"
      },
      "source": [
        "model_2 = keras.Sequential([\n",
        "    keras.layers.Flatten(input_shape=(28,28)),\n",
        "    keras.layers.Dense(256, activation=tf.nn.tanh),\n",
        "    keras.layers.Dense(10, activation=tf.nn.softmax)\n",
        "])\n",
        "model_2.compile(optimizer='adam',\n",
        "              loss='sparse_categorical_crossentropy',\n",
        "              metrics=['accuracy'])\n",
        "model_2.summary()"
      ],
      "execution_count": 9,
      "outputs": [
        {
          "output_type": "stream",
          "text": [
            "WARNING:tensorflow:From /usr/local/lib/python3.6/dist-packages/keras/backend/tensorflow_backend.py:66: The name tf.get_default_graph is deprecated. Please use tf.compat.v1.get_default_graph instead.\n",
            "\n",
            "WARNING:tensorflow:From /usr/local/lib/python3.6/dist-packages/keras/backend/tensorflow_backend.py:541: The name tf.placeholder is deprecated. Please use tf.compat.v1.placeholder instead.\n",
            "\n",
            "WARNING:tensorflow:From /usr/local/lib/python3.6/dist-packages/keras/backend/tensorflow_backend.py:4432: The name tf.random_uniform is deprecated. Please use tf.random.uniform instead.\n",
            "\n",
            "WARNING:tensorflow:From /usr/local/lib/python3.6/dist-packages/keras/optimizers.py:793: The name tf.train.Optimizer is deprecated. Please use tf.compat.v1.train.Optimizer instead.\n",
            "\n",
            "WARNING:tensorflow:From /usr/local/lib/python3.6/dist-packages/keras/backend/tensorflow_backend.py:3622: The name tf.log is deprecated. Please use tf.math.log instead.\n",
            "\n",
            "Model: \"sequential_1\"\n",
            "_________________________________________________________________\n",
            "Layer (type)                 Output Shape              Param #   \n",
            "=================================================================\n",
            "flatten_1 (Flatten)          (None, 784)               0         \n",
            "_________________________________________________________________\n",
            "dense_1 (Dense)              (None, 256)               200960    \n",
            "_________________________________________________________________\n",
            "dense_2 (Dense)              (None, 10)                2570      \n",
            "=================================================================\n",
            "Total params: 203,530\n",
            "Trainable params: 203,530\n",
            "Non-trainable params: 0\n",
            "_________________________________________________________________\n"
          ],
          "name": "stdout"
        }
      ]
    },
    {
      "cell_type": "code",
      "metadata": {
        "id": "JHpJ4CzLyldw",
        "colab_type": "code",
        "colab": {
          "base_uri": "https://localhost:8080/",
          "height": 1000
        },
        "outputId": "72540559-0f71-4624-83ac-6faa8da88c9d"
      },
      "source": [
        "history_2 = model_2.fit(trainX, trainY, epochs=epochs, validation_split=validation_split,verbose=verbose, shuffle=True)"
      ],
      "execution_count": 10,
      "outputs": [
        {
          "output_type": "stream",
          "text": [
            "WARNING:tensorflow:From /usr/local/lib/python3.6/dist-packages/tensorflow/python/ops/math_grad.py:1250: add_dispatch_support.<locals>.wrapper (from tensorflow.python.ops.array_ops) is deprecated and will be removed in a future version.\n",
            "Instructions for updating:\n",
            "Use tf.where in 2.0, which has the same broadcast rule as np.where\n",
            "WARNING:tensorflow:From /usr/local/lib/python3.6/dist-packages/keras/backend/tensorflow_backend.py:1033: The name tf.assign_add is deprecated. Please use tf.compat.v1.assign_add instead.\n",
            "\n",
            "Train on 48000 samples, validate on 12000 samples\n",
            "Epoch 1/100\n",
            "48000/48000 [==============================] - 7s 143us/step - loss: 0.2972 - acc: 0.9133 - val_loss: 0.1652 - val_acc: 0.9545\n",
            "Epoch 2/100\n",
            "48000/48000 [==============================] - 6s 131us/step - loss: 0.1402 - acc: 0.9586 - val_loss: 0.1219 - val_acc: 0.9645\n",
            "Epoch 3/100\n",
            "48000/48000 [==============================] - 6s 129us/step - loss: 0.0936 - acc: 0.9721 - val_loss: 0.0969 - val_acc: 0.9702\n",
            "Epoch 4/100\n",
            "48000/48000 [==============================] - 6s 131us/step - loss: 0.0656 - acc: 0.9802 - val_loss: 0.0979 - val_acc: 0.9709\n",
            "Epoch 5/100\n",
            "48000/48000 [==============================] - 6s 130us/step - loss: 0.0458 - acc: 0.9872 - val_loss: 0.0781 - val_acc: 0.9752\n",
            "Epoch 6/100\n",
            "48000/48000 [==============================] - 6s 129us/step - loss: 0.0328 - acc: 0.9911 - val_loss: 0.0873 - val_acc: 0.9732\n",
            "Epoch 7/100\n",
            "48000/48000 [==============================] - 6s 126us/step - loss: 0.0241 - acc: 0.9929 - val_loss: 0.0841 - val_acc: 0.9758\n",
            "Epoch 8/100\n",
            "48000/48000 [==============================] - 6s 130us/step - loss: 0.0186 - acc: 0.9951 - val_loss: 0.0789 - val_acc: 0.9765\n",
            "Epoch 9/100\n",
            "48000/48000 [==============================] - 6s 128us/step - loss: 0.0128 - acc: 0.9971 - val_loss: 0.0805 - val_acc: 0.9774\n",
            "Epoch 10/100\n",
            "48000/48000 [==============================] - 6s 129us/step - loss: 0.0101 - acc: 0.9976 - val_loss: 0.0884 - val_acc: 0.9748\n",
            "Epoch 11/100\n",
            "48000/48000 [==============================] - 6s 129us/step - loss: 0.0080 - acc: 0.9983 - val_loss: 0.0841 - val_acc: 0.9762\n",
            "Epoch 12/100\n",
            "48000/48000 [==============================] - 6s 127us/step - loss: 0.0072 - acc: 0.9982 - val_loss: 0.0912 - val_acc: 0.9754\n",
            "Epoch 13/100\n",
            "48000/48000 [==============================] - 6s 128us/step - loss: 0.0053 - acc: 0.9988 - val_loss: 0.0987 - val_acc: 0.9741\n",
            "Epoch 14/100\n",
            "48000/48000 [==============================] - 6s 130us/step - loss: 0.0047 - acc: 0.9991 - val_loss: 0.0986 - val_acc: 0.9766\n",
            "Epoch 15/100\n",
            "48000/48000 [==============================] - 6s 132us/step - loss: 0.0052 - acc: 0.9987 - val_loss: 0.0878 - val_acc: 0.9779\n",
            "Epoch 16/100\n",
            "48000/48000 [==============================] - 6s 129us/step - loss: 0.0012 - acc: 0.9999 - val_loss: 0.0895 - val_acc: 0.9785\n",
            "Epoch 17/100\n",
            "48000/48000 [==============================] - 6s 129us/step - loss: 0.0075 - acc: 0.9976 - val_loss: 0.1000 - val_acc: 0.9772\n",
            "Epoch 18/100\n",
            "48000/48000 [==============================] - 6s 131us/step - loss: 8.8535e-04 - acc: 1.0000 - val_loss: 0.0879 - val_acc: 0.9781\n",
            "Epoch 19/100\n",
            "48000/48000 [==============================] - 6s 128us/step - loss: 3.7260e-04 - acc: 1.0000 - val_loss: 0.0907 - val_acc: 0.9793\n",
            "Epoch 20/100\n",
            "48000/48000 [==============================] - 6s 128us/step - loss: 0.0023 - acc: 0.9994 - val_loss: 0.1566 - val_acc: 0.9648\n",
            "Epoch 21/100\n",
            "48000/48000 [==============================] - 6s 128us/step - loss: 0.0075 - acc: 0.9979 - val_loss: 0.0984 - val_acc: 0.9769\n",
            "Epoch 22/100\n",
            "48000/48000 [==============================] - 6s 128us/step - loss: 7.7410e-04 - acc: 0.9999 - val_loss: 0.0959 - val_acc: 0.9787\n",
            "Epoch 23/100\n",
            "48000/48000 [==============================] - 6s 128us/step - loss: 2.6099e-04 - acc: 1.0000 - val_loss: 0.0929 - val_acc: 0.9787\n",
            "Epoch 24/100\n",
            "48000/48000 [==============================] - 6s 128us/step - loss: 0.0057 - acc: 0.9982 - val_loss: 0.1166 - val_acc: 0.9742\n",
            "Epoch 25/100\n",
            "48000/48000 [==============================] - 6s 130us/step - loss: 0.0039 - acc: 0.9988 - val_loss: 0.0959 - val_acc: 0.9792\n",
            "Epoch 26/100\n",
            "48000/48000 [==============================] - 6s 126us/step - loss: 2.6922e-04 - acc: 1.0000 - val_loss: 0.0966 - val_acc: 0.9782\n",
            "Epoch 27/100\n",
            "48000/48000 [==============================] - 6s 128us/step - loss: 1.3293e-04 - acc: 1.0000 - val_loss: 0.0970 - val_acc: 0.9796\n",
            "Epoch 28/100\n",
            "48000/48000 [==============================] - 6s 127us/step - loss: 9.9038e-05 - acc: 1.0000 - val_loss: 0.0982 - val_acc: 0.9798\n",
            "Epoch 29/100\n",
            "48000/48000 [==============================] - 7s 137us/step - loss: 0.0034 - acc: 0.9989 - val_loss: 0.1557 - val_acc: 0.9688\n",
            "Epoch 30/100\n",
            "48000/48000 [==============================] - 7s 135us/step - loss: 0.0051 - acc: 0.9983 - val_loss: 0.1010 - val_acc: 0.9768\n",
            "Epoch 31/100\n",
            "48000/48000 [==============================] - 6s 127us/step - loss: 6.4393e-04 - acc: 0.9999 - val_loss: 0.1019 - val_acc: 0.9781\n",
            "Epoch 32/100\n",
            "48000/48000 [==============================] - 6s 129us/step - loss: 0.0029 - acc: 0.9991 - val_loss: 0.1054 - val_acc: 0.9785\n",
            "Epoch 33/100\n",
            "48000/48000 [==============================] - 6s 128us/step - loss: 0.0015 - acc: 0.9997 - val_loss: 0.1037 - val_acc: 0.9777\n",
            "Epoch 34/100\n",
            "48000/48000 [==============================] - 6s 128us/step - loss: 0.0034 - acc: 0.9990 - val_loss: 0.1089 - val_acc: 0.9755\n",
            "Epoch 35/100\n",
            "48000/48000 [==============================] - 6s 127us/step - loss: 0.0012 - acc: 0.9997 - val_loss: 0.1068 - val_acc: 0.9777\n",
            "Epoch 36/100\n",
            "48000/48000 [==============================] - 6s 126us/step - loss: 0.0019 - acc: 0.9995 - val_loss: 0.1185 - val_acc: 0.9759\n",
            "Epoch 37/100\n",
            "48000/48000 [==============================] - 6s 126us/step - loss: 0.0022 - acc: 0.9993 - val_loss: 0.1109 - val_acc: 0.9768\n",
            "Epoch 38/100\n",
            "48000/48000 [==============================] - 6s 126us/step - loss: 1.7957e-04 - acc: 1.0000 - val_loss: 0.1061 - val_acc: 0.9787\n",
            "Epoch 39/100\n",
            "48000/48000 [==============================] - 6s 125us/step - loss: 5.5148e-05 - acc: 1.0000 - val_loss: 0.1052 - val_acc: 0.9792\n",
            "Epoch 40/100\n",
            "48000/48000 [==============================] - 6s 125us/step - loss: 3.5307e-05 - acc: 1.0000 - val_loss: 0.1054 - val_acc: 0.9796\n",
            "Epoch 41/100\n",
            "48000/48000 [==============================] - 6s 126us/step - loss: 2.5639e-05 - acc: 1.0000 - val_loss: 0.1060 - val_acc: 0.9796\n",
            "Epoch 42/100\n",
            "48000/48000 [==============================] - 6s 125us/step - loss: 1.8932e-05 - acc: 1.0000 - val_loss: 0.1097 - val_acc: 0.9790\n",
            "Epoch 43/100\n",
            "48000/48000 [==============================] - 6s 125us/step - loss: 0.0043 - acc: 0.9986 - val_loss: 0.1310 - val_acc: 0.9756\n",
            "Epoch 44/100\n",
            "48000/48000 [==============================] - 6s 125us/step - loss: 0.0025 - acc: 0.9992 - val_loss: 0.1132 - val_acc: 0.9778\n",
            "Epoch 45/100\n",
            "48000/48000 [==============================] - 6s 125us/step - loss: 2.2607e-04 - acc: 1.0000 - val_loss: 0.1047 - val_acc: 0.9805\n",
            "Epoch 46/100\n",
            "48000/48000 [==============================] - 6s 124us/step - loss: 4.3108e-05 - acc: 1.0000 - val_loss: 0.1043 - val_acc: 0.9799\n",
            "Epoch 47/100\n",
            "48000/48000 [==============================] - 6s 126us/step - loss: 2.7518e-05 - acc: 1.0000 - val_loss: 0.1048 - val_acc: 0.9798\n",
            "Epoch 48/100\n",
            "48000/48000 [==============================] - 6s 126us/step - loss: 1.9539e-05 - acc: 1.0000 - val_loss: 0.1066 - val_acc: 0.9799\n",
            "Epoch 49/100\n",
            "48000/48000 [==============================] - 6s 123us/step - loss: 1.4488e-05 - acc: 1.0000 - val_loss: 0.1081 - val_acc: 0.9792\n",
            "Epoch 50/100\n",
            "48000/48000 [==============================] - 6s 124us/step - loss: 1.0394e-05 - acc: 1.0000 - val_loss: 0.1094 - val_acc: 0.9801\n",
            "Epoch 51/100\n",
            "48000/48000 [==============================] - 6s 124us/step - loss: 0.0067 - acc: 0.9978 - val_loss: 0.1323 - val_acc: 0.9760\n",
            "Epoch 52/100\n",
            "48000/48000 [==============================] - 6s 123us/step - loss: 0.0017 - acc: 0.9994 - val_loss: 0.1198 - val_acc: 0.9781\n",
            "Epoch 53/100\n",
            "48000/48000 [==============================] - 6s 122us/step - loss: 3.2155e-04 - acc: 0.9999 - val_loss: 0.1209 - val_acc: 0.9783\n",
            "Epoch 54/100\n",
            "48000/48000 [==============================] - 6s 122us/step - loss: 7.5079e-05 - acc: 1.0000 - val_loss: 0.1142 - val_acc: 0.9792\n",
            "Epoch 55/100\n",
            "48000/48000 [==============================] - 6s 121us/step - loss: 2.5141e-05 - acc: 1.0000 - val_loss: 0.1146 - val_acc: 0.9796\n",
            "Epoch 56/100\n",
            "48000/48000 [==============================] - 6s 120us/step - loss: 1.6725e-05 - acc: 1.0000 - val_loss: 0.1155 - val_acc: 0.9796\n",
            "Epoch 57/100\n",
            "48000/48000 [==============================] - 6s 120us/step - loss: 1.2262e-05 - acc: 1.0000 - val_loss: 0.1156 - val_acc: 0.9794\n",
            "Epoch 58/100\n",
            "48000/48000 [==============================] - 6s 121us/step - loss: 9.0925e-06 - acc: 1.0000 - val_loss: 0.1164 - val_acc: 0.9793\n",
            "Epoch 59/100\n",
            "48000/48000 [==============================] - 6s 121us/step - loss: 0.0059 - acc: 0.9981 - val_loss: 0.1358 - val_acc: 0.9758\n",
            "Epoch 60/100\n",
            "48000/48000 [==============================] - 6s 121us/step - loss: 0.0015 - acc: 0.9996 - val_loss: 0.1323 - val_acc: 0.9763\n",
            "Epoch 61/100\n",
            "48000/48000 [==============================] - 6s 121us/step - loss: 2.6385e-04 - acc: 1.0000 - val_loss: 0.1476 - val_acc: 0.9752\n",
            "Epoch 62/100\n",
            "48000/48000 [==============================] - 6s 120us/step - loss: 0.0018 - acc: 0.9994 - val_loss: 0.1261 - val_acc: 0.9765\n",
            "Epoch 63/100\n",
            "48000/48000 [==============================] - 6s 120us/step - loss: 3.6614e-04 - acc: 1.0000 - val_loss: 0.1252 - val_acc: 0.9773\n",
            "Epoch 64/100\n",
            "48000/48000 [==============================] - 6s 121us/step - loss: 5.4385e-05 - acc: 1.0000 - val_loss: 0.1251 - val_acc: 0.9773\n",
            "Epoch 65/100\n",
            "48000/48000 [==============================] - 6s 122us/step - loss: 1.5465e-05 - acc: 1.0000 - val_loss: 0.1238 - val_acc: 0.9776\n",
            "Epoch 66/100\n",
            "48000/48000 [==============================] - 6s 122us/step - loss: 1.0729e-05 - acc: 1.0000 - val_loss: 0.1244 - val_acc: 0.9777\n",
            "Epoch 67/100\n",
            "48000/48000 [==============================] - 6s 123us/step - loss: 7.9428e-06 - acc: 1.0000 - val_loss: 0.1237 - val_acc: 0.9778\n",
            "Epoch 68/100\n",
            "48000/48000 [==============================] - 6s 123us/step - loss: 5.8764e-06 - acc: 1.0000 - val_loss: 0.1253 - val_acc: 0.9782\n",
            "Epoch 69/100\n",
            "48000/48000 [==============================] - 6s 123us/step - loss: 4.5421e-06 - acc: 1.0000 - val_loss: 0.1248 - val_acc: 0.9782\n",
            "Epoch 70/100\n",
            "48000/48000 [==============================] - 6s 122us/step - loss: 3.5601e-06 - acc: 1.0000 - val_loss: 0.1292 - val_acc: 0.9774\n",
            "Epoch 71/100\n",
            "48000/48000 [==============================] - 6s 123us/step - loss: 0.0059 - acc: 0.9981 - val_loss: 0.1254 - val_acc: 0.9769\n",
            "Epoch 72/100\n",
            "48000/48000 [==============================] - 6s 125us/step - loss: 6.0913e-04 - acc: 0.9999 - val_loss: 0.1307 - val_acc: 0.9782\n",
            "Epoch 73/100\n",
            "48000/48000 [==============================] - 6s 123us/step - loss: 4.0614e-05 - acc: 1.0000 - val_loss: 0.1246 - val_acc: 0.9782\n",
            "Epoch 74/100\n",
            "48000/48000 [==============================] - 6s 123us/step - loss: 1.5638e-05 - acc: 1.0000 - val_loss: 0.1237 - val_acc: 0.9789\n",
            "Epoch 75/100\n",
            "48000/48000 [==============================] - 6s 123us/step - loss: 1.0632e-05 - acc: 1.0000 - val_loss: 0.1234 - val_acc: 0.9784\n",
            "Epoch 76/100\n",
            "48000/48000 [==============================] - 6s 124us/step - loss: 7.5936e-06 - acc: 1.0000 - val_loss: 0.1237 - val_acc: 0.9789\n",
            "Epoch 77/100\n",
            "48000/48000 [==============================] - 6s 123us/step - loss: 5.5159e-06 - acc: 1.0000 - val_loss: 0.1245 - val_acc: 0.9787\n",
            "Epoch 78/100\n",
            "48000/48000 [==============================] - 6s 124us/step - loss: 4.0056e-06 - acc: 1.0000 - val_loss: 0.1255 - val_acc: 0.9792\n",
            "Epoch 79/100\n",
            "48000/48000 [==============================] - 6s 123us/step - loss: 3.0470e-06 - acc: 1.0000 - val_loss: 0.1268 - val_acc: 0.9787\n",
            "Epoch 80/100\n",
            "48000/48000 [==============================] - 6s 128us/step - loss: 0.0028 - acc: 0.9992 - val_loss: 0.1629 - val_acc: 0.9728\n",
            "Epoch 81/100\n",
            "48000/48000 [==============================] - 6s 132us/step - loss: 0.0024 - acc: 0.9991 - val_loss: 0.1364 - val_acc: 0.9771\n",
            "Epoch 82/100\n",
            "48000/48000 [==============================] - 6s 133us/step - loss: 1.1101e-04 - acc: 1.0000 - val_loss: 0.1275 - val_acc: 0.9780\n",
            "Epoch 83/100\n",
            "48000/48000 [==============================] - 6s 126us/step - loss: 1.9519e-05 - acc: 1.0000 - val_loss: 0.1272 - val_acc: 0.9795\n",
            "Epoch 84/100\n",
            "48000/48000 [==============================] - 6s 122us/step - loss: 1.0080e-05 - acc: 1.0000 - val_loss: 0.1279 - val_acc: 0.9798\n",
            "Epoch 85/100\n",
            "48000/48000 [==============================] - 6s 123us/step - loss: 6.9119e-06 - acc: 1.0000 - val_loss: 0.1287 - val_acc: 0.9797\n",
            "Epoch 86/100\n",
            "48000/48000 [==============================] - 6s 123us/step - loss: 5.0591e-06 - acc: 1.0000 - val_loss: 0.1294 - val_acc: 0.9796\n",
            "Epoch 87/100\n",
            "48000/48000 [==============================] - 6s 123us/step - loss: 3.6829e-06 - acc: 1.0000 - val_loss: 0.1295 - val_acc: 0.9796\n",
            "Epoch 88/100\n",
            "48000/48000 [==============================] - 6s 124us/step - loss: 2.7976e-06 - acc: 1.0000 - val_loss: 0.1309 - val_acc: 0.9797\n",
            "Epoch 89/100\n",
            "48000/48000 [==============================] - 6s 124us/step - loss: 2.2335e-06 - acc: 1.0000 - val_loss: 0.1322 - val_acc: 0.9795\n",
            "Epoch 90/100\n",
            "48000/48000 [==============================] - 6s 124us/step - loss: 0.0045 - acc: 0.9986 - val_loss: 0.1465 - val_acc: 0.9755\n",
            "Epoch 91/100\n",
            "48000/48000 [==============================] - 6s 124us/step - loss: 0.0020 - acc: 0.9994 - val_loss: 0.1450 - val_acc: 0.9765\n",
            "Epoch 92/100\n",
            "48000/48000 [==============================] - 6s 122us/step - loss: 2.0350e-04 - acc: 1.0000 - val_loss: 0.1329 - val_acc: 0.9778\n",
            "Epoch 93/100\n",
            "48000/48000 [==============================] - 6s 122us/step - loss: 3.6200e-05 - acc: 1.0000 - val_loss: 0.1336 - val_acc: 0.9779\n",
            "Epoch 94/100\n",
            "48000/48000 [==============================] - 6s 121us/step - loss: 1.0836e-05 - acc: 1.0000 - val_loss: 0.1335 - val_acc: 0.9782\n",
            "Epoch 95/100\n",
            "48000/48000 [==============================] - 6s 121us/step - loss: 6.5027e-06 - acc: 1.0000 - val_loss: 0.1336 - val_acc: 0.9778\n",
            "Epoch 96/100\n",
            "48000/48000 [==============================] - 6s 120us/step - loss: 4.7491e-06 - acc: 1.0000 - val_loss: 0.1341 - val_acc: 0.9774\n",
            "Epoch 97/100\n",
            "48000/48000 [==============================] - 6s 121us/step - loss: 3.5498e-06 - acc: 1.0000 - val_loss: 0.1347 - val_acc: 0.9779\n",
            "Epoch 98/100\n",
            "48000/48000 [==============================] - 6s 121us/step - loss: 2.7417e-06 - acc: 1.0000 - val_loss: 0.1343 - val_acc: 0.9782\n",
            "Epoch 99/100\n",
            "48000/48000 [==============================] - 6s 121us/step - loss: 2.1548e-06 - acc: 1.0000 - val_loss: 0.1353 - val_acc: 0.9782\n",
            "Epoch 100/100\n",
            "48000/48000 [==============================] - 6s 122us/step - loss: 1.7536e-06 - acc: 1.0000 - val_loss: 0.1367 - val_acc: 0.9778\n"
          ],
          "name": "stdout"
        }
      ]
    },
    {
      "cell_type": "code",
      "metadata": {
        "id": "ugUPJW8SymEU",
        "colab_type": "code",
        "colab": {
          "base_uri": "https://localhost:8080/",
          "height": 573
        },
        "outputId": "1ce37bc6-b362-4f79-b008-7b1e9a7046b5"
      },
      "source": [
        "show_graph(history_2)"
      ],
      "execution_count": 11,
      "outputs": [
        {
          "output_type": "display_data",
          "data": {
            "image/png": "[encoded data removed]",
            "text/plain": [
              "<Figure size 432x288 with 1 Axes>"
            ]
          },
          "metadata": {
            "tags": []
          }
        },
        {
          "output_type": "display_data",
          "data": {
            "image/png": "[encoded data removed]",
            "text/plain": [
              "<Figure size 432x288 with 1 Axes>"
            ]
          },
          "metadata": {
            "tags": []
          }
        }
      ]
    },
    {
      "cell_type": "code",
      "metadata": {
        "id": "TI_nzqhkysBs",
        "colab_type": "code",
        "colab": {
          "base_uri": "https://localhost:8080/",
          "height": 51
        },
        "outputId": "c24a0d08-f028-4339-e841-b0969c6c9b97"
      },
      "source": [
        "test_loss_2, test_acc_2 = model_2.evaluate(testX, testY)\n",
        "test_loss_2, test_acc_2"
      ],
      "execution_count": 12,
      "outputs": [
        {
          "output_type": "stream",
          "text": [
            "10000/10000 [==============================] - 0s 33us/step\n"
          ],
          "name": "stdout"
        },
        {
          "output_type": "execute_result",
          "data": {
            "text/plain": [
              "(0.12034825778286504, 0.9804)"
            ]
          },
          "metadata": {
            "tags": []
          },
          "execution_count": 12
        }
      ]
    }
  ]
}