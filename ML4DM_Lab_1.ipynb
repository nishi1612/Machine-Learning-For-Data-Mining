{
  "nbformat": 4,
  "nbformat_minor": 0,
  "metadata": {
    "colab": {
      "name": "ML4DM_Lab_1.ipynb",
      "version": "0.3.2",
      "provenance": [],
      "collapsed_sections": [],
      "include_colab_link": true
    },
    "kernelspec": {
      "name": "python3",
      "display_name": "Python 3"
    },
    "accelerator": "TPU"
  },
  "cells": [
    {
      "cell_type": "markdown",
      "metadata": {
        "id": "view-in-github",
        "colab_type": "text"
      },
      "source": [
        "<a href=\"https://colab.research.google.com/github/nishi1612/Machine-Learning-For-Data-Mining/blob/master/ML4DM_Lab_1.ipynb\" target=\"_parent\"><img src=\"https://colab.research.google.com/assets/colab-badge.svg\" alt=\"Open In Colab\"/></a>"
      ]
    },
    {
      "cell_type": "code",
      "metadata": {
        "id": "I2DI6ohig2KK",
        "colab_type": "code",
        "colab": {}
      },
      "source": [
        "import numpy as np\n",
        "import matplotlib.pyplot as plt\n",
        "import pandas as pd\n",
        "import math"
      ],
      "execution_count": 0,
      "outputs": []
    },
    {
      "cell_type": "code",
      "metadata": {
        "id": "q7yudYUfAx7z",
        "colab_type": "code",
        "colab": {}
      },
      "source": [
        "def graph():\n",
        "  plt.xlabel('$x$')\n",
        "  plt.ylabel('$y$')\n",
        "  plt.show()"
      ],
      "execution_count": 0,
      "outputs": []
    },
    {
      "cell_type": "code",
      "metadata": {
        "id": "6CWeUlPNgyYK",
        "colab_type": "code",
        "colab": {}
      },
      "source": [
        "N = 50\n",
        "M = 2"
      ],
      "execution_count": 0,
      "outputs": []
    },
    {
      "cell_type": "code",
      "metadata": {
        "id": "VS6CM-YIg5-a",
        "colab_type": "code",
        "colab": {}
      },
      "source": [
        "def generate_input(N,M):\n",
        "  mu = np.random.random((M,1))\n",
        "  sigma = np.random.random((M,1))\n",
        "  X = np.ones((N,M+1))\n",
        "  for i in range(M):\n",
        "     X[:,i] = np.random.normal(mu[i],sigma[i],N)\n",
        "  return X"
      ],
      "execution_count": 0,
      "outputs": []
    },
    {
      "cell_type": "code",
      "metadata": {
        "id": "Q-OLZflMOAsN",
        "colab_type": "code",
        "colab": {}
      },
      "source": [
        "def predict_output(X,weight):\n",
        "  return np.matmul(X,weight)"
      ],
      "execution_count": 0,
      "outputs": []
    },
    {
      "cell_type": "code",
      "metadata": {
        "id": "a2wBXtI8kyeO",
        "colab_type": "code",
        "colab": {}
      },
      "source": [
        "def generate_output(X,M):\n",
        "  weight = np.random.random((M+1,1))\n",
        "  Y = predict_output(X,weight)\n",
        "  return weight, Y"
      ],
      "execution_count": 0,
      "outputs": []
    },
    {
      "cell_type": "code",
      "metadata": {
        "id": "YM1BiR04nXjI",
        "colab_type": "code",
        "colab": {}
      },
      "source": [
        "def add_noise(Y,N):\n",
        "  noise = np.random.random((N,1))\n",
        "  Y_noise = Y+noise\n",
        "  return Y_noise"
      ],
      "execution_count": 0,
      "outputs": []
    },
    {
      "cell_type": "code",
      "metadata": {
        "id": "znVSseT4nrDa",
        "colab_type": "code",
        "colab": {}
      },
      "source": [
        "def closed_form(X,Y_noise):\n",
        "  a = np.linalg.inv(np.matmul(X.transpose(),X))\n",
        "  b = np.matmul(a,X.transpose())\n",
        "  weight_predicted = np.matmul(b,Y_noise)\n",
        "  return weight_predicted"
      ],
      "execution_count": 0,
      "outputs": []
    },
    {
      "cell_type": "code",
      "metadata": {
        "id": "wOLhsly9u3RI",
        "colab_type": "code",
        "colab": {}
      },
      "source": [
        "def calculate_mse(y_predicted,y,N):\n",
        "  mse = np.sum((y_predicted - y)**2)\n",
        "  return mse/N"
      ],
      "execution_count": 0,
      "outputs": []
    },
    {
      "cell_type": "markdown",
      "metadata": {
        "id": "9tdUc-u9jBqv",
        "colab_type": "text"
      },
      "source": [
        "**Closed form solution**"
      ]
    },
    {
      "cell_type": "code",
      "metadata": {
        "id": "4BANM5cKroK-",
        "colab_type": "code",
        "outputId": "2df0f673-29a8-46b7-b817-f490e24ff16a",
        "colab": {
          "base_uri": "https://localhost:8080/",
          "height": 34
        }
      },
      "source": [
        "X = generate_input(N,M)\n",
        "weight, Y = generate_output(X,M)\n",
        "Y_noise = add_noise(Y,N)\n",
        "weight_predicted = closed_form(X,Y_noise)\n",
        "y_predicted = predict_output(X,weight_predicted)\n",
        "mse = calculate_mse(y_predicted,Y_noise,N)\n",
        "mse"
      ],
      "execution_count": 0,
      "outputs": [
        {
          "output_type": "execute_result",
          "data": {
            "text/plain": [
              "0.06779247294855101"
            ]
          },
          "metadata": {
            "tags": []
          },
          "execution_count": 27
        }
      ]
    },
    {
      "cell_type": "code",
      "metadata": {
        "id": "cS78HzjXp-cY",
        "colab_type": "code",
        "outputId": "6b805b23-737e-4f99-d6d0-ffcba3dad664",
        "colab": {
          "base_uri": "https://localhost:8080/",
          "height": 34
        }
      },
      "source": [
        "X.shape, weight.shape"
      ],
      "execution_count": 0,
      "outputs": [
        {
          "output_type": "execute_result",
          "data": {
            "text/plain": [
              "((50, 3), (3, 1))"
            ]
          },
          "metadata": {
            "tags": []
          },
          "execution_count": 28
        }
      ]
    },
    {
      "cell_type": "code",
      "metadata": {
        "id": "kHcsjNzPy9ny",
        "colab_type": "code",
        "colab": {}
      },
      "source": [
        "def gradient_descent(X,Y):\n",
        "  epochs = 1000000\n",
        "  alphas = [0.0000001]\n",
        "  for alpha in alphas:\n",
        "    theta = np.ones((X.shape[1],1))\n",
        "    h = predict_output(X,theta)\n",
        "    cost = np.zeros((epochs,1))\n",
        "    for i in range(epochs):\n",
        "        theta[0] = theta[0] - alpha*np.sum(h-Y)/X.shape[0]\n",
        "        for j in range(1,X.shape[1]):\n",
        "          theta[j] = theta[j] - alpha/X.shape[0] * np.sum((h-Y)*X[:,j])\n",
        "          h = predict_output(X,theta)\n",
        "        cost[i] = calculate_mse(Y,h,X.shape[0])\n",
        "        if(i>0 and cost[i]>cost[i-1]):\n",
        "          epochs = i\n",
        "          break\n",
        "        if(i%50000==0):\n",
        "          print(\"Epoch : \" , i , \" Cost : \" , cost[i])\n",
        "    plt.plot(np.arange(epochs),cost[:epochs])\n",
        "    plt.xlabel('Epochs')\n",
        "    plt.ylabel('Cost')\n",
        "    plt.title('Cost v/s Epoch for gradient descent')\n",
        "    plt.show()\n",
        "    if(alpha==0.0000001):\n",
        "      return theta"
      ],
      "execution_count": 0,
      "outputs": []
    },
    {
      "cell_type": "markdown",
      "metadata": {
        "id": "jVqbwxnIjIL4",
        "colab_type": "text"
      },
      "source": [
        "**Gradient Descent Method for multi variable linear regression**"
      ]
    },
    {
      "cell_type": "code",
      "metadata": {
        "id": "jGDa8pi8IK_X",
        "colab_type": "code",
        "outputId": "e405b2ad-586c-484f-8bc8-14ea05c53401",
        "colab": {
          "base_uri": "https://localhost:8080/",
          "height": 652
        }
      },
      "source": [
        "weight_predicted = gradient_descent(X,Y_noise)\n",
        "y_predicted = predict_output(X,weight_predicted)\n",
        "mse = calculate_mse(y_predicted,Y_noise,N)\n",
        "mse"
      ],
      "execution_count": 0,
      "outputs": [
        {
          "output_type": "stream",
          "text": [
            "Epoch :  0  Cost :  [1.12145015]\n",
            "Epoch :  50000  Cost :  [0.61337244]\n",
            "Epoch :  100000  Cost :  [0.36072773]\n",
            "Epoch :  150000  Cost :  [0.2344388]\n",
            "Epoch :  200000  Cost :  [0.17085471]\n",
            "Epoch :  250000  Cost :  [0.13852735]\n",
            "Epoch :  300000  Cost :  [0.12187705]\n",
            "Epoch :  350000  Cost :  [0.11315618]\n",
            "Epoch :  400000  Cost :  [0.10849162]\n",
            "Epoch :  450000  Cost :  [0.10593307]\n",
            "Epoch :  500000  Cost :  [0.10448878]\n",
            "Epoch :  550000  Cost :  [0.10364785]\n",
            "Epoch :  600000  Cost :  [0.10314259]\n",
            "Epoch :  650000  Cost :  [0.1028298]\n",
            "Epoch :  700000  Cost :  [0.10263086]\n",
            "Epoch :  750000  Cost :  [0.10250142]\n",
            "Epoch :  800000  Cost :  [0.10241559]\n",
            "Epoch :  850000  Cost :  [0.10235785]\n",
            "Epoch :  900000  Cost :  [0.10231858]\n",
            "Epoch :  950000  Cost :  [0.10229163]\n"
          ],
          "name": "stdout"
        },
        {
          "output_type": "display_data",
          "data": {
            "image/png": "[encoded data removed]",
            "text/plain": [
              "<Figure size 432x288 with 1 Axes>"
            ]
          },
          "metadata": {
            "tags": []
          }
        },
        {
          "output_type": "execute_result",
          "data": {
            "text/plain": [
              "0.10227304034479473"
            ]
          },
          "metadata": {
            "tags": []
          },
          "execution_count": 30
        }
      ]
    },
    {
      "cell_type": "code",
      "metadata": {
        "id": "MndHx1anc-EE",
        "colab_type": "code",
        "colab": {}
      },
      "source": [
        "def sigmoid(z):\n",
        "  return 1/(1+np.exp(-z))"
      ],
      "execution_count": 0,
      "outputs": []
    },
    {
      "cell_type": "code",
      "metadata": {
        "id": "ddDDpm-QdFnm",
        "colab_type": "code",
        "colab": {}
      },
      "source": [
        "def logistic_cost(y_actual,y_predicted):\n",
        "  return np.sum(((-y_actual*np.log(y_predicted)) - ((1-y_actual)*np.log(1-y_predicted))))/y_predicted.shape[0]"
      ],
      "execution_count": 0,
      "outputs": []
    },
    {
      "cell_type": "code",
      "metadata": {
        "id": "KimtELtPd5ZS",
        "colab_type": "code",
        "colab": {}
      },
      "source": [
        "def logistic_output(X,theta):\n",
        "  t = sigmoid(np.dot(X,theta))\n",
        "  for i in range(t.shape[0]):\n",
        "    if(t[i]<0.5):\n",
        "      t[i]=0\n",
        "    else:\n",
        "      t[i]=1\n",
        "  return t"
      ],
      "execution_count": 0,
      "outputs": []
    },
    {
      "cell_type": "code",
      "metadata": {
        "id": "-DoQJFdyP3GL",
        "colab_type": "code",
        "colab": {}
      },
      "source": [
        "def logistic_gradient_descent(X,Y):\n",
        "  epochs = 1000000\n",
        "  alphas = [0.000001]\n",
        "  for alpha in alphas:\n",
        "    theta = np.ones((X.shape[1],1))\n",
        "    h = sigmoid(np.dot(X,theta))\n",
        "    cost = np.zeros((epochs,1))\n",
        "    for i in range(epochs):\n",
        "      theta[0] = theta[0] - alpha*np.sum(h-Y)/X.shape[0]\n",
        "      for j in range(1,X.shape[1]):\n",
        "        theta[j] = theta[j] - alpha/X.shape[0] * np.sum((h-Y)*X[:,j])\n",
        "        h = sigmoid(np.dot(X,theta))\n",
        "      cost[i] = logistic_cost(Y,h)\n",
        "      if(i>0 and cost[i]>cost[i-1]):\n",
        "        epochs = i\n",
        "        break\n",
        "      if(i%50000==0):\n",
        "        print(\"Epoch : \" , i , \" Cost : \" , cost[i])\n",
        "    plt.plot(np.arange(epochs),cost)\n",
        "    plt.xlabel('Epochs')\n",
        "    plt.ylabel('Cost')\n",
        "    plt.title('Cost v/s Epoch for gradient descent')\n",
        "    plt.show()\n",
        "    if(alpha==0.000001):\n",
        "      return theta"
      ],
      "execution_count": 0,
      "outputs": []
    },
    {
      "cell_type": "code",
      "metadata": {
        "id": "X_MZN2m0Pa6M",
        "colab_type": "code",
        "colab": {}
      },
      "source": [
        "def prediction_table(y_actual,y_predicted):\n",
        "  table = pd.DataFrame(columns=['Positive','Negative'])\n",
        "  tp = 0\n",
        "  tn = 0\n",
        "  fp = 0\n",
        "  fn = 0\n",
        "  for i in range(y_predicted.shape[0]):\n",
        "    if(y_actual[i]==1):\n",
        "      if(y_predicted[i]==1):\n",
        "        tp+=1\n",
        "      else:\n",
        "        fn+=1\n",
        "    elif(y_actual[i]==0):\n",
        "      if(y_predicted[i]==1):\n",
        "        fp+=1\n",
        "      else:\n",
        "        tn+=1\n",
        "  table.loc['Positive'] = [tp,fp]\n",
        "  table.loc['Negative'] = [fn,tn]\n",
        "  return table"
      ],
      "execution_count": 0,
      "outputs": []
    },
    {
      "cell_type": "markdown",
      "metadata": {
        "id": "ZMFC-KTIk8Pt",
        "colab_type": "text"
      },
      "source": [
        "**Gradient Descent Solution for multi variable logistic regression**"
      ]
    },
    {
      "cell_type": "code",
      "metadata": {
        "id": "rpL0BxgEHst_",
        "colab_type": "code",
        "outputId": "612f6bb8-5a54-45f3-abc2-9b5e3f10c300",
        "colab": {
          "base_uri": "https://localhost:8080/",
          "height": 295
        }
      },
      "source": [
        "x = np.random.uniform(-5,5,(100,1))\n",
        "y = np.random.uniform(0,1,(100,1))\n",
        "plt.scatter(x,y)\n",
        "plt.title('Scatter Graph for randomly generated data')\n",
        "graph()"
      ],
      "execution_count": 0,
      "outputs": [
        {
          "output_type": "display_data",
          "data": {
            "image/png": "[encoded data removed]",
            "text/plain": [
              "<Figure size 432x288 with 1 Axes>"
            ]
          },
          "metadata": {
            "tags": []
          }
        }
      ]
    },
    {
      "cell_type": "code",
      "metadata": {
        "id": "lwxi3K3pKEwm",
        "colab_type": "code",
        "outputId": "72327451-3da9-4b73-b5a1-f5f87676ba22",
        "colab": {
          "base_uri": "https://localhost:8080/",
          "height": 295
        }
      },
      "source": [
        "labels = np.zeros((x.shape[0],1))\n",
        "vals = np.zeros((x.shape[0],1))\n",
        "for i in range(x.shape[0]):\n",
        "  if(y[i]<1/(1 + math.exp(-x[i]))):\n",
        "    labels[i]=0\n",
        "  else:\n",
        "    labels[i]=1\n",
        "for i in range(x.shape[0]):\n",
        "  if(labels[i]==1):\n",
        "    plt.scatter(x[i],y[i],color='red')\n",
        "  else:\n",
        "    plt.scatter(x[i],y[i],color='blue')\n",
        "plt.plot(np.sort(x,axis=0),1/(1+np.exp(-np.sort(x,axis=0))),color='green',label='Logistic function')\n",
        "plt.legend(loc=\"upper right\")\n",
        "plt.title('Data classified into two classes with the logistic regression')\n",
        "graph()"
      ],
      "execution_count": 0,
      "outputs": [
        {
          "output_type": "display_data",
          "data": {
            "image/png": "[encoded data removed]",
            "text/plain": [
              "<Figure size 432x288 with 1 Axes>"
            ]
          },
          "metadata": {
            "tags": []
          }
        }
      ]
    },
    {
      "cell_type": "code",
      "metadata": {
        "id": "DGuDV6CYKvCF",
        "colab_type": "code",
        "colab": {}
      },
      "source": [
        "X = np.zeros((x.shape[0],2))\n",
        "X[:,1] = x[:,0]\n",
        "X[:,0] = np.ones(x.shape[0])\n",
        "Y = labels"
      ],
      "execution_count": 0,
      "outputs": []
    },
    {
      "cell_type": "code",
      "metadata": {
        "id": "e5XHNWJ7MDMw",
        "colab_type": "code",
        "colab": {}
      },
      "source": [
        "def logistic_gradient_descent(X,Y):\n",
        "  epochs = 1000000\n",
        "  alphas = [0.00001]\n",
        "  for alpha in alphas:\n",
        "    theta = np.zeros((X.shape[1],1))\n",
        "    h = sigmoid(np.dot(X,theta))\n",
        "    cost = np.zeros((epochs,1))\n",
        "    for i in range(epochs):\n",
        "      theta[0] = theta[0] - alpha*np.sum(h-Y)/X.shape[0]\n",
        "      for j in range(1,X.shape[1]):\n",
        "        theta[j] = theta[j] - alpha/X.shape[0] * np.sum((h-Y)*X[:,j])\n",
        "        h = sigmoid(np.dot(X,theta))\n",
        "      cost[i] = logistic_cost(Y,h)\n",
        "      if(i>0 and cost[i]>cost[i-1]):\n",
        "        epochs = i\n",
        "        break\n",
        "      if(i%50000==0):\n",
        "        print(\"Epoch : \" , i , \" Cost : \" , cost[i])\n",
        "    plt.plot(np.arange(epochs),cost[:epochs])\n",
        "    plt.xlabel('Epochs')\n",
        "    plt.ylabel('Cost')\n",
        "    plt.title('Cost v/s Epoch for gradient descent')\n",
        "    plt.show()\n",
        "    if(alpha==0.00001):\n",
        "      return theta"
      ],
      "execution_count": 0,
      "outputs": []
    },
    {
      "cell_type": "code",
      "metadata": {
        "id": "uwAggEzvLS1U",
        "colab_type": "code",
        "outputId": "dea01cbb-01cd-4b3a-9e3f-7fe34a847112",
        "colab": {
          "base_uri": "https://localhost:8080/",
          "height": 618
        }
      },
      "source": [
        "weight_predicted = logistic_gradient_descent(X,Y)\n",
        "y_hat = sigmoid(np.dot(X,weight_predicted))\n",
        "cost = logistic_cost(Y,y_hat)\n",
        "y_predicted = logistic_output(X,weight_predicted)\n",
        "cost"
      ],
      "execution_count": 0,
      "outputs": [
        {
          "output_type": "stream",
          "text": [
            "Epoch :  0  Cost :  [0.6931429]\n",
            "Epoch :  50000  Cost :  [0.53650005]\n",
            "Epoch :  100000  Cost :  [0.45490069]\n",
            "Epoch :  150000  Cost :  [0.41058937]\n",
            "Epoch :  200000  Cost :  [0.38520788]\n",
            "Epoch :  250000  Cost :  [0.36996488]\n",
            "Epoch :  300000  Cost :  [0.36046102]\n",
            "Epoch :  350000  Cost :  [0.3543665]\n",
            "Epoch :  400000  Cost :  [0.3503793]\n",
            "Epoch :  450000  Cost :  [0.34773689]\n",
            "Epoch :  500000  Cost :  [0.34597464]\n",
            "Epoch :  550000  Cost :  [0.34479992]\n",
            "Epoch :  600000  Cost :  [0.34402328]\n",
            "Epoch :  650000  Cost :  [0.34351924]\n",
            "Epoch :  700000  Cost :  [0.34320313]\n",
            "Epoch :  750000  Cost :  [0.34301693]\n",
            "Epoch :  800000  Cost :  [0.3429204]\n",
            "Epoch :  850000  Cost :  [0.34288536]\n"
          ],
          "name": "stdout"
        },
        {
          "output_type": "display_data",
          "data": {
            "image/png": "[encoded data removed]",
            "text/plain": [
              "<Figure size 432x288 with 1 Axes>"
            ]
          },
          "metadata": {
            "tags": []
          }
        },
        {
          "output_type": "execute_result",
          "data": {
            "text/plain": [
              "0.34288370087441594"
            ]
          },
          "metadata": {
            "tags": []
          },
          "execution_count": 92
        }
      ]
    },
    {
      "cell_type": "code",
      "metadata": {
        "id": "F0ouCT57ZQML",
        "colab_type": "code",
        "outputId": "bea67986-a76d-40f1-9eba-6d3b44d36411",
        "colab": {
          "base_uri": "https://localhost:8080/",
          "height": 111
        }
      },
      "source": [
        "df = prediction_table(Y,y_predicted)\n",
        "df"
      ],
      "execution_count": 0,
      "outputs": [
        {
          "output_type": "execute_result",
          "data": {
            "text/html": [
              "<div>\n",
              "<style scoped>\n",
              "    .dataframe tbody tr th:only-of-type {\n",
              "        vertical-align: middle;\n",
              "    }\n",
              "\n",
              "    .dataframe tbody tr th {\n",
              "        vertical-align: top;\n",
              "    }\n",
              "\n",
              "    .dataframe thead th {\n",
              "        text-align: right;\n",
              "    }\n",
              "</style>\n",
              "<table border=\"1\" class=\"dataframe\">\n",
              "  <thead>\n",
              "    <tr style=\"text-align: right;\">\n",
              "      <th></th>\n",
              "      <th>Positive</th>\n",
              "      <th>Negative</th>\n",
              "    </tr>\n",
              "  </thead>\n",
              "  <tbody>\n",
              "    <tr>\n",
              "      <th>Positive</th>\n",
              "      <td>47</td>\n",
              "      <td>10</td>\n",
              "    </tr>\n",
              "    <tr>\n",
              "      <th>Negative</th>\n",
              "      <td>7</td>\n",
              "      <td>36</td>\n",
              "    </tr>\n",
              "  </tbody>\n",
              "</table>\n",
              "</div>"
            ],
            "text/plain": [
              "         Positive Negative\n",
              "Positive       47       10\n",
              "Negative        7       36"
            ]
          },
          "metadata": {
            "tags": []
          },
          "execution_count": 93
        }
      ]
    },
    {
      "cell_type": "code",
      "metadata": {
        "id": "FNdH2tuQZXXx",
        "colab_type": "code",
        "outputId": "45e1fa76-3f6c-40ad-c7a4-98766e8ade0d",
        "colab": {
          "base_uri": "https://localhost:8080/",
          "height": 851
        }
      },
      "source": [
        "for i in range(x.shape[0]):\n",
        "  if(labels[i]==1):\n",
        "    plt.scatter(x[i],y[i],color='red')\n",
        "  else:\n",
        "    plt.scatter(x[i],y[i],color='blue')\n",
        "plt.plot(np.sort(x,axis=0),1/(1+np.exp(-np.sort(x,axis=0))),color='green',label='Logistic function')\n",
        "plt.legend(loc=\"upper left\")\n",
        "plt.title('Data classified into two classes with the logistic regression')\n",
        "graph()\n",
        "for i in range(x.shape[0]):\n",
        "  if(y_predicted[i]==1):\n",
        "    plt.scatter(x[i],y[i],color='red')\n",
        "  else:\n",
        "    plt.scatter(x[i],y[i],color='blue')\n",
        "plt.plot(np.sort(x,axis=0),1/(1+np.exp(-np.sort(x,axis=0))),color='green',label='Logistic function')\n",
        "plt.legend(loc=\"upper left\")\n",
        "plt.title('Data classified into two classes with predicted values')\n",
        "graph()\n",
        "for i in range(x.shape[0]):\n",
        "  if(y_predicted[i]==labels[i]):\n",
        "    plt.scatter(x[i],y[i],color='pink')\n",
        "  else:\n",
        "    plt.scatter(x[i],y[i],color='green')\n",
        "plt.plot(np.sort(x,axis=0),1/(1+np.exp(-np.sort(x,axis=0))),color='red',label='Logistic function')\n",
        "plt.legend(loc=\"upper left\")\n",
        "plt.title('Data misclassified data highlighted')\n",
        "graph()"
      ],
      "execution_count": 0,
      "outputs": [
        {
          "output_type": "display_data",
          "data": {
            "image/png": "[encoded data removed]",
            "text/plain": [
              "<Figure size 432x288 with 1 Axes>"
            ]
          },
          "metadata": {
            "tags": []
          }
        },
        {
          "output_type": "display_data",
          "data": {
            "image/png": "[encoded data removed]",
            "text/plain": [
              "<Figure size 432x288 with 1 Axes>"
            ]
          },
          "metadata": {
            "tags": []
          }
        },
        {
          "output_type": "display_data",
          "data": {
            "image/png": "[encoded data removed]",
            "text/plain": [
              "<Figure size 432x288 with 1 Axes>"
            ]
          },
          "metadata": {
            "tags": []
          }
        }
      ]
    },
    {
      "cell_type": "code",
      "metadata": {
        "id": "kNImRs0U9bn1",
        "colab_type": "code",
        "outputId": "974ea408-9c4c-44c4-d2f9-bacacc67a528",
        "colab": {
          "base_uri": "https://localhost:8080/",
          "height": 51
        }
      },
      "source": [
        "weight_predicted"
      ],
      "execution_count": 0,
      "outputs": [
        {
          "output_type": "execute_result",
          "data": {
            "text/plain": [
              "array([[ 0.0937218 ],\n",
              "       [-0.96575395]])"
            ]
          },
          "metadata": {
            "tags": []
          },
          "execution_count": 95
        }
      ]
    }
  ]
}