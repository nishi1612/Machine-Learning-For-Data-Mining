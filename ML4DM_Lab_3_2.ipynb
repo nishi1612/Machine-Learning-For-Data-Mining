{
  "nbformat": 4,
  "nbformat_minor": 0,
  "metadata": {
    "colab": {
      "name": "ML4DM_Lab_3 - 2.ipynb",
      "version": "0.3.2",
      "provenance": [],
      "collapsed_sections": [],
      "include_colab_link": true
    },
    "kernelspec": {
      "name": "python3",
      "display_name": "Python 3"
    }
  },
  "cells": [
    {
      "cell_type": "markdown",
      "metadata": {
        "id": "view-in-github",
        "colab_type": "text"
      },
      "source": [
        "<a href=\"https://colab.research.google.com/github/nishi1612/Machine-Learning-For-Data-Mining/blob/master/ML4DM_Lab_3_2.ipynb\" target=\"_parent\"><img src=\"https://colab.research.google.com/assets/colab-badge.svg\" alt=\"Open In Colab\"/></a>"
      ]
    },
    {
      "cell_type": "code",
      "metadata": {
        "id": "m5VpezvpYMqz",
        "colab_type": "code",
        "colab": {}
      },
      "source": [
        "import numpy as np\n",
        "import tensorflow as tf\n",
        "from keras.datasets import cifar10\n",
        "import keras\n",
        "import matplotlib.pyplot as plt"
      ],
      "execution_count": 0,
      "outputs": []
    },
    {
      "cell_type": "code",
      "metadata": {
        "id": "KX9KjmINYTe6",
        "colab_type": "code",
        "colab": {}
      },
      "source": [
        "((trainX, trainY), (testX, testY)) = cifar10.load_data()"
      ],
      "execution_count": 0,
      "outputs": []
    },
    {
      "cell_type": "code",
      "metadata": {
        "id": "Fj-KM5qTYgcF",
        "colab_type": "code",
        "colab": {
          "base_uri": "https://localhost:8080/",
          "height": 34
        },
        "outputId": "20b87711-e256-428d-b995-3c915427f676"
      },
      "source": [
        "trainX.shape , trainY.shape, testX.shape, testY.shape"
      ],
      "execution_count": 13,
      "outputs": [
        {
          "output_type": "execute_result",
          "data": {
            "text/plain": [
              "((50000, 32, 32, 3), (50000, 1), (10000, 32, 32, 3), (10000, 1))"
            ]
          },
          "metadata": {
            "tags": []
          },
          "execution_count": 13
        }
      ]
    },
    {
      "cell_type": "code",
      "metadata": {
        "id": "HBXZz9WZYjD8",
        "colab_type": "code",
        "colab": {}
      },
      "source": [
        "trainX = trainX/255.0\n",
        "testX = testX/255.0"
      ],
      "execution_count": 0,
      "outputs": []
    },
    {
      "cell_type": "code",
      "metadata": {
        "id": "aYf7yOpMYjsU",
        "colab_type": "code",
        "colab": {}
      },
      "source": [
        "def show_graph(history):\n",
        "  plt.plot(history.history['loss'])\n",
        "  plt.title('Loss')\n",
        "  plt.xlabel('No. of epochs')\n",
        "  plt.ylabel('Loss')\n",
        "  plt.show()\n",
        "  plt.plot(history.history['acc'])\n",
        "  plt.title('Accuracy')\n",
        "  plt.xlabel('No. of epochs')\n",
        "  plt.ylabel('Accuracy')\n",
        "  plt.show()"
      ],
      "execution_count": 0,
      "outputs": []
    },
    {
      "cell_type": "code",
      "metadata": {
        "id": "HlyS5_MAYlM_",
        "colab_type": "code",
        "colab": {}
      },
      "source": [
        "epochs = 10\n",
        "verbose = 1\n",
        "validation_split = 0.2"
      ],
      "execution_count": 0,
      "outputs": []
    },
    {
      "cell_type": "code",
      "metadata": {
        "id": "gDpSfMLJYmp_",
        "colab_type": "code",
        "colab": {
          "base_uri": "https://localhost:8080/",
          "height": 445
        },
        "outputId": "69560b54-61df-476b-8328-df091d031fb6"
      },
      "source": [
        "model = keras.Sequential([\n",
        "    keras.layers.Flatten(input_shape=(trainX.shape[1],trainX.shape[2],trainX.shape[3])),\n",
        "    keras.layers.Dense(512,activation = tf.nn.relu),\n",
        "    keras.layers.Dense(10,activation=tf.nn.softmax)    \n",
        "])\n",
        "model.compile(optimizer='adam',\n",
        "              loss='sparse_categorical_crossentropy',\n",
        "              metrics=['accuracy'])\n",
        "model.summary()"
      ],
      "execution_count": 7,
      "outputs": [
        {
          "output_type": "stream",
          "text": [
            "WARNING:tensorflow:From /usr/local/lib/python3.6/dist-packages/keras/backend/tensorflow_backend.py:66: The name tf.get_default_graph is deprecated. Please use tf.compat.v1.get_default_graph instead.\n",
            "\n",
            "WARNING:tensorflow:From /usr/local/lib/python3.6/dist-packages/keras/backend/tensorflow_backend.py:541: The name tf.placeholder is deprecated. Please use tf.compat.v1.placeholder instead.\n",
            "\n",
            "WARNING:tensorflow:From /usr/local/lib/python3.6/dist-packages/keras/backend/tensorflow_backend.py:4432: The name tf.random_uniform is deprecated. Please use tf.random.uniform instead.\n",
            "\n",
            "WARNING:tensorflow:From /usr/local/lib/python3.6/dist-packages/keras/optimizers.py:793: The name tf.train.Optimizer is deprecated. Please use tf.compat.v1.train.Optimizer instead.\n",
            "\n",
            "WARNING:tensorflow:From /usr/local/lib/python3.6/dist-packages/keras/backend/tensorflow_backend.py:3622: The name tf.log is deprecated. Please use tf.math.log instead.\n",
            "\n",
            "Model: \"sequential_1\"\n",
            "_________________________________________________________________\n",
            "Layer (type)                 Output Shape              Param #   \n",
            "=================================================================\n",
            "flatten_1 (Flatten)          (None, 3072)              0         \n",
            "_________________________________________________________________\n",
            "dense_1 (Dense)              (None, 512)               1573376   \n",
            "_________________________________________________________________\n",
            "dense_2 (Dense)              (None, 10)                5130      \n",
            "=================================================================\n",
            "Total params: 1,578,506\n",
            "Trainable params: 1,578,506\n",
            "Non-trainable params: 0\n",
            "_________________________________________________________________\n"
          ],
          "name": "stdout"
        }
      ]
    },
    {
      "cell_type": "code",
      "metadata": {
        "id": "MeMkxpRRYo-S",
        "colab_type": "code",
        "colab": {
          "base_uri": "https://localhost:8080/",
          "height": 479
        },
        "outputId": "d1bca28f-68a0-4781-cef0-39797f4a4512"
      },
      "source": [
        "history = model.fit(trainX, trainY, epochs=epochs, validation_split=validation_split,verbose=verbose, shuffle=True)"
      ],
      "execution_count": 8,
      "outputs": [
        {
          "output_type": "stream",
          "text": [
            "WARNING:tensorflow:From /usr/local/lib/python3.6/dist-packages/tensorflow/python/ops/math_grad.py:1250: add_dispatch_support.<locals>.wrapper (from tensorflow.python.ops.array_ops) is deprecated and will be removed in a future version.\n",
            "Instructions for updating:\n",
            "Use tf.where in 2.0, which has the same broadcast rule as np.where\n",
            "WARNING:tensorflow:From /usr/local/lib/python3.6/dist-packages/keras/backend/tensorflow_backend.py:1033: The name tf.assign_add is deprecated. Please use tf.compat.v1.assign_add instead.\n",
            "\n",
            "Train on 40000 samples, validate on 10000 samples\n",
            "Epoch 1/10\n",
            "40000/40000 [==============================] - 40s 989us/step - loss: 1.9078 - acc: 0.3166 - val_loss: 1.7945 - val_acc: 0.3519\n",
            "Epoch 2/10\n",
            "40000/40000 [==============================] - 34s 859us/step - loss: 1.7303 - acc: 0.3794 - val_loss: 1.7368 - val_acc: 0.3798\n",
            "Epoch 3/10\n",
            "40000/40000 [==============================] - 34s 857us/step - loss: 1.6722 - acc: 0.4017 - val_loss: 1.7091 - val_acc: 0.3977\n",
            "Epoch 4/10\n",
            "40000/40000 [==============================] - 35s 870us/step - loss: 1.6283 - acc: 0.4197 - val_loss: 1.6727 - val_acc: 0.4073\n",
            "Epoch 5/10\n",
            "40000/40000 [==============================] - 35s 871us/step - loss: 1.5950 - acc: 0.4319 - val_loss: 1.6262 - val_acc: 0.4209\n",
            "Epoch 6/10\n",
            "40000/40000 [==============================] - 35s 867us/step - loss: 1.5638 - acc: 0.4449 - val_loss: 1.6113 - val_acc: 0.4256\n",
            "Epoch 7/10\n",
            "40000/40000 [==============================] - 40s 1ms/step - loss: 1.5488 - acc: 0.4495 - val_loss: 1.5994 - val_acc: 0.4370\n",
            "Epoch 8/10\n",
            "40000/40000 [==============================] - 41s 1ms/step - loss: 1.5265 - acc: 0.4596 - val_loss: 1.5759 - val_acc: 0.4373\n",
            "Epoch 9/10\n",
            "40000/40000 [==============================] - 43s 1ms/step - loss: 1.5181 - acc: 0.4626 - val_loss: 1.5930 - val_acc: 0.4317\n",
            "Epoch 10/10\n",
            "40000/40000 [==============================] - 42s 1ms/step - loss: 1.5032 - acc: 0.4641 - val_loss: 1.5521 - val_acc: 0.4536\n"
          ],
          "name": "stdout"
        }
      ]
    },
    {
      "cell_type": "code",
      "metadata": {
        "id": "SfiuNDyqZCHm",
        "colab_type": "code",
        "colab": {
          "base_uri": "https://localhost:8080/",
          "height": 573
        },
        "outputId": "b71460d6-a227-4fc1-c566-9ed3b7fd293f"
      },
      "source": [
        "show_graph(history)"
      ],
      "execution_count": 9,
      "outputs": [
        {
          "output_type": "display_data",
          "data": {
            "image/png": "[encoded data removed]",
            "text/plain": [
              "<Figure size 432x288 with 1 Axes>"
            ]
          },
          "metadata": {
            "tags": []
          }
        },
        {
          "output_type": "display_data",
          "data": {
            "image/png": "[encoded data removed]",
            "text/plain": [
              "<Figure size 432x288 with 1 Axes>"
            ]
          },
          "metadata": {
            "tags": []
          }
        }
      ]
    },
    {
      "cell_type": "code",
      "metadata": {
        "id": "gKhei3hMZCuC",
        "colab_type": "code",
        "colab": {
          "base_uri": "https://localhost:8080/",
          "height": 51
        },
        "outputId": "4b100b30-d81c-43a1-d20d-22d174ba51c6"
      },
      "source": [
        "test_loss, test_acc = model.evaluate(testX, testY)\n",
        "test_loss , test_acc"
      ],
      "execution_count": 10,
      "outputs": [
        {
          "output_type": "stream",
          "text": [
            "10000/10000 [==============================] - 2s 152us/step\n"
          ],
          "name": "stdout"
        },
        {
          "output_type": "execute_result",
          "data": {
            "text/plain": [
              "(1.5353830251693725, 0.4559)"
            ]
          },
          "metadata": {
            "tags": []
          },
          "execution_count": 10
        }
      ]
    },
    {
      "cell_type": "code",
      "metadata": {
        "id": "iloo1xHfZFz2",
        "colab_type": "code",
        "colab": {
          "base_uri": "https://localhost:8080/",
          "height": 357
        },
        "outputId": "3fec8abc-457e-4ee6-dd40-33af276b3c0b"
      },
      "source": [
        "model_1 = keras.Sequential([\n",
        "    keras.layers.Flatten(input_shape=(trainX.shape[1],trainX.shape[2],trainX.shape[3])),\n",
        "    keras.layers.Dense(512, activation=tf.nn.relu),\n",
        "    keras.layers.Dense(256, activation=tf.nn.relu),\n",
        "    keras.layers.Dense(128, activation=tf.nn.relu),\n",
        "    keras.layers.Dense(64, activation=tf.nn.relu),\n",
        "    keras.layers.Dense(10, activation=tf.nn.softmax)\n",
        "])\n",
        "model_1.compile(optimizer='adam',\n",
        "              loss='sparse_categorical_crossentropy',\n",
        "              metrics=['accuracy'])\n",
        "model_1.summary()"
      ],
      "execution_count": 24,
      "outputs": [
        {
          "output_type": "stream",
          "text": [
            "Model: \"sequential_4\"\n",
            "_________________________________________________________________\n",
            "Layer (type)                 Output Shape              Param #   \n",
            "=================================================================\n",
            "flatten_4 (Flatten)          (None, 3072)              0         \n",
            "_________________________________________________________________\n",
            "dense_7 (Dense)              (None, 512)               1573376   \n",
            "_________________________________________________________________\n",
            "dense_8 (Dense)              (None, 256)               131328    \n",
            "_________________________________________________________________\n",
            "dense_9 (Dense)              (None, 128)               32896     \n",
            "_________________________________________________________________\n",
            "dense_10 (Dense)             (None, 64)                8256      \n",
            "_________________________________________________________________\n",
            "dense_11 (Dense)             (None, 10)                650       \n",
            "=================================================================\n",
            "Total params: 1,746,506\n",
            "Trainable params: 1,746,506\n",
            "Non-trainable params: 0\n",
            "_________________________________________________________________\n"
          ],
          "name": "stdout"
        }
      ]
    },
    {
      "cell_type": "code",
      "metadata": {
        "id": "VXd1mmDYZOIk",
        "colab_type": "code",
        "colab": {
          "base_uri": "https://localhost:8080/",
          "height": 374
        },
        "outputId": "ff56588b-bbc9-4a6b-c943-496d4f149597"
      },
      "source": [
        "history_1 = model_1.fit(trainX, trainY, epochs=epochs, validation_split=validation_split,verbose=verbose, shuffle=True)"
      ],
      "execution_count": 25,
      "outputs": [
        {
          "output_type": "stream",
          "text": [
            "Train on 40000 samples, validate on 10000 samples\n",
            "Epoch 1/10\n",
            "40000/40000 [==============================] - 42s 1ms/step - loss: 1.9098 - acc: 0.3002 - val_loss: 1.7728 - val_acc: 0.3609\n",
            "Epoch 2/10\n",
            "40000/40000 [==============================] - 40s 1ms/step - loss: 1.7222 - acc: 0.3808 - val_loss: 1.7212 - val_acc: 0.3783\n",
            "Epoch 3/10\n",
            "40000/40000 [==============================] - 40s 1ms/step - loss: 1.6456 - acc: 0.4078 - val_loss: 1.6321 - val_acc: 0.4165\n",
            "Epoch 4/10\n",
            "40000/40000 [==============================] - 46s 1ms/step - loss: 1.5836 - acc: 0.4316 - val_loss: 1.6327 - val_acc: 0.4186\n",
            "Epoch 5/10\n",
            "40000/40000 [==============================] - 42s 1ms/step - loss: 1.5411 - acc: 0.4461 - val_loss: 1.6321 - val_acc: 0.4247\n",
            "Epoch 6/10\n",
            "40000/40000 [==============================] - 40s 1ms/step - loss: 1.5005 - acc: 0.4596 - val_loss: 1.5428 - val_acc: 0.4501\n",
            "Epoch 7/10\n",
            "40000/40000 [==============================] - 42s 1ms/step - loss: 1.4727 - acc: 0.4703 - val_loss: 1.5312 - val_acc: 0.4593\n",
            "Epoch 8/10\n",
            "40000/40000 [==============================] - 41s 1ms/step - loss: 1.4469 - acc: 0.4799 - val_loss: 1.5180 - val_acc: 0.4662\n",
            "Epoch 9/10\n",
            "40000/40000 [==============================] - 41s 1ms/step - loss: 1.4168 - acc: 0.4893 - val_loss: 1.5411 - val_acc: 0.4484\n",
            "Epoch 10/10\n",
            "40000/40000 [==============================] - 40s 1ms/step - loss: 1.3994 - acc: 0.4944 - val_loss: 1.6055 - val_acc: 0.4431\n"
          ],
          "name": "stdout"
        }
      ]
    },
    {
      "cell_type": "code",
      "metadata": {
        "id": "d0mtvbt8ZQWg",
        "colab_type": "code",
        "colab": {
          "base_uri": "https://localhost:8080/",
          "height": 573
        },
        "outputId": "8e7b58dd-0b19-4d63-a268-c9fb896495b8"
      },
      "source": [
        "show_graph(history_1)"
      ],
      "execution_count": 26,
      "outputs": [
        {
          "output_type": "display_data",
          "data": {
            "image/png": "[encoded data removed]",
            "text/plain": [
              "<Figure size 432x288 with 1 Axes>"
            ]
          },
          "metadata": {
            "tags": []
          }
        },
        {
          "output_type": "display_data",
          "data": {
            "image/png": "[encoded data removed]",
            "text/plain": [
              "<Figure size 432x288 with 1 Axes>"
            ]
          },
          "metadata": {
            "tags": []
          }
        }
      ]
    },
    {
      "cell_type": "code",
      "metadata": {
        "id": "lWkJqDZsZXzd",
        "colab_type": "code",
        "colab": {
          "base_uri": "https://localhost:8080/",
          "height": 51
        },
        "outputId": "7b0b6a93-0285-4fde-f29a-c325fe2b8592"
      },
      "source": [
        "test_loss_1, test_acc_1 = model_1.evaluate(testX, testY)\n",
        "test_loss_1 , test_acc_1"
      ],
      "execution_count": 27,
      "outputs": [
        {
          "output_type": "stream",
          "text": [
            "10000/10000 [==============================] - 2s 184us/step\n"
          ],
          "name": "stdout"
        },
        {
          "output_type": "execute_result",
          "data": {
            "text/plain": [
              "(1.5771126375198363, 0.4466)"
            ]
          },
          "metadata": {
            "tags": []
          },
          "execution_count": 27
        }
      ]
    },
    {
      "cell_type": "code",
      "metadata": {
        "id": "2yXaaGtkZZ9w",
        "colab_type": "code",
        "colab": {
          "base_uri": "https://localhost:8080/",
          "height": 255
        },
        "outputId": "84c273f8-e168-4974-9395-c38748528cd6"
      },
      "source": [
        "model_2 = keras.Sequential([\n",
        "    keras.layers.Flatten(input_shape=(trainX.shape[1],trainX.shape[2],trainX.shape[3])),\n",
        "    keras.layers.Dense(512, activation=tf.nn.tanh),\n",
        "    keras.layers.Dense(10, activation=tf.nn.softmax)\n",
        "])\n",
        "model_2.compile(optimizer='adam',\n",
        "              loss='sparse_categorical_crossentropy',\n",
        "              metrics=['accuracy'])\n",
        "model_2.summary()"
      ],
      "execution_count": 28,
      "outputs": [
        {
          "output_type": "stream",
          "text": [
            "Model: \"sequential_5\"\n",
            "_________________________________________________________________\n",
            "Layer (type)                 Output Shape              Param #   \n",
            "=================================================================\n",
            "flatten_5 (Flatten)          (None, 3072)              0         \n",
            "_________________________________________________________________\n",
            "dense_12 (Dense)             (None, 512)               1573376   \n",
            "_________________________________________________________________\n",
            "dense_13 (Dense)             (None, 10)                5130      \n",
            "=================================================================\n",
            "Total params: 1,578,506\n",
            "Trainable params: 1,578,506\n",
            "Non-trainable params: 0\n",
            "_________________________________________________________________\n"
          ],
          "name": "stdout"
        }
      ]
    },
    {
      "cell_type": "code",
      "metadata": {
        "id": "6B_z_jomZb9t",
        "colab_type": "code",
        "colab": {
          "base_uri": "https://localhost:8080/",
          "height": 374
        },
        "outputId": "ffbaaf5d-5112-45c1-d6e8-e3add406cb64"
      },
      "source": [
        "history_2 = model_2.fit(trainX, trainY, epochs=epochs, validation_split=validation_split,verbose=verbose, shuffle=True)"
      ],
      "execution_count": 21,
      "outputs": [
        {
          "output_type": "stream",
          "text": [
            "Train on 40000 samples, validate on 10000 samples\n",
            "Epoch 1/10\n",
            "40000/40000 [==============================] - 44s 1ms/step - loss: 2.4401 - acc: 0.2672 - val_loss: 1.9223 - val_acc: 0.3070\n",
            "Epoch 2/10\n",
            "40000/40000 [==============================] - 45s 1ms/step - loss: 1.8923 - acc: 0.3151 - val_loss: 1.9265 - val_acc: 0.3248\n",
            "Epoch 3/10\n",
            "40000/40000 [==============================] - 45s 1ms/step - loss: 1.8613 - acc: 0.3268 - val_loss: 1.8647 - val_acc: 0.3237\n",
            "Epoch 4/10\n",
            "40000/40000 [==============================] - 43s 1ms/step - loss: 1.8468 - acc: 0.3343 - val_loss: 1.8564 - val_acc: 0.3258\n",
            "Epoch 5/10\n",
            "40000/40000 [==============================] - 43s 1ms/step - loss: 1.8449 - acc: 0.3341 - val_loss: 1.8150 - val_acc: 0.3442\n",
            "Epoch 6/10\n",
            "40000/40000 [==============================] - 44s 1ms/step - loss: 1.8346 - acc: 0.3392 - val_loss: 1.8355 - val_acc: 0.3490\n",
            "Epoch 7/10\n",
            "40000/40000 [==============================] - 43s 1ms/step - loss: 1.8267 - acc: 0.3459 - val_loss: 1.8583 - val_acc: 0.3349\n",
            "Epoch 8/10\n",
            "40000/40000 [==============================] - 43s 1ms/step - loss: 1.8514 - acc: 0.3387 - val_loss: 1.8755 - val_acc: 0.3298\n",
            "Epoch 9/10\n",
            "40000/40000 [==============================] - 42s 1ms/step - loss: 1.8335 - acc: 0.3400 - val_loss: 1.8502 - val_acc: 0.3365\n",
            "Epoch 10/10\n",
            "40000/40000 [==============================] - 42s 1ms/step - loss: 1.8277 - acc: 0.3468 - val_loss: 1.8615 - val_acc: 0.3504\n"
          ],
          "name": "stdout"
        }
      ]
    },
    {
      "cell_type": "code",
      "metadata": {
        "id": "xm_oQ1S3Zg1O",
        "colab_type": "code",
        "colab": {
          "base_uri": "https://localhost:8080/",
          "height": 573
        },
        "outputId": "e0292da7-24da-4965-d57c-7b5a6df456b2"
      },
      "source": [
        "show_graph(history_2)"
      ],
      "execution_count": 22,
      "outputs": [
        {
          "output_type": "display_data",
          "data": {
            "image/png": "[encoded data removed]",
            "text/plain": [
              "<Figure size 432x288 with 1 Axes>"
            ]
          },
          "metadata": {
            "tags": []
          }
        },
        {
          "output_type": "display_data",
          "data": {
            "image/png": "[encoded data removed]",
            "text/plain": [
              "<Figure size 432x288 with 1 Axes>"
            ]
          },
          "metadata": {
            "tags": []
          }
        }
      ]
    },
    {
      "cell_type": "code",
      "metadata": {
        "id": "sm4ne-SEZjHk",
        "colab_type": "code",
        "colab": {
          "base_uri": "https://localhost:8080/",
          "height": 51
        },
        "outputId": "c1237470-b981-4bde-db6f-415893ab4257"
      },
      "source": [
        "test_loss_2, test_acc_2 = model_2.evaluate(testX, testY)\n",
        "test_loss_2, test_acc_2"
      ],
      "execution_count": 23,
      "outputs": [
        {
          "output_type": "stream",
          "text": [
            "10000/10000 [==============================] - 2s 156us/step\n"
          ],
          "name": "stdout"
        },
        {
          "output_type": "execute_result",
          "data": {
            "text/plain": [
              "(1.825080970954895, 0.3644)"
            ]
          },
          "metadata": {
            "tags": []
          },
          "execution_count": 23
        }
      ]
    }
  ]
}