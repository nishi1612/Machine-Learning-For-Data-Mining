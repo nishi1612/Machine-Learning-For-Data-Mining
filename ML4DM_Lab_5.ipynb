{
  "nbformat": 4,
  "nbformat_minor": 0,
  "metadata": {
    "colab": {
      "name": "ML4DM_Lab_5ipynb",
      "provenance": [],
      "collapsed_sections": []
    },
    "kernelspec": {
      "name": "python3",
      "display_name": "Python 3"
    },
    "accelerator": "GPU"
  },
  "cells": [
    {
      "cell_type": "code",
      "metadata": {
        "id": "Yd-RTKKzCVeN",
        "colab_type": "code",
        "outputId": "cde75a95-3dd1-4c01-eea4-3ffd2f23d2fd",
        "colab": {
          "base_uri": "https://localhost:8080/",
          "height": 34
        }
      },
      "source": [
        "from keras.datasets import cifar10\n",
        "from keras.datasets import cifar10\n",
        "from keras.preprocessing.image import ImageDataGenerator\n",
        "from keras.models import Sequential\n",
        "from keras.layers import Dense, Dropout, Activation, Flatten\n",
        "from keras.layers import Conv2D, MaxPooling2D\n",
        "import keras\n",
        "import matplotlib.pyplot as plt"
      ],
      "execution_count": 0,
      "outputs": [
        {
          "output_type": "stream",
          "text": [
            "Using TensorFlow backend.\n"
          ],
          "name": "stderr"
        }
      ]
    },
    {
      "cell_type": "code",
      "metadata": {
        "id": "mTxMIlKnD8AZ",
        "colab_type": "code",
        "outputId": "ffc913f1-f14a-4aae-e29b-74ab11113e24",
        "colab": {
          "base_uri": "https://localhost:8080/",
          "height": 51
        }
      },
      "source": [
        "(trainX, trainY), (testX, testY) = cifar10.load_data()"
      ],
      "execution_count": 0,
      "outputs": [
        {
          "output_type": "stream",
          "text": [
            "Downloading data from https://www.cs.toronto.edu/~kriz/cifar-10-python.tar.gz\n",
            "170500096/170498071 [==============================] - 4s 0us/step\n"
          ],
          "name": "stdout"
        }
      ]
    },
    {
      "cell_type": "code",
      "metadata": {
        "id": "z7QDDKUpEKq7",
        "colab_type": "code",
        "outputId": "546fee48-3e2a-4183-d530-bac7a77bccbc",
        "colab": {
          "base_uri": "https://localhost:8080/",
          "height": 34
        }
      },
      "source": [
        "trainX.shape, testX.shape"
      ],
      "execution_count": 0,
      "outputs": [
        {
          "output_type": "execute_result",
          "data": {
            "text/plain": [
              "((50000, 32, 32, 3), (10000, 32, 32, 3))"
            ]
          },
          "metadata": {
            "tags": []
          },
          "execution_count": 3
        }
      ]
    },
    {
      "cell_type": "code",
      "metadata": {
        "id": "IIWuQeF1IeoB",
        "colab_type": "code",
        "colab": {}
      },
      "source": [
        "num_classes = 10"
      ],
      "execution_count": 0,
      "outputs": []
    },
    {
      "cell_type": "code",
      "metadata": {
        "id": "IUzd-yHRJVBN",
        "colab_type": "code",
        "colab": {}
      },
      "source": [
        "trainY = keras.utils.to_categorical(trainY, num_classes)\n",
        "testY = keras.utils.to_categorical(testY, num_classes)"
      ],
      "execution_count": 0,
      "outputs": []
    },
    {
      "cell_type": "code",
      "metadata": {
        "id": "3VZWZh4AEOAS",
        "colab_type": "code",
        "colab": {}
      },
      "source": [
        "# model = Sequential()\n",
        "# model.add(Conv2D(32, (3, 3), activation='relu', kernel_initializer='he_uniform', padding='same', input_shape=(32, 32, 3)))\n",
        "# model.add(Conv2D(32, (3, 3), activation='relu', kernel_initializer='he_uniform', padding='same'))\n",
        "# model.add(MaxPooling2D((2, 2)))\n",
        "# model.add(Flatten())\n",
        "# model.add(Dense(128, activation='relu', kernel_initializer='he_uniform'))\n",
        "# model.add(Dense(10, activation='softmax'))\n",
        "# # compile model\n",
        "# opt = keras.optimizers.SGD(lr=0.001, momentum=0.9)\n",
        "# model.compile(optimizer=opt, loss='categorical_crossentropy', metrics=['accuracy'])\n",
        "\n",
        "# model = Sequential()\n",
        "# model.add(Conv2D(32, (3, 3), activation='relu', kernel_initializer='he_uniform', padding='same', input_shape=(32, 32, 3)))\n",
        "# model.add(Conv2D(32, (3, 3), activation='relu', kernel_initializer='he_uniform', padding='same'))\n",
        "# model.add(MaxPooling2D((2, 2)))\n",
        "# model.add(Dropout(0.2))\n",
        "# model.add(Conv2D(64, (3, 3), activation='relu', kernel_initializer='he_uniform', padding='same'))\n",
        "# model.add(Conv2D(64, (3, 3), activation='relu', kernel_initializer='he_uniform', padding='same'))\n",
        "# model.add(MaxPooling2D((2, 2)))\n",
        "# model.add(Dropout(0.2))\n",
        "# model.add(Conv2D(128, (3, 3), activation='relu', kernel_initializer='he_uniform', padding='same'))\n",
        "# model.add(Conv2D(128, (3, 3), activation='relu', kernel_initializer='he_uniform', padding='same'))\n",
        "# model.add(MaxPooling2D((2, 2)))\n",
        "# model.add(Dropout(0.2))\n",
        "# model.add(Flatten())\n",
        "# model.add(Dense(128, activation='relu', kernel_initializer='he_uniform'))\n",
        "# model.add(Dropout(0.2))\n",
        "# model.add(Dense(10, activation='softmax'))\n",
        "# # compile model\n",
        "# opt = keras.optimizers.SGD(lr=0.001, momentum=0.9)\n",
        "# model.compile(optimizer=opt, loss='categorical_crossentropy', metrics=['accuracy'])\n",
        "\n",
        "# model = Sequential()\n",
        "# model.add(Conv2D(32, (3, 3), input_shape=(32, 32, 3), padding='same', activation='relu', kernel_constraint=maxnorm(3)))\n",
        "# model.add(Dropout(0.2))\n",
        "# model.add(Conv2D(32, (3, 3), activation='relu', padding='same', kernel_constraint=maxnorm(3)))\n",
        "# model.add(MaxPooling2D())\n",
        "# model.add(Flatten())\n",
        "# model.add(Dense(512, activation='relu', kernel_constraint=maxnorm(3)))\n",
        "# model.add(Dropout(0.5))\n",
        "# model.add(Dense(num_classes, activation='softmax'))\n",
        "\n",
        "model = Sequential()\n",
        "model.add(Conv2D(32, (3, 3), padding='same',\n",
        "                 input_shape=trainX.shape[1:]))\n",
        "model.add(Activation('relu'))\n",
        "model.add(Conv2D(32, (3, 3)))\n",
        "model.add(Activation('relu'))\n",
        "model.add(MaxPooling2D(pool_size=(2, 2)))\n",
        "model.add(Dropout(0.25))\n",
        "\n",
        "model.add(Conv2D(64, (3, 3), padding='same'))\n",
        "model.add(Activation('relu'))\n",
        "model.add(Conv2D(64, (3, 3)))\n",
        "model.add(Activation('relu'))\n",
        "model.add(MaxPooling2D(pool_size=(2, 2)))\n",
        "model.add(Dropout(0.25))\n",
        "\n",
        "model.add(Flatten())\n",
        "model.add(Dense(512))\n",
        "model.add(Activation('relu'))\n",
        "model.add(Dropout(0.5))\n",
        "model.add(Dense(num_classes))\n",
        "model.add(Activation('softmax'))"
      ],
      "execution_count": 0,
      "outputs": []
    },
    {
      "cell_type": "code",
      "metadata": {
        "id": "a4Pw41cOKn38",
        "colab_type": "code",
        "outputId": "d9fe028d-de7e-4a1a-a8ad-7a1fa20a49c4",
        "colab": {
          "base_uri": "https://localhost:8080/",
          "height": 765
        }
      },
      "source": [
        "model.summary()"
      ],
      "execution_count": 0,
      "outputs": [
        {
          "output_type": "stream",
          "text": [
            "Model: \"sequential_17\"\n",
            "_________________________________________________________________\n",
            "Layer (type)                 Output Shape              Param #   \n",
            "=================================================================\n",
            "conv2d_59 (Conv2D)           (None, 32, 32, 32)        896       \n",
            "_________________________________________________________________\n",
            "activation_49 (Activation)   (None, 32, 32, 32)        0         \n",
            "_________________________________________________________________\n",
            "conv2d_60 (Conv2D)           (None, 30, 30, 32)        9248      \n",
            "_________________________________________________________________\n",
            "activation_50 (Activation)   (None, 30, 30, 32)        0         \n",
            "_________________________________________________________________\n",
            "max_pooling2d_30 (MaxPooling (None, 15, 15, 32)        0         \n",
            "_________________________________________________________________\n",
            "dropout_19 (Dropout)         (None, 15, 15, 32)        0         \n",
            "_________________________________________________________________\n",
            "conv2d_61 (Conv2D)           (None, 15, 15, 64)        18496     \n",
            "_________________________________________________________________\n",
            "activation_51 (Activation)   (None, 15, 15, 64)        0         \n",
            "_________________________________________________________________\n",
            "conv2d_62 (Conv2D)           (None, 13, 13, 64)        36928     \n",
            "_________________________________________________________________\n",
            "activation_52 (Activation)   (None, 13, 13, 64)        0         \n",
            "_________________________________________________________________\n",
            "max_pooling2d_31 (MaxPooling (None, 6, 6, 64)          0         \n",
            "_________________________________________________________________\n",
            "dropout_20 (Dropout)         (None, 6, 6, 64)          0         \n",
            "_________________________________________________________________\n",
            "flatten_16 (Flatten)         (None, 2304)              0         \n",
            "_________________________________________________________________\n",
            "dense_31 (Dense)             (None, 512)               1180160   \n",
            "_________________________________________________________________\n",
            "activation_53 (Activation)   (None, 512)               0         \n",
            "_________________________________________________________________\n",
            "dropout_21 (Dropout)         (None, 512)               0         \n",
            "_________________________________________________________________\n",
            "dense_32 (Dense)             (None, 10)                5130      \n",
            "_________________________________________________________________\n",
            "activation_54 (Activation)   (None, 10)                0         \n",
            "=================================================================\n",
            "Total params: 1,250,858\n",
            "Trainable params: 1,250,858\n",
            "Non-trainable params: 0\n",
            "_________________________________________________________________\n"
          ],
          "name": "stdout"
        }
      ]
    },
    {
      "cell_type": "code",
      "metadata": {
        "id": "Ef0EA8ouIjqZ",
        "colab_type": "code",
        "colab": {}
      },
      "source": [
        "opt = keras.optimizers.RMSprop(lr=0.0001, decay=1e-6)\n",
        "model.compile(loss='categorical_crossentropy',\n",
        "              optimizer=opt,\n",
        "              metrics=['accuracy'])"
      ],
      "execution_count": 0,
      "outputs": []
    },
    {
      "cell_type": "code",
      "metadata": {
        "id": "LlD4tyTLIplL",
        "colab_type": "code",
        "outputId": "8845be86-9659-490f-f568-498915783cb1",
        "colab": {
          "base_uri": "https://localhost:8080/",
          "height": 1000
        }
      },
      "source": [
        "history = model.fit(trainX,trainY,\n",
        "              epochs=50,\n",
        "              validation_split=0.2,\n",
        "              batch_size=32,\n",
        "              shuffle=True,verbose=1)"
      ],
      "execution_count": 0,
      "outputs": [
        {
          "output_type": "stream",
          "text": [
            "Train on 40000 samples, validate on 10000 samples\n",
            "Epoch 1/50\n",
            "40000/40000 [==============================] - 19s 471us/step - loss: 4.7449 - acc: 0.2474 - val_loss: 1.6393 - val_acc: 0.4217\n",
            "Epoch 2/50\n",
            "40000/40000 [==============================] - 17s 425us/step - loss: 1.5859 - acc: 0.4274 - val_loss: 1.4185 - val_acc: 0.4979\n",
            "Epoch 3/50\n",
            "40000/40000 [==============================] - 17s 419us/step - loss: 1.4240 - acc: 0.4939 - val_loss: 1.2442 - val_acc: 0.5678\n",
            "Epoch 4/50\n",
            "40000/40000 [==============================] - 17s 416us/step - loss: 1.3233 - acc: 0.5280 - val_loss: 1.2221 - val_acc: 0.5680\n",
            "Epoch 5/50\n",
            "40000/40000 [==============================] - 17s 414us/step - loss: 1.2656 - acc: 0.5565 - val_loss: 1.2748 - val_acc: 0.5461\n",
            "Epoch 6/50\n",
            "40000/40000 [==============================] - 16s 411us/step - loss: 1.2156 - acc: 0.5716 - val_loss: 1.1198 - val_acc: 0.6152\n",
            "Epoch 7/50\n",
            "40000/40000 [==============================] - 16s 412us/step - loss: 1.1719 - acc: 0.5900 - val_loss: 1.0982 - val_acc: 0.6204\n",
            "Epoch 8/50\n",
            "40000/40000 [==============================] - 16s 410us/step - loss: 1.1449 - acc: 0.6009 - val_loss: 1.0651 - val_acc: 0.6303\n",
            "Epoch 9/50\n",
            "40000/40000 [==============================] - 16s 411us/step - loss: 1.1190 - acc: 0.6145 - val_loss: 1.0452 - val_acc: 0.6373\n",
            "Epoch 10/50\n",
            "40000/40000 [==============================] - 16s 410us/step - loss: 1.0920 - acc: 0.6218 - val_loss: 1.0519 - val_acc: 0.6436\n",
            "Epoch 11/50\n",
            "40000/40000 [==============================] - 16s 409us/step - loss: 1.0839 - acc: 0.6231 - val_loss: 1.0121 - val_acc: 0.6450\n",
            "Epoch 12/50\n",
            "40000/40000 [==============================] - 16s 406us/step - loss: 1.0690 - acc: 0.6362 - val_loss: 1.0506 - val_acc: 0.6378\n",
            "Epoch 13/50\n",
            "40000/40000 [==============================] - 16s 407us/step - loss: 1.0576 - acc: 0.6374 - val_loss: 0.9746 - val_acc: 0.6673\n",
            "Epoch 14/50\n",
            "40000/40000 [==============================] - 17s 414us/step - loss: 1.0430 - acc: 0.6436 - val_loss: 1.0542 - val_acc: 0.6427\n",
            "Epoch 15/50\n",
            "40000/40000 [==============================] - 16s 411us/step - loss: 1.0361 - acc: 0.6459 - val_loss: 0.9821 - val_acc: 0.6709\n",
            "Epoch 16/50\n",
            "40000/40000 [==============================] - 16s 408us/step - loss: 1.0326 - acc: 0.6498 - val_loss: 0.9748 - val_acc: 0.6704\n",
            "Epoch 17/50\n",
            "40000/40000 [==============================] - 16s 406us/step - loss: 1.0321 - acc: 0.6501 - val_loss: 1.0030 - val_acc: 0.6586\n",
            "Epoch 18/50\n",
            "40000/40000 [==============================] - 16s 405us/step - loss: 1.0263 - acc: 0.6542 - val_loss: 0.9867 - val_acc: 0.6704\n",
            "Epoch 19/50\n",
            "40000/40000 [==============================] - 16s 403us/step - loss: 1.0166 - acc: 0.6541 - val_loss: 1.0248 - val_acc: 0.6601\n",
            "Epoch 20/50\n",
            "40000/40000 [==============================] - 16s 402us/step - loss: 1.0169 - acc: 0.6570 - val_loss: 0.9604 - val_acc: 0.6803\n",
            "Epoch 21/50\n",
            "40000/40000 [==============================] - 16s 403us/step - loss: 1.0096 - acc: 0.6585 - val_loss: 0.9617 - val_acc: 0.6819\n",
            "Epoch 22/50\n",
            "40000/40000 [==============================] - 16s 405us/step - loss: 1.0162 - acc: 0.6603 - val_loss: 0.9761 - val_acc: 0.6878\n",
            "Epoch 23/50\n",
            "40000/40000 [==============================] - 16s 404us/step - loss: 1.0110 - acc: 0.6606 - val_loss: 0.9442 - val_acc: 0.6902\n",
            "Epoch 24/50\n",
            "40000/40000 [==============================] - 16s 408us/step - loss: 1.0164 - acc: 0.6639 - val_loss: 0.9232 - val_acc: 0.6948\n",
            "Epoch 25/50\n",
            "40000/40000 [==============================] - 16s 406us/step - loss: 1.0097 - acc: 0.6613 - val_loss: 0.9701 - val_acc: 0.6823\n",
            "Epoch 26/50\n",
            "40000/40000 [==============================] - 16s 407us/step - loss: 1.0093 - acc: 0.6653 - val_loss: 1.0157 - val_acc: 0.6738\n",
            "Epoch 27/50\n",
            "40000/40000 [==============================] - 16s 406us/step - loss: 1.0109 - acc: 0.6626 - val_loss: 1.0136 - val_acc: 0.6706\n",
            "Epoch 28/50\n",
            "40000/40000 [==============================] - 16s 406us/step - loss: 1.0071 - acc: 0.6638 - val_loss: 0.9600 - val_acc: 0.6938\n",
            "Epoch 29/50\n",
            "40000/40000 [==============================] - 16s 403us/step - loss: 1.0161 - acc: 0.6649 - val_loss: 1.0163 - val_acc: 0.6904\n",
            "Epoch 30/50\n",
            "40000/40000 [==============================] - 16s 404us/step - loss: 1.0130 - acc: 0.6670 - val_loss: 0.9317 - val_acc: 0.6943\n",
            "Epoch 31/50\n",
            "40000/40000 [==============================] - 16s 405us/step - loss: 1.0061 - acc: 0.6681 - val_loss: 1.0019 - val_acc: 0.6887\n",
            "Epoch 32/50\n",
            "40000/40000 [==============================] - 16s 405us/step - loss: 1.0084 - acc: 0.6693 - val_loss: 0.9409 - val_acc: 0.6938\n",
            "Epoch 33/50\n",
            "40000/40000 [==============================] - 17s 416us/step - loss: 1.0112 - acc: 0.6674 - val_loss: 0.9541 - val_acc: 0.6961\n",
            "Epoch 34/50\n",
            "40000/40000 [==============================] - 16s 406us/step - loss: 1.0139 - acc: 0.6654 - val_loss: 1.0889 - val_acc: 0.6417\n",
            "Epoch 35/50\n",
            "40000/40000 [==============================] - 16s 408us/step - loss: 1.0128 - acc: 0.6682 - val_loss: 1.0422 - val_acc: 0.6691\n",
            "Epoch 36/50\n",
            "40000/40000 [==============================] - 16s 403us/step - loss: 1.0125 - acc: 0.6669 - val_loss: 0.9531 - val_acc: 0.6959\n",
            "Epoch 37/50\n",
            "40000/40000 [==============================] - 16s 406us/step - loss: 1.0160 - acc: 0.6658 - val_loss: 0.9749 - val_acc: 0.6934\n",
            "Epoch 38/50\n",
            "40000/40000 [==============================] - 16s 404us/step - loss: 1.0159 - acc: 0.6643 - val_loss: 0.9862 - val_acc: 0.6901\n",
            "Epoch 39/50\n",
            "40000/40000 [==============================] - 16s 406us/step - loss: 1.0162 - acc: 0.6663 - val_loss: 0.9702 - val_acc: 0.6864\n",
            "Epoch 40/50\n",
            "40000/40000 [==============================] - 16s 404us/step - loss: 1.0102 - acc: 0.6667 - val_loss: 0.9464 - val_acc: 0.6999\n",
            "Epoch 41/50\n",
            "40000/40000 [==============================] - 16s 405us/step - loss: 1.0203 - acc: 0.6671 - val_loss: 0.9680 - val_acc: 0.7006\n",
            "Epoch 42/50\n",
            "40000/40000 [==============================] - 16s 404us/step - loss: 1.0142 - acc: 0.6682 - val_loss: 0.9668 - val_acc: 0.6881\n",
            "Epoch 43/50\n",
            "40000/40000 [==============================] - 16s 403us/step - loss: 1.0208 - acc: 0.6655 - val_loss: 0.9828 - val_acc: 0.6743\n",
            "Epoch 44/50\n",
            "40000/40000 [==============================] - 16s 405us/step - loss: 1.0147 - acc: 0.6685 - val_loss: 0.9649 - val_acc: 0.6919\n",
            "Epoch 45/50\n",
            "40000/40000 [==============================] - 16s 405us/step - loss: 1.0193 - acc: 0.6663 - val_loss: 0.9831 - val_acc: 0.6941\n",
            "Epoch 46/50\n",
            "40000/40000 [==============================] - 16s 408us/step - loss: 1.0138 - acc: 0.6690 - val_loss: 0.9790 - val_acc: 0.6780\n",
            "Epoch 47/50\n",
            "40000/40000 [==============================] - 16s 404us/step - loss: 1.0224 - acc: 0.6673 - val_loss: 0.9664 - val_acc: 0.6847\n",
            "Epoch 48/50\n",
            "40000/40000 [==============================] - 16s 406us/step - loss: 1.0267 - acc: 0.6674 - val_loss: 1.1083 - val_acc: 0.6748\n",
            "Epoch 49/50\n",
            "40000/40000 [==============================] - 16s 403us/step - loss: 1.0144 - acc: 0.6707 - val_loss: 0.9423 - val_acc: 0.6982\n",
            "Epoch 50/50\n",
            "40000/40000 [==============================] - 16s 404us/step - loss: 1.0251 - acc: 0.6666 - val_loss: 1.0424 - val_acc: 0.6700\n"
          ],
          "name": "stdout"
        }
      ]
    },
    {
      "cell_type": "code",
      "metadata": {
        "id": "NzPe1ujZPubM",
        "colab_type": "code",
        "colab": {}
      },
      "source": [
        "def show_graph(history):\n",
        "  plt.plot(history.history['loss'],color='blue',label='Train Loss')\n",
        "  plt.plot(history.history['val_loss'],color='red',label='Valid Loss')\n",
        "  plt.title('Loss')\n",
        "  plt.legend()\n",
        "  plt.xlabel('No. of epochs')\n",
        "  plt.ylabel('Loss')\n",
        "  plt.show()\n",
        "  plt.plot(history.history['acc'],color='blue',label='Train Accuracy')\n",
        "  plt.plot(history.history['val_acc'],color='red',label='Valid Accuracy')\n",
        "  plt.legend()\n",
        "  plt.title('Accuracy')\n",
        "  plt.xlabel('No. of epochs')\n",
        "  plt.ylabel('Accuracy')\n",
        "  plt.show()"
      ],
      "execution_count": 0,
      "outputs": []
    },
    {
      "cell_type": "code",
      "metadata": {
        "id": "7hHqZ3UXPzso",
        "colab_type": "code",
        "outputId": "d8a1f455-a585-4772-fda2-9a161e299a28",
        "colab": {
          "base_uri": "https://localhost:8080/",
          "height": 573
        }
      },
      "source": [
        "show_graph(history)"
      ],
      "execution_count": 0,
      "outputs": [
        {
          "output_type": "display_data",
          "data": {
            "image/png": "[encoded data removed]",
            "text/plain": [
              "<Figure size 432x288 with 1 Axes>"
            ]
          },
          "metadata": {
            "tags": []
          }
        },
        {
          "output_type": "display_data",
          "data": {
            "image/png": "[encoded data removed]",
            "text/plain": [
              "<Figure size 432x288 with 1 Axes>"
            ]
          },
          "metadata": {
            "tags": []
          }
        }
      ]
    },
    {
      "cell_type": "code",
      "metadata": {
        "id": "N7iej1sfR1HR",
        "colab_type": "code",
        "outputId": "7eaf6c87-e284-42da-ad3b-d56ca8311856",
        "colab": {
          "base_uri": "https://localhost:8080/",
          "height": 51
        }
      },
      "source": [
        "test_loss, test_acc = model.evaluate(testX, testY)\n",
        "test_loss , test_acc"
      ],
      "execution_count": 0,
      "outputs": [
        {
          "output_type": "stream",
          "text": [
            "10000/10000 [==============================] - 2s 166us/step\n"
          ],
          "name": "stdout"
        },
        {
          "output_type": "execute_result",
          "data": {
            "text/plain": [
              "(1.0405910354614258, 0.6776)"
            ]
          },
          "metadata": {
            "tags": []
          },
          "execution_count": 49
        }
      ]
    }
  ]
}