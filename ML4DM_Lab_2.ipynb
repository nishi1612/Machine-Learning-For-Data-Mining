{
  "nbformat": 4,
  "nbformat_minor": 0,
  "metadata": {
    "colab": {
      "name": "ML4DM_Lab_2.ipynb",
      "version": "0.3.2",
      "provenance": [],
      "collapsed_sections": [],
      "include_colab_link": true
    },
    "kernelspec": {
      "name": "python3",
      "display_name": "Python 3"
    }
  },
  "cells": [
    {
      "cell_type": "markdown",
      "metadata": {
        "id": "view-in-github",
        "colab_type": "text"
      },
      "source": [
        "<a href=\"https://colab.research.google.com/github/nishi1612/Machine-Learning-For-Data-Mining/blob/master/ML4DM_Lab_2.ipynb\" target=\"_parent\"><img src=\"https://colab.research.google.com/assets/colab-badge.svg\" alt=\"Open In Colab\"/></a>"
      ]
    },
    {
      "cell_type": "code",
      "metadata": {
        "id": "kxPwxyPfJN_7",
        "colab_type": "code",
        "colab": {
          "base_uri": "https://localhost:8080/",
          "height": 34
        },
        "outputId": "e3bd9734-c7c7-4d04-967e-582b9792db0a"
      },
      "source": [
        "import numpy as np\n",
        "import tensorflow as tf\n",
        "from keras.datasets import fashion_mnist\n",
        "import keras\n",
        "import matplotlib.pyplot as plt"
      ],
      "execution_count": 1,
      "outputs": [
        {
          "output_type": "stream",
          "text": [
            "Using TensorFlow backend.\n"
          ],
          "name": "stderr"
        }
      ]
    },
    {
      "cell_type": "code",
      "metadata": {
        "id": "fwI89YbGJjxF",
        "colab_type": "code",
        "colab": {}
      },
      "source": [
        "((trainX, trainY), (testX, testY)) = fashion_mnist.load_data()"
      ],
      "execution_count": 0,
      "outputs": []
    },
    {
      "cell_type": "code",
      "metadata": {
        "id": "qJCkkIhZJsNV",
        "colab_type": "code",
        "outputId": "6f9db37d-e412-4de5-d4c0-db71e7cdc7f4",
        "colab": {
          "base_uri": "https://localhost:8080/",
          "height": 34
        }
      },
      "source": [
        "trainX.shape , trainY.shape, testX.shape, testY.shape"
      ],
      "execution_count": 3,
      "outputs": [
        {
          "output_type": "execute_result",
          "data": {
            "text/plain": [
              "((60000, 28, 28), (60000,), (10000, 28, 28), (10000,))"
            ]
          },
          "metadata": {
            "tags": []
          },
          "execution_count": 3
        }
      ]
    },
    {
      "cell_type": "code",
      "metadata": {
        "id": "LoV5CeF0La9X",
        "colab_type": "code",
        "colab": {}
      },
      "source": [
        "trainX = trainX/255.0\n",
        "testX = testX/255.0"
      ],
      "execution_count": 0,
      "outputs": []
    },
    {
      "cell_type": "code",
      "metadata": {
        "id": "bG51GmB-sPrh",
        "colab_type": "code",
        "colab": {}
      },
      "source": [
        "def show_graph(history):\n",
        "  plt.plot(history.history['loss'])\n",
        "  plt.title('Loss')\n",
        "  plt.xlabel('No. of epochs')\n",
        "  plt.ylabel('Loss')\n",
        "  plt.show()\n",
        "  plt.plot(history.history['acc'])\n",
        "  plt.title('Accuracy')\n",
        "  plt.xlabel('No. of epochs')\n",
        "  plt.ylabel('Accuracy')\n",
        "  plt.show()"
      ],
      "execution_count": 0,
      "outputs": []
    },
    {
      "cell_type": "code",
      "metadata": {
        "id": "HqM7LrLNtWwX",
        "colab_type": "code",
        "colab": {}
      },
      "source": [
        "epochs = 100\n",
        "verbose = 1\n",
        "validation_split = 0.2"
      ],
      "execution_count": 0,
      "outputs": []
    },
    {
      "cell_type": "code",
      "metadata": {
        "id": "BOVT3D0NLjDA",
        "colab_type": "code",
        "outputId": "bc62a04a-6366-40c8-f7fd-53c2b03374c4",
        "colab": {
          "base_uri": "https://localhost:8080/",
          "height": 445
        }
      },
      "source": [
        "model = keras.Sequential([\n",
        "    keras.layers.Flatten(input_shape=(trainX.shape[1],trainX.shape[2])),\n",
        "    keras.layers.Dense(256,activation = tf.nn.relu),\n",
        "    keras.layers.Dense(10,activation=tf.nn.softmax)    \n",
        "])\n",
        "model.compile(optimizer='adam',\n",
        "              loss='sparse_categorical_crossentropy',\n",
        "              metrics=['accuracy'])\n",
        "model.summary()"
      ],
      "execution_count": 7,
      "outputs": [
        {
          "output_type": "stream",
          "text": [
            "WARNING:tensorflow:From /usr/local/lib/python3.6/dist-packages/keras/backend/tensorflow_backend.py:66: The name tf.get_default_graph is deprecated. Please use tf.compat.v1.get_default_graph instead.\n",
            "\n",
            "WARNING:tensorflow:From /usr/local/lib/python3.6/dist-packages/keras/backend/tensorflow_backend.py:541: The name tf.placeholder is deprecated. Please use tf.compat.v1.placeholder instead.\n",
            "\n",
            "WARNING:tensorflow:From /usr/local/lib/python3.6/dist-packages/keras/backend/tensorflow_backend.py:4432: The name tf.random_uniform is deprecated. Please use tf.random.uniform instead.\n",
            "\n",
            "WARNING:tensorflow:From /usr/local/lib/python3.6/dist-packages/keras/optimizers.py:793: The name tf.train.Optimizer is deprecated. Please use tf.compat.v1.train.Optimizer instead.\n",
            "\n",
            "WARNING:tensorflow:From /usr/local/lib/python3.6/dist-packages/keras/backend/tensorflow_backend.py:3622: The name tf.log is deprecated. Please use tf.math.log instead.\n",
            "\n",
            "Model: \"sequential_1\"\n",
            "_________________________________________________________________\n",
            "Layer (type)                 Output Shape              Param #   \n",
            "=================================================================\n",
            "flatten_1 (Flatten)          (None, 784)               0         \n",
            "_________________________________________________________________\n",
            "dense_1 (Dense)              (None, 256)               200960    \n",
            "_________________________________________________________________\n",
            "dense_2 (Dense)              (None, 10)                2570      \n",
            "=================================================================\n",
            "Total params: 203,530\n",
            "Trainable params: 203,530\n",
            "Non-trainable params: 0\n",
            "_________________________________________________________________\n"
          ],
          "name": "stdout"
        }
      ]
    },
    {
      "cell_type": "code",
      "metadata": {
        "id": "1syPRIZjNXc5",
        "colab_type": "code",
        "outputId": "efebfc8a-c342-405f-9258-94570670a632",
        "colab": {
          "base_uri": "https://localhost:8080/",
          "height": 1000
        }
      },
      "source": [
        "history = model.fit(trainX, trainY, epochs=epochs, validation_split=validation_split, verbose=verbose, shuffle = True)"
      ],
      "execution_count": 8,
      "outputs": [
        {
          "output_type": "stream",
          "text": [
            "WARNING:tensorflow:From /usr/local/lib/python3.6/dist-packages/tensorflow/python/ops/math_grad.py:1250: add_dispatch_support.<locals>.wrapper (from tensorflow.python.ops.array_ops) is deprecated and will be removed in a future version.\n",
            "Instructions for updating:\n",
            "Use tf.where in 2.0, which has the same broadcast rule as np.where\n",
            "WARNING:tensorflow:From /usr/local/lib/python3.6/dist-packages/keras/backend/tensorflow_backend.py:1033: The name tf.assign_add is deprecated. Please use tf.compat.v1.assign_add instead.\n",
            "\n",
            "Train on 48000 samples, validate on 12000 samples\n",
            "Epoch 1/100\n",
            "48000/48000 [==============================] - 7s 148us/step - loss: 0.5047 - acc: 0.8216 - val_loss: 0.4331 - val_acc: 0.8506\n",
            "Epoch 2/100\n",
            " 1120/48000 [..............................] - ETA: 12s - loss: 0.3930 - acc: 0.8607"
          ],
          "name": "stdout"
        },
        {
          "output_type": "stream",
          "text": [
            "/usr/local/lib/python3.6/dist-packages/keras/callbacks.py:95: RuntimeWarning: Method (on_train_batch_end) is slow compared to the batch update (0.125727). Check your callbacks.\n",
            "  % (hook_name, delta_t_median), RuntimeWarning)\n"
          ],
          "name": "stderr"
        },
        {
          "output_type": "stream",
          "text": [
            "48000/48000 [==============================] - 7s 145us/step - loss: 0.3769 - acc: 0.8622 - val_loss: 0.3650 - val_acc: 0.8672\n",
            "Epoch 3/100\n",
            "48000/48000 [==============================] - 7s 140us/step - loss: 0.3363 - acc: 0.8779 - val_loss: 0.3650 - val_acc: 0.8662\n",
            "Epoch 4/100\n",
            "48000/48000 [==============================] - 7s 142us/step - loss: 0.3096 - acc: 0.8858 - val_loss: 0.3321 - val_acc: 0.8807\n",
            "Epoch 5/100\n",
            "48000/48000 [==============================] - 7s 152us/step - loss: 0.2902 - acc: 0.8923 - val_loss: 0.3243 - val_acc: 0.8834\n",
            "Epoch 6/100\n",
            "48000/48000 [==============================] - 7s 154us/step - loss: 0.2740 - acc: 0.8994 - val_loss: 0.3299 - val_acc: 0.8848\n",
            "Epoch 7/100\n",
            "48000/48000 [==============================] - 7s 144us/step - loss: 0.2614 - acc: 0.9021 - val_loss: 0.3202 - val_acc: 0.8847\n",
            "Epoch 8/100\n",
            "48000/48000 [==============================] - 7s 141us/step - loss: 0.2512 - acc: 0.9070 - val_loss: 0.3105 - val_acc: 0.8892\n",
            "Epoch 9/100\n",
            "48000/48000 [==============================] - 7s 141us/step - loss: 0.2386 - acc: 0.9124 - val_loss: 0.3181 - val_acc: 0.8874\n",
            "Epoch 10/100\n",
            "48000/48000 [==============================] - 7s 143us/step - loss: 0.2303 - acc: 0.9144 - val_loss: 0.3150 - val_acc: 0.8901\n",
            "Epoch 11/100\n",
            "48000/48000 [==============================] - 7s 145us/step - loss: 0.2217 - acc: 0.9170 - val_loss: 0.3341 - val_acc: 0.8859\n",
            "Epoch 12/100\n",
            "48000/48000 [==============================] - 7s 146us/step - loss: 0.2135 - acc: 0.9201 - val_loss: 0.3212 - val_acc: 0.8860\n",
            "Epoch 13/100\n",
            "48000/48000 [==============================] - 7s 145us/step - loss: 0.2036 - acc: 0.9236 - val_loss: 0.3572 - val_acc: 0.8828\n",
            "Epoch 14/100\n",
            "48000/48000 [==============================] - 7s 143us/step - loss: 0.1982 - acc: 0.9263 - val_loss: 0.3182 - val_acc: 0.8906\n",
            "Epoch 15/100\n",
            "48000/48000 [==============================] - 7s 142us/step - loss: 0.1918 - acc: 0.9286 - val_loss: 0.3257 - val_acc: 0.8901\n",
            "Epoch 16/100\n",
            "48000/48000 [==============================] - 7s 142us/step - loss: 0.1866 - acc: 0.9294 - val_loss: 0.3367 - val_acc: 0.8890\n",
            "Epoch 17/100\n",
            "48000/48000 [==============================] - 7s 143us/step - loss: 0.1786 - acc: 0.9333 - val_loss: 0.3401 - val_acc: 0.8905\n",
            "Epoch 18/100\n",
            "48000/48000 [==============================] - 7s 140us/step - loss: 0.1729 - acc: 0.9345 - val_loss: 0.3429 - val_acc: 0.8922\n",
            "Epoch 19/100\n",
            "48000/48000 [==============================] - 7s 142us/step - loss: 0.1650 - acc: 0.9382 - val_loss: 0.3334 - val_acc: 0.8972\n",
            "Epoch 20/100\n",
            "48000/48000 [==============================] - 7s 139us/step - loss: 0.1631 - acc: 0.9380 - val_loss: 0.3379 - val_acc: 0.8920\n",
            "Epoch 21/100\n",
            "48000/48000 [==============================] - 7s 142us/step - loss: 0.1580 - acc: 0.9406 - val_loss: 0.3345 - val_acc: 0.8905\n",
            "Epoch 22/100\n",
            "48000/48000 [==============================] - 7s 142us/step - loss: 0.1518 - acc: 0.9436 - val_loss: 0.3552 - val_acc: 0.8882\n",
            "Epoch 23/100\n",
            "48000/48000 [==============================] - 7s 142us/step - loss: 0.1487 - acc: 0.9441 - val_loss: 0.3510 - val_acc: 0.8939\n",
            "Epoch 24/100\n",
            "48000/48000 [==============================] - 7s 141us/step - loss: 0.1414 - acc: 0.9475 - val_loss: 0.3618 - val_acc: 0.8921\n",
            "Epoch 25/100\n",
            "48000/48000 [==============================] - 7s 137us/step - loss: 0.1416 - acc: 0.9472 - val_loss: 0.3549 - val_acc: 0.8929\n",
            "Epoch 26/100\n",
            "48000/48000 [==============================] - 7s 140us/step - loss: 0.1344 - acc: 0.9499 - val_loss: 0.3800 - val_acc: 0.8944\n",
            "Epoch 27/100\n",
            "48000/48000 [==============================] - 7s 140us/step - loss: 0.1311 - acc: 0.9504 - val_loss: 0.3815 - val_acc: 0.8902\n",
            "Epoch 28/100\n",
            "48000/48000 [==============================] - 7s 141us/step - loss: 0.1288 - acc: 0.9523 - val_loss: 0.4152 - val_acc: 0.8826\n",
            "Epoch 29/100\n",
            "48000/48000 [==============================] - 7s 143us/step - loss: 0.1257 - acc: 0.9534 - val_loss: 0.3776 - val_acc: 0.8944\n",
            "Epoch 30/100\n",
            "48000/48000 [==============================] - 7s 146us/step - loss: 0.1218 - acc: 0.9535 - val_loss: 0.3821 - val_acc: 0.8948\n",
            "Epoch 31/100\n",
            "48000/48000 [==============================] - 7s 143us/step - loss: 0.1182 - acc: 0.9549 - val_loss: 0.3898 - val_acc: 0.8965\n",
            "Epoch 32/100\n",
            "48000/48000 [==============================] - 7s 140us/step - loss: 0.1164 - acc: 0.9568 - val_loss: 0.3851 - val_acc: 0.8918\n",
            "Epoch 33/100\n",
            "48000/48000 [==============================] - 7s 138us/step - loss: 0.1135 - acc: 0.9570 - val_loss: 0.4284 - val_acc: 0.8844\n",
            "Epoch 34/100\n",
            "48000/48000 [==============================] - 6s 134us/step - loss: 0.1109 - acc: 0.9577 - val_loss: 0.4186 - val_acc: 0.8932\n",
            "Epoch 35/100\n",
            "48000/48000 [==============================] - 7s 136us/step - loss: 0.1067 - acc: 0.9599 - val_loss: 0.4182 - val_acc: 0.8926\n",
            "Epoch 36/100\n",
            "48000/48000 [==============================] - 7s 138us/step - loss: 0.1072 - acc: 0.9596 - val_loss: 0.4362 - val_acc: 0.8914\n",
            "Epoch 37/100\n",
            "48000/48000 [==============================] - 7s 146us/step - loss: 0.1041 - acc: 0.9607 - val_loss: 0.4467 - val_acc: 0.8889\n",
            "Epoch 38/100\n",
            "48000/48000 [==============================] - 7s 151us/step - loss: 0.1007 - acc: 0.9628 - val_loss: 0.4457 - val_acc: 0.8883\n",
            "Epoch 39/100\n",
            "48000/48000 [==============================] - 8s 167us/step - loss: 0.1012 - acc: 0.9613 - val_loss: 0.4393 - val_acc: 0.8929\n",
            "Epoch 40/100\n",
            "48000/48000 [==============================] - 7s 151us/step - loss: 0.0955 - acc: 0.9632 - val_loss: 0.4414 - val_acc: 0.8888\n",
            "Epoch 41/100\n",
            "48000/48000 [==============================] - 7s 137us/step - loss: 0.0952 - acc: 0.9636 - val_loss: 0.4686 - val_acc: 0.8872\n",
            "Epoch 42/100\n",
            "48000/48000 [==============================] - 7s 136us/step - loss: 0.0935 - acc: 0.9650 - val_loss: 0.4543 - val_acc: 0.8919\n",
            "Epoch 43/100\n",
            "48000/48000 [==============================] - 6s 134us/step - loss: 0.0887 - acc: 0.9666 - val_loss: 0.4743 - val_acc: 0.8884\n",
            "Epoch 44/100\n",
            "48000/48000 [==============================] - 7s 146us/step - loss: 0.0918 - acc: 0.9662 - val_loss: 0.4738 - val_acc: 0.8871\n",
            "Epoch 45/100\n",
            "48000/48000 [==============================] - 7s 145us/step - loss: 0.0877 - acc: 0.9664 - val_loss: 0.4517 - val_acc: 0.8946\n",
            "Epoch 46/100\n",
            "48000/48000 [==============================] - 6s 134us/step - loss: 0.0854 - acc: 0.9685 - val_loss: 0.4526 - val_acc: 0.8946\n",
            "Epoch 47/100\n",
            "48000/48000 [==============================] - 7s 136us/step - loss: 0.0839 - acc: 0.9682 - val_loss: 0.5181 - val_acc: 0.8850\n",
            "Epoch 48/100\n",
            "48000/48000 [==============================] - 7s 136us/step - loss: 0.0800 - acc: 0.9700 - val_loss: 0.4687 - val_acc: 0.8916\n",
            "Epoch 49/100\n",
            "48000/48000 [==============================] - 7s 136us/step - loss: 0.0818 - acc: 0.9683 - val_loss: 0.4802 - val_acc: 0.8949\n",
            "Epoch 50/100\n",
            "48000/48000 [==============================] - 7s 137us/step - loss: 0.0775 - acc: 0.9713 - val_loss: 0.4820 - val_acc: 0.8937\n",
            "Epoch 51/100\n",
            "48000/48000 [==============================] - 7s 144us/step - loss: 0.0777 - acc: 0.9711 - val_loss: 0.5070 - val_acc: 0.8925\n",
            "Epoch 52/100\n",
            "48000/48000 [==============================] - 7s 139us/step - loss: 0.0748 - acc: 0.9714 - val_loss: 0.4869 - val_acc: 0.8928\n",
            "Epoch 53/100\n",
            "48000/48000 [==============================] - 6s 135us/step - loss: 0.0765 - acc: 0.9709 - val_loss: 0.5035 - val_acc: 0.8902\n",
            "Epoch 54/100\n",
            "48000/48000 [==============================] - 7s 136us/step - loss: 0.0752 - acc: 0.9723 - val_loss: 0.5174 - val_acc: 0.8872\n",
            "Epoch 55/100\n",
            "48000/48000 [==============================] - 6s 135us/step - loss: 0.0707 - acc: 0.9738 - val_loss: 0.4994 - val_acc: 0.8962\n",
            "Epoch 56/100\n",
            "48000/48000 [==============================] - 7s 136us/step - loss: 0.0726 - acc: 0.9731 - val_loss: 0.5260 - val_acc: 0.8901\n",
            "Epoch 57/100\n",
            "48000/48000 [==============================] - 6s 134us/step - loss: 0.0687 - acc: 0.9741 - val_loss: 0.5161 - val_acc: 0.8906\n",
            "Epoch 58/100\n",
            "48000/48000 [==============================] - 7s 136us/step - loss: 0.0698 - acc: 0.9739 - val_loss: 0.5583 - val_acc: 0.8908\n",
            "Epoch 59/100\n",
            "48000/48000 [==============================] - 7s 141us/step - loss: 0.0653 - acc: 0.9757 - val_loss: 0.5367 - val_acc: 0.8898\n",
            "Epoch 60/100\n",
            "48000/48000 [==============================] - 7s 146us/step - loss: 0.0650 - acc: 0.9752 - val_loss: 0.5274 - val_acc: 0.8919\n",
            "Epoch 61/100\n",
            "48000/48000 [==============================] - 7s 136us/step - loss: 0.0671 - acc: 0.9752 - val_loss: 0.5258 - val_acc: 0.8904\n",
            "Epoch 62/100\n",
            "48000/48000 [==============================] - 6s 133us/step - loss: 0.0634 - acc: 0.9766 - val_loss: 0.5525 - val_acc: 0.8916\n",
            "Epoch 63/100\n",
            "48000/48000 [==============================] - 6s 134us/step - loss: 0.0636 - acc: 0.9760 - val_loss: 0.5409 - val_acc: 0.8950\n",
            "Epoch 64/100\n",
            "48000/48000 [==============================] - 7s 139us/step - loss: 0.0607 - acc: 0.9773 - val_loss: 0.5331 - val_acc: 0.8968\n",
            "Epoch 65/100\n",
            "48000/48000 [==============================] - 6s 135us/step - loss: 0.0624 - acc: 0.9766 - val_loss: 0.5611 - val_acc: 0.8877\n",
            "Epoch 66/100\n",
            "48000/48000 [==============================] - 7s 136us/step - loss: 0.0586 - acc: 0.9782 - val_loss: 0.5899 - val_acc: 0.8880\n",
            "Epoch 67/100\n",
            "48000/48000 [==============================] - 6s 135us/step - loss: 0.0600 - acc: 0.9779 - val_loss: 0.5618 - val_acc: 0.8947\n",
            "Epoch 68/100\n",
            "48000/48000 [==============================] - 7s 136us/step - loss: 0.0596 - acc: 0.9768 - val_loss: 0.5653 - val_acc: 0.8891\n",
            "Epoch 69/100\n",
            "48000/48000 [==============================] - 6s 135us/step - loss: 0.0556 - acc: 0.9793 - val_loss: 0.5977 - val_acc: 0.8872\n",
            "Epoch 70/100\n",
            "48000/48000 [==============================] - 6s 135us/step - loss: 0.0592 - acc: 0.9778 - val_loss: 0.5887 - val_acc: 0.8894\n",
            "Epoch 71/100\n",
            "48000/48000 [==============================] - 6s 134us/step - loss: 0.0546 - acc: 0.9796 - val_loss: 0.5801 - val_acc: 0.8883\n",
            "Epoch 72/100\n",
            "48000/48000 [==============================] - 6s 135us/step - loss: 0.0562 - acc: 0.9787 - val_loss: 0.6030 - val_acc: 0.8918\n",
            "Epoch 73/100\n",
            "48000/48000 [==============================] - 7s 136us/step - loss: 0.0544 - acc: 0.9799 - val_loss: 0.5758 - val_acc: 0.8916\n",
            "Epoch 74/100\n",
            "48000/48000 [==============================] - 7s 136us/step - loss: 0.0529 - acc: 0.9803 - val_loss: 0.6279 - val_acc: 0.8892\n",
            "Epoch 75/100\n",
            "48000/48000 [==============================] - 6s 135us/step - loss: 0.0540 - acc: 0.9800 - val_loss: 0.5903 - val_acc: 0.8932\n",
            "Epoch 76/100\n",
            "48000/48000 [==============================] - 6s 135us/step - loss: 0.0527 - acc: 0.9806 - val_loss: 0.6115 - val_acc: 0.8915\n",
            "Epoch 77/100\n",
            "48000/48000 [==============================] - 7s 135us/step - loss: 0.0543 - acc: 0.9799 - val_loss: 0.6227 - val_acc: 0.8910\n",
            "Epoch 78/100\n",
            "48000/48000 [==============================] - 6s 135us/step - loss: 0.0488 - acc: 0.9819 - val_loss: 0.6412 - val_acc: 0.8880\n",
            "Epoch 79/100\n",
            "48000/48000 [==============================] - 6s 135us/step - loss: 0.0520 - acc: 0.9800 - val_loss: 0.6059 - val_acc: 0.8948\n",
            "Epoch 80/100\n",
            "48000/48000 [==============================] - 6s 135us/step - loss: 0.0488 - acc: 0.9819 - val_loss: 0.6141 - val_acc: 0.8913\n",
            "Epoch 81/100\n",
            "48000/48000 [==============================] - 6s 135us/step - loss: 0.0481 - acc: 0.9823 - val_loss: 0.6392 - val_acc: 0.8889\n",
            "Epoch 82/100\n",
            "48000/48000 [==============================] - 6s 135us/step - loss: 0.0480 - acc: 0.9823 - val_loss: 0.6313 - val_acc: 0.8878\n",
            "Epoch 83/100\n",
            "48000/48000 [==============================] - 6s 134us/step - loss: 0.0492 - acc: 0.9816 - val_loss: 0.6447 - val_acc: 0.8919\n",
            "Epoch 84/100\n",
            "48000/48000 [==============================] - 6s 134us/step - loss: 0.0471 - acc: 0.9823 - val_loss: 0.6297 - val_acc: 0.8924\n",
            "Epoch 85/100\n",
            "48000/48000 [==============================] - 6s 135us/step - loss: 0.0473 - acc: 0.9824 - val_loss: 0.6406 - val_acc: 0.8943\n",
            "Epoch 86/100\n",
            "48000/48000 [==============================] - 6s 135us/step - loss: 0.0472 - acc: 0.9828 - val_loss: 0.6392 - val_acc: 0.8915\n",
            "Epoch 87/100\n",
            "48000/48000 [==============================] - 6s 135us/step - loss: 0.0460 - acc: 0.9827 - val_loss: 0.6726 - val_acc: 0.8919\n",
            "Epoch 88/100\n",
            "48000/48000 [==============================] - 6s 134us/step - loss: 0.0432 - acc: 0.9840 - val_loss: 0.6627 - val_acc: 0.8872\n",
            "Epoch 89/100\n",
            "48000/48000 [==============================] - 6s 134us/step - loss: 0.0431 - acc: 0.9841 - val_loss: 0.6592 - val_acc: 0.8937\n",
            "Epoch 90/100\n",
            "48000/48000 [==============================] - 6s 133us/step - loss: 0.0490 - acc: 0.9821 - val_loss: 0.6689 - val_acc: 0.8912\n",
            "Epoch 91/100\n",
            "48000/48000 [==============================] - 8s 159us/step - loss: 0.0402 - acc: 0.9851 - val_loss: 0.6590 - val_acc: 0.8877\n",
            "Epoch 92/100\n",
            "48000/48000 [==============================] - 7s 142us/step - loss: 0.0435 - acc: 0.9842 - val_loss: 0.6597 - val_acc: 0.8928\n",
            "Epoch 93/100\n",
            "48000/48000 [==============================] - 7s 145us/step - loss: 0.0418 - acc: 0.9846 - val_loss: 0.6496 - val_acc: 0.8932\n",
            "Epoch 94/100\n",
            "48000/48000 [==============================] - 6s 133us/step - loss: 0.0414 - acc: 0.9850 - val_loss: 0.6784 - val_acc: 0.8919\n",
            "Epoch 95/100\n",
            "48000/48000 [==============================] - 6s 135us/step - loss: 0.0421 - acc: 0.9845 - val_loss: 0.6483 - val_acc: 0.8927\n",
            "Epoch 96/100\n",
            "48000/48000 [==============================] - 6s 135us/step - loss: 0.0379 - acc: 0.9857 - val_loss: 0.6646 - val_acc: 0.8899\n",
            "Epoch 97/100\n",
            "48000/48000 [==============================] - 6s 134us/step - loss: 0.0467 - acc: 0.9831 - val_loss: 0.7299 - val_acc: 0.8879\n",
            "Epoch 98/100\n",
            "48000/48000 [==============================] - 7s 138us/step - loss: 0.0410 - acc: 0.9852 - val_loss: 0.6907 - val_acc: 0.8922\n",
            "Epoch 99/100\n",
            "48000/48000 [==============================] - 7s 144us/step - loss: 0.0382 - acc: 0.9856 - val_loss: 0.6665 - val_acc: 0.8917\n",
            "Epoch 100/100\n",
            "48000/48000 [==============================] - 6s 134us/step - loss: 0.0375 - acc: 0.9863 - val_loss: 0.6660 - val_acc: 0.8912\n"
          ],
          "name": "stdout"
        }
      ]
    },
    {
      "cell_type": "code",
      "metadata": {
        "id": "Gq20HgHRZWdA",
        "colab_type": "code",
        "outputId": "336ebdde-44d2-4d66-ab08-6ac250b199fd",
        "colab": {
          "base_uri": "https://localhost:8080/",
          "height": 573
        }
      },
      "source": [
        "show_graph(history)"
      ],
      "execution_count": 9,
      "outputs": [
        {
          "output_type": "display_data",
          "data": {
            "image/png": "[encoded data removed]",
            "text/plain": [
              "<Figure size 432x288 with 1 Axes>"
            ]
          },
          "metadata": {
            "tags": []
          }
        },
        {
          "output_type": "display_data",
          "data": {
            "image/png": "[encoded data removed]",
            "text/plain": [
              "<Figure size 432x288 with 1 Axes>"
            ]
          },
          "metadata": {
            "tags": []
          }
        }
      ]
    },
    {
      "cell_type": "code",
      "metadata": {
        "id": "nmycPUFLNJZA",
        "colab_type": "code",
        "outputId": "0ebab946-7d5e-43ea-b94c-0753c956d8dc",
        "colab": {
          "base_uri": "https://localhost:8080/",
          "height": 51
        }
      },
      "source": [
        "test_loss, test_acc = model.evaluate(testX, testY)\n",
        "test_loss , test_acc"
      ],
      "execution_count": 10,
      "outputs": [
        {
          "output_type": "stream",
          "text": [
            "10000/10000 [==============================] - 0s 35us/step\n"
          ],
          "name": "stdout"
        },
        {
          "output_type": "execute_result",
          "data": {
            "text/plain": [
              "(0.7063835167914629, 0.8889)"
            ]
          },
          "metadata": {
            "tags": []
          },
          "execution_count": 10
        }
      ]
    },
    {
      "cell_type": "code",
      "metadata": {
        "id": "XY4Zn52QOsIa",
        "colab_type": "code",
        "outputId": "66552006-4e89-41ef-e6b1-eebe0b25946b",
        "colab": {
          "base_uri": "https://localhost:8080/",
          "height": 357
        }
      },
      "source": [
        "model_1 = keras.Sequential([\n",
        "    keras.layers.Flatten(input_shape=(trainX.shape[1],trainX.shape[2])),\n",
        "    keras.layers.Dense(512, activation=tf.nn.relu),\n",
        "    keras.layers.Dense(256, activation=tf.nn.relu),\n",
        "    keras.layers.Dense(128, activation=tf.nn.relu),\n",
        "    keras.layers.Dense(64, activation=tf.nn.relu),\n",
        "    keras.layers.Dense(10, activation=tf.nn.softmax)\n",
        "])\n",
        "model_1.compile(optimizer='adam',\n",
        "              loss='sparse_categorical_crossentropy',\n",
        "              metrics=['accuracy'])\n",
        "model_1.summary()"
      ],
      "execution_count": 11,
      "outputs": [
        {
          "output_type": "stream",
          "text": [
            "Model: \"sequential_2\"\n",
            "_________________________________________________________________\n",
            "Layer (type)                 Output Shape              Param #   \n",
            "=================================================================\n",
            "flatten_2 (Flatten)          (None, 784)               0         \n",
            "_________________________________________________________________\n",
            "dense_3 (Dense)              (None, 512)               401920    \n",
            "_________________________________________________________________\n",
            "dense_4 (Dense)              (None, 256)               131328    \n",
            "_________________________________________________________________\n",
            "dense_5 (Dense)              (None, 128)               32896     \n",
            "_________________________________________________________________\n",
            "dense_6 (Dense)              (None, 64)                8256      \n",
            "_________________________________________________________________\n",
            "dense_7 (Dense)              (None, 10)                650       \n",
            "=================================================================\n",
            "Total params: 575,050\n",
            "Trainable params: 575,050\n",
            "Non-trainable params: 0\n",
            "_________________________________________________________________\n"
          ],
          "name": "stdout"
        }
      ]
    },
    {
      "cell_type": "code",
      "metadata": {
        "id": "c2aZ1iH2PGnR",
        "colab_type": "code",
        "outputId": "641032a8-25b3-48a8-a8f1-f515ca54406b",
        "colab": {
          "base_uri": "https://localhost:8080/",
          "height": 1000
        }
      },
      "source": [
        "history_1 = model_1.fit(trainX, trainY, epochs=epochs, validation_split=validation_split,verbose=verbose, shuffle = True)"
      ],
      "execution_count": 12,
      "outputs": [
        {
          "output_type": "stream",
          "text": [
            "Train on 48000 samples, validate on 12000 samples\n",
            "Epoch 1/100\n",
            "48000/48000 [==============================] - 15s 315us/step - loss: 0.5061 - acc: 0.8162 - val_loss: 0.4123 - val_acc: 0.8504\n",
            "Epoch 2/100\n",
            "48000/48000 [==============================] - 15s 315us/step - loss: 0.3786 - acc: 0.8624 - val_loss: 0.3736 - val_acc: 0.8665\n",
            "Epoch 3/100\n",
            "48000/48000 [==============================] - 15s 315us/step - loss: 0.3415 - acc: 0.8744 - val_loss: 0.3396 - val_acc: 0.8764\n",
            "Epoch 4/100\n",
            "48000/48000 [==============================] - 15s 319us/step - loss: 0.3180 - acc: 0.8830 - val_loss: 0.3211 - val_acc: 0.8869\n",
            "Epoch 5/100\n",
            "48000/48000 [==============================] - 15s 323us/step - loss: 0.2962 - acc: 0.8900 - val_loss: 0.3394 - val_acc: 0.8751\n",
            "Epoch 6/100\n",
            "48000/48000 [==============================] - 15s 317us/step - loss: 0.2839 - acc: 0.8938 - val_loss: 0.3188 - val_acc: 0.8868\n",
            "Epoch 7/100\n",
            "48000/48000 [==============================] - 16s 327us/step - loss: 0.2684 - acc: 0.9002 - val_loss: 0.3379 - val_acc: 0.8812\n",
            "Epoch 8/100\n",
            "48000/48000 [==============================] - 15s 318us/step - loss: 0.2564 - acc: 0.9049 - val_loss: 0.3314 - val_acc: 0.8833\n",
            "Epoch 9/100\n",
            "48000/48000 [==============================] - 15s 318us/step - loss: 0.2451 - acc: 0.9067 - val_loss: 0.3569 - val_acc: 0.8814\n",
            "Epoch 10/100\n",
            "48000/48000 [==============================] - 16s 335us/step - loss: 0.2408 - acc: 0.9098 - val_loss: 0.3186 - val_acc: 0.8852\n",
            "Epoch 11/100\n",
            "48000/48000 [==============================] - 16s 336us/step - loss: 0.2292 - acc: 0.9147 - val_loss: 0.3233 - val_acc: 0.8862\n",
            "Epoch 12/100\n",
            "48000/48000 [==============================] - 16s 331us/step - loss: 0.2195 - acc: 0.9169 - val_loss: 0.3440 - val_acc: 0.8844\n",
            "Epoch 13/100\n",
            "48000/48000 [==============================] - 16s 339us/step - loss: 0.2139 - acc: 0.9200 - val_loss: 0.3064 - val_acc: 0.8965\n",
            "Epoch 14/100\n",
            "48000/48000 [==============================] - 16s 341us/step - loss: 0.2015 - acc: 0.9236 - val_loss: 0.3276 - val_acc: 0.8900\n",
            "Epoch 15/100\n",
            "48000/48000 [==============================] - 16s 332us/step - loss: 0.1983 - acc: 0.9240 - val_loss: 0.3679 - val_acc: 0.8806\n",
            "Epoch 16/100\n",
            "48000/48000 [==============================] - 16s 336us/step - loss: 0.1912 - acc: 0.9279 - val_loss: 0.3375 - val_acc: 0.8920\n",
            "Epoch 17/100\n",
            "48000/48000 [==============================] - 16s 330us/step - loss: 0.1848 - acc: 0.9295 - val_loss: 0.3722 - val_acc: 0.8859\n",
            "Epoch 18/100\n",
            "48000/48000 [==============================] - 16s 326us/step - loss: 0.1808 - acc: 0.9318 - val_loss: 0.3375 - val_acc: 0.8949\n",
            "Epoch 19/100\n",
            "48000/48000 [==============================] - 16s 336us/step - loss: 0.1747 - acc: 0.9338 - val_loss: 0.3483 - val_acc: 0.8933\n",
            "Epoch 20/100\n",
            "48000/48000 [==============================] - 16s 337us/step - loss: 0.1747 - acc: 0.9337 - val_loss: 0.3601 - val_acc: 0.8962\n",
            "Epoch 21/100\n",
            "48000/48000 [==============================] - 16s 327us/step - loss: 0.1640 - acc: 0.9383 - val_loss: 0.3963 - val_acc: 0.8892\n",
            "Epoch 22/100\n",
            "48000/48000 [==============================] - 16s 329us/step - loss: 0.1590 - acc: 0.9394 - val_loss: 0.3681 - val_acc: 0.8916\n",
            "Epoch 23/100\n",
            "48000/48000 [==============================] - 16s 341us/step - loss: 0.1567 - acc: 0.9411 - val_loss: 0.3493 - val_acc: 0.8916\n",
            "Epoch 24/100\n",
            "48000/48000 [==============================] - 16s 343us/step - loss: 0.1520 - acc: 0.9419 - val_loss: 0.3791 - val_acc: 0.8940\n",
            "Epoch 25/100\n",
            "48000/48000 [==============================] - 16s 343us/step - loss: 0.1520 - acc: 0.9424 - val_loss: 0.3956 - val_acc: 0.8944\n",
            "Epoch 26/100\n",
            "48000/48000 [==============================] - 16s 336us/step - loss: 0.1451 - acc: 0.9439 - val_loss: 0.4679 - val_acc: 0.8838\n",
            "Epoch 27/100\n",
            "48000/48000 [==============================] - 16s 333us/step - loss: 0.1421 - acc: 0.9458 - val_loss: 0.4301 - val_acc: 0.8968\n",
            "Epoch 28/100\n",
            "48000/48000 [==============================] - 17s 355us/step - loss: 0.1404 - acc: 0.9463 - val_loss: 0.3876 - val_acc: 0.8989\n",
            "Epoch 29/100\n",
            "48000/48000 [==============================] - 17s 356us/step - loss: 0.1395 - acc: 0.9470 - val_loss: 0.3814 - val_acc: 0.8982\n",
            "Epoch 30/100\n",
            "48000/48000 [==============================] - 17s 346us/step - loss: 0.1362 - acc: 0.9476 - val_loss: 0.4242 - val_acc: 0.8937\n",
            "Epoch 31/100\n",
            "48000/48000 [==============================] - 16s 343us/step - loss: 0.1273 - acc: 0.9515 - val_loss: 0.4420 - val_acc: 0.8924\n",
            "Epoch 32/100\n",
            "48000/48000 [==============================] - 16s 336us/step - loss: 0.1242 - acc: 0.9513 - val_loss: 0.4401 - val_acc: 0.8929\n",
            "Epoch 33/100\n",
            "48000/48000 [==============================] - 16s 335us/step - loss: 0.1240 - acc: 0.9526 - val_loss: 0.4296 - val_acc: 0.8908\n",
            "Epoch 34/100\n",
            "48000/48000 [==============================] - 16s 340us/step - loss: 0.1238 - acc: 0.9522 - val_loss: 0.4337 - val_acc: 0.8947\n",
            "Epoch 35/100\n",
            "48000/48000 [==============================] - 17s 350us/step - loss: 0.1252 - acc: 0.9532 - val_loss: 0.4575 - val_acc: 0.8920\n",
            "Epoch 36/100\n",
            "48000/48000 [==============================] - 16s 334us/step - loss: 0.1160 - acc: 0.9549 - val_loss: 0.4510 - val_acc: 0.8885\n",
            "Epoch 37/100\n",
            "48000/48000 [==============================] - 16s 337us/step - loss: 0.1157 - acc: 0.9558 - val_loss: 0.5164 - val_acc: 0.8897\n",
            "Epoch 38/100\n",
            "48000/48000 [==============================] - 16s 338us/step - loss: 0.1182 - acc: 0.9553 - val_loss: 0.4495 - val_acc: 0.8955\n",
            "Epoch 39/100\n",
            "48000/48000 [==============================] - 17s 345us/step - loss: 0.1060 - acc: 0.9597 - val_loss: 0.4745 - val_acc: 0.8874\n",
            "Epoch 40/100\n",
            "48000/48000 [==============================] - 16s 341us/step - loss: 0.1094 - acc: 0.9576 - val_loss: 0.4457 - val_acc: 0.8910\n",
            "Epoch 41/100\n",
            "48000/48000 [==============================] - 18s 378us/step - loss: 0.1077 - acc: 0.9591 - val_loss: 0.5511 - val_acc: 0.8818\n",
            "Epoch 42/100\n",
            "48000/48000 [==============================] - 18s 375us/step - loss: 0.1096 - acc: 0.9588 - val_loss: 0.4703 - val_acc: 0.8935\n",
            "Epoch 43/100\n",
            "48000/48000 [==============================] - 16s 341us/step - loss: 0.1024 - acc: 0.9610 - val_loss: 0.4697 - val_acc: 0.8960\n",
            "Epoch 44/100\n",
            "48000/48000 [==============================] - 15s 323us/step - loss: 0.0995 - acc: 0.9624 - val_loss: 0.4857 - val_acc: 0.8976\n",
            "Epoch 45/100\n",
            "48000/48000 [==============================] - 15s 322us/step - loss: 0.1026 - acc: 0.9607 - val_loss: 0.5010 - val_acc: 0.8942\n",
            "Epoch 46/100\n",
            "48000/48000 [==============================] - 16s 331us/step - loss: 0.0951 - acc: 0.9642 - val_loss: 0.4921 - val_acc: 0.8922\n",
            "Epoch 47/100\n",
            "48000/48000 [==============================] - 16s 326us/step - loss: 0.0992 - acc: 0.9629 - val_loss: 0.5417 - val_acc: 0.8892\n",
            "Epoch 48/100\n",
            "48000/48000 [==============================] - 16s 339us/step - loss: 0.1019 - acc: 0.9621 - val_loss: 0.4838 - val_acc: 0.8936\n",
            "Epoch 49/100\n",
            "48000/48000 [==============================] - 16s 335us/step - loss: 0.0963 - acc: 0.9643 - val_loss: 0.5211 - val_acc: 0.8926\n",
            "Epoch 50/100\n",
            "48000/48000 [==============================] - 16s 342us/step - loss: 0.0909 - acc: 0.9659 - val_loss: 0.5270 - val_acc: 0.8918\n",
            "Epoch 51/100\n",
            "48000/48000 [==============================] - 17s 355us/step - loss: 0.0981 - acc: 0.9643 - val_loss: 0.4934 - val_acc: 0.8892\n",
            "Epoch 52/100\n",
            "48000/48000 [==============================] - 16s 335us/step - loss: 0.0849 - acc: 0.9687 - val_loss: 0.5418 - val_acc: 0.8951\n",
            "Epoch 53/100\n",
            "48000/48000 [==============================] - 17s 350us/step - loss: 0.0854 - acc: 0.9675 - val_loss: 0.5027 - val_acc: 0.8912\n",
            "Epoch 54/100\n",
            "48000/48000 [==============================] - 16s 334us/step - loss: 0.0875 - acc: 0.9671 - val_loss: 0.5624 - val_acc: 0.8912\n",
            "Epoch 55/100\n",
            "48000/48000 [==============================] - 16s 333us/step - loss: 0.0888 - acc: 0.9669 - val_loss: 0.5143 - val_acc: 0.8955\n",
            "Epoch 56/100\n",
            "48000/48000 [==============================] - 16s 339us/step - loss: 0.0882 - acc: 0.9672 - val_loss: 0.5744 - val_acc: 0.8878\n",
            "Epoch 57/100\n",
            "48000/48000 [==============================] - 17s 350us/step - loss: 0.0800 - acc: 0.9703 - val_loss: 0.5508 - val_acc: 0.8948\n",
            "Epoch 58/100\n",
            "48000/48000 [==============================] - 16s 334us/step - loss: 0.0843 - acc: 0.9686 - val_loss: 0.5452 - val_acc: 0.8936\n",
            "Epoch 59/100\n",
            "48000/48000 [==============================] - 15s 320us/step - loss: 0.0821 - acc: 0.9693 - val_loss: 0.5431 - val_acc: 0.8930\n",
            "Epoch 60/100\n",
            "48000/48000 [==============================] - 15s 320us/step - loss: 0.0726 - acc: 0.9730 - val_loss: 0.5906 - val_acc: 0.8989\n",
            "Epoch 61/100\n",
            "48000/48000 [==============================] - 16s 329us/step - loss: 0.0796 - acc: 0.9710 - val_loss: 0.5682 - val_acc: 0.8958\n",
            "Epoch 62/100\n",
            "48000/48000 [==============================] - 16s 324us/step - loss: 0.0834 - acc: 0.9700 - val_loss: 0.6140 - val_acc: 0.8932\n",
            "Epoch 63/100\n",
            "48000/48000 [==============================] - 16s 334us/step - loss: 0.0795 - acc: 0.9715 - val_loss: 0.5453 - val_acc: 0.8942\n",
            "Epoch 64/100\n",
            "48000/48000 [==============================] - 16s 332us/step - loss: 0.0736 - acc: 0.9729 - val_loss: 0.5669 - val_acc: 0.8938\n",
            "Epoch 65/100\n",
            "48000/48000 [==============================] - 16s 332us/step - loss: 0.0788 - acc: 0.9715 - val_loss: 0.5606 - val_acc: 0.8935\n",
            "Epoch 66/100\n",
            "48000/48000 [==============================] - 15s 322us/step - loss: 0.0681 - acc: 0.9742 - val_loss: 0.5884 - val_acc: 0.8933\n",
            "Epoch 67/100\n",
            "48000/48000 [==============================] - 15s 318us/step - loss: 0.0694 - acc: 0.9741 - val_loss: 0.5907 - val_acc: 0.8885\n",
            "Epoch 68/100\n",
            "48000/48000 [==============================] - 16s 329us/step - loss: 0.0846 - acc: 0.9716 - val_loss: 0.5901 - val_acc: 0.8918\n",
            "Epoch 69/100\n",
            "48000/48000 [==============================] - 16s 338us/step - loss: 0.0661 - acc: 0.9757 - val_loss: 0.6261 - val_acc: 0.8958\n",
            "Epoch 70/100\n",
            "48000/48000 [==============================] - 17s 346us/step - loss: 0.0686 - acc: 0.9753 - val_loss: 0.6185 - val_acc: 0.8952\n",
            "Epoch 71/100\n",
            "48000/48000 [==============================] - 16s 333us/step - loss: 0.0779 - acc: 0.9732 - val_loss: 0.6107 - val_acc: 0.8988\n",
            "Epoch 72/100\n",
            "48000/48000 [==============================] - 16s 343us/step - loss: 0.0623 - acc: 0.9774 - val_loss: 0.5972 - val_acc: 0.8924\n",
            "Epoch 73/100\n",
            "48000/48000 [==============================] - 17s 348us/step - loss: 0.0669 - acc: 0.9753 - val_loss: 0.7069 - val_acc: 0.8835\n",
            "Epoch 74/100\n",
            "48000/48000 [==============================] - 16s 343us/step - loss: 0.0712 - acc: 0.9751 - val_loss: 0.6214 - val_acc: 0.8962\n",
            "Epoch 75/100\n",
            "48000/48000 [==============================] - 17s 347us/step - loss: 0.0717 - acc: 0.9753 - val_loss: 0.5940 - val_acc: 0.8871\n",
            "Epoch 76/100\n",
            "48000/48000 [==============================] - 17s 346us/step - loss: 0.0611 - acc: 0.9786 - val_loss: 0.5822 - val_acc: 0.8982\n",
            "Epoch 77/100\n",
            "48000/48000 [==============================] - 17s 358us/step - loss: 0.0637 - acc: 0.9775 - val_loss: 0.6269 - val_acc: 0.8902\n",
            "Epoch 78/100\n",
            "48000/48000 [==============================] - 16s 337us/step - loss: 0.0664 - acc: 0.9772 - val_loss: 0.6508 - val_acc: 0.8923\n",
            "Epoch 79/100\n",
            "48000/48000 [==============================] - 16s 334us/step - loss: 0.0722 - acc: 0.9767 - val_loss: 0.6511 - val_acc: 0.8926\n",
            "Epoch 80/100\n",
            "48000/48000 [==============================] - 16s 339us/step - loss: 0.0627 - acc: 0.9774 - val_loss: 0.6239 - val_acc: 0.8932\n",
            "Epoch 81/100\n",
            "48000/48000 [==============================] - 16s 343us/step - loss: 0.0640 - acc: 0.9776 - val_loss: 0.6930 - val_acc: 0.8936\n",
            "Epoch 82/100\n",
            "48000/48000 [==============================] - 16s 339us/step - loss: 0.0610 - acc: 0.9778 - val_loss: 0.6188 - val_acc: 0.8936\n",
            "Epoch 83/100\n",
            "48000/48000 [==============================] - 16s 343us/step - loss: 0.0553 - acc: 0.9798 - val_loss: 0.6532 - val_acc: 0.8954\n",
            "Epoch 84/100\n",
            "48000/48000 [==============================] - 17s 355us/step - loss: 0.0605 - acc: 0.9784 - val_loss: 0.6791 - val_acc: 0.8903\n",
            "Epoch 85/100\n",
            "48000/48000 [==============================] - 18s 373us/step - loss: 0.0645 - acc: 0.9783 - val_loss: 0.6325 - val_acc: 0.8963\n",
            "Epoch 86/100\n",
            "48000/48000 [==============================] - 17s 364us/step - loss: 0.0544 - acc: 0.9810 - val_loss: 0.6512 - val_acc: 0.8978\n",
            "Epoch 87/100\n",
            "48000/48000 [==============================] - 18s 371us/step - loss: 0.0572 - acc: 0.9801 - val_loss: 0.6241 - val_acc: 0.8896\n",
            "Epoch 88/100\n",
            "48000/48000 [==============================] - 18s 381us/step - loss: 0.0561 - acc: 0.9801 - val_loss: 0.6623 - val_acc: 0.8923\n",
            "Epoch 89/100\n",
            "48000/48000 [==============================] - 18s 375us/step - loss: 0.0546 - acc: 0.9810 - val_loss: 0.6661 - val_acc: 0.8966\n",
            "Epoch 90/100\n",
            "48000/48000 [==============================] - 17s 357us/step - loss: 0.0534 - acc: 0.9811 - val_loss: 0.6805 - val_acc: 0.8928\n",
            "Epoch 91/100\n",
            "48000/48000 [==============================] - 17s 357us/step - loss: 0.0570 - acc: 0.9796 - val_loss: 0.6644 - val_acc: 0.8858\n",
            "Epoch 92/100\n",
            "48000/48000 [==============================] - 16s 343us/step - loss: 0.0597 - acc: 0.9799 - val_loss: 0.6457 - val_acc: 0.8955\n",
            "Epoch 93/100\n",
            "48000/48000 [==============================] - 16s 340us/step - loss: 0.0566 - acc: 0.9804 - val_loss: 0.8717 - val_acc: 0.8832\n",
            "Epoch 94/100\n",
            "48000/48000 [==============================] - 17s 344us/step - loss: 0.0624 - acc: 0.9794 - val_loss: 0.6562 - val_acc: 0.8935\n",
            "Epoch 95/100\n",
            "48000/48000 [==============================] - 18s 365us/step - loss: 0.0619 - acc: 0.9803 - val_loss: 0.5964 - val_acc: 0.8963\n",
            "Epoch 96/100\n",
            "48000/48000 [==============================] - 17s 355us/step - loss: 0.0500 - acc: 0.9825 - val_loss: 0.6086 - val_acc: 0.8944\n",
            "Epoch 97/100\n",
            "48000/48000 [==============================] - 18s 371us/step - loss: 0.0488 - acc: 0.9830 - val_loss: 0.7144 - val_acc: 0.8871\n",
            "Epoch 98/100\n",
            "48000/48000 [==============================] - 17s 355us/step - loss: 0.0576 - acc: 0.9816 - val_loss: 0.6770 - val_acc: 0.8921\n",
            "Epoch 99/100\n",
            "48000/48000 [==============================] - 17s 362us/step - loss: 0.0616 - acc: 0.9812 - val_loss: 0.5998 - val_acc: 0.8937\n",
            "Epoch 100/100\n",
            "48000/48000 [==============================] - 18s 374us/step - loss: 0.0664 - acc: 0.9795 - val_loss: 0.6081 - val_acc: 0.8988\n"
          ],
          "name": "stdout"
        }
      ]
    },
    {
      "cell_type": "code",
      "metadata": {
        "id": "92UxP1IGZGpf",
        "colab_type": "code",
        "outputId": "9446d147-e730-4a7e-b36d-11cccc23d309",
        "colab": {
          "base_uri": "https://localhost:8080/",
          "height": 573
        }
      },
      "source": [
        "show_graph(history_1)"
      ],
      "execution_count": 13,
      "outputs": [
        {
          "output_type": "display_data",
          "data": {
            "image/png": "[encoded data removed]",
            "text/plain": [
              "<Figure size 432x288 with 1 Axes>"
            ]
          },
          "metadata": {
            "tags": []
          }
        },
        {
          "output_type": "display_data",
          "data": {
            "image/png": "[encoded data removed]",
            "text/plain": [
              "<Figure size 432x288 with 1 Axes>"
            ]
          },
          "metadata": {
            "tags": []
          }
        }
      ]
    },
    {
      "cell_type": "code",
      "metadata": {
        "id": "GpBsSot1PT2d",
        "colab_type": "code",
        "outputId": "92bb8bea-857e-464b-e661-cc203610e6c9",
        "colab": {
          "base_uri": "https://localhost:8080/",
          "height": 51
        }
      },
      "source": [
        "test_loss_1, test_acc_1 = model_1.evaluate(testX, testY)\n",
        "test_loss_1 , test_acc_1"
      ],
      "execution_count": 14,
      "outputs": [
        {
          "output_type": "stream",
          "text": [
            "10000/10000 [==============================] - 1s 73us/step\n"
          ],
          "name": "stdout"
        },
        {
          "output_type": "execute_result",
          "data": {
            "text/plain": [
              "(0.671942839293927, 0.894)"
            ]
          },
          "metadata": {
            "tags": []
          },
          "execution_count": 14
        }
      ]
    },
    {
      "cell_type": "code",
      "metadata": {
        "id": "80Nsrt3cQRm1",
        "colab_type": "code",
        "outputId": "0c016eb7-4055-455c-f297-55acb4d0a5c3",
        "colab": {
          "base_uri": "https://localhost:8080/",
          "height": 255
        }
      },
      "source": [
        "model_2 = keras.Sequential([\n",
        "    keras.layers.Flatten(input_shape=(28,28)),\n",
        "    keras.layers.Dense(256, activation=tf.nn.tanh),\n",
        "    keras.layers.Dense(10, activation=tf.nn.softmax)\n",
        "])\n",
        "model_2.compile(optimizer='adam',\n",
        "              loss='sparse_categorical_crossentropy',\n",
        "              metrics=['accuracy'])\n",
        "model_2.summary()"
      ],
      "execution_count": 15,
      "outputs": [
        {
          "output_type": "stream",
          "text": [
            "Model: \"sequential_3\"\n",
            "_________________________________________________________________\n",
            "Layer (type)                 Output Shape              Param #   \n",
            "=================================================================\n",
            "flatten_3 (Flatten)          (None, 784)               0         \n",
            "_________________________________________________________________\n",
            "dense_8 (Dense)              (None, 256)               200960    \n",
            "_________________________________________________________________\n",
            "dense_9 (Dense)              (None, 10)                2570      \n",
            "=================================================================\n",
            "Total params: 203,530\n",
            "Trainable params: 203,530\n",
            "Non-trainable params: 0\n",
            "_________________________________________________________________\n"
          ],
          "name": "stdout"
        }
      ]
    },
    {
      "cell_type": "code",
      "metadata": {
        "id": "ZNj1he1YR6tG",
        "colab_type": "code",
        "outputId": "6e01feed-4705-4b89-94b7-f6cee70d6683",
        "colab": {
          "base_uri": "https://localhost:8080/",
          "height": 1000
        }
      },
      "source": [
        "history_2 = model_2.fit(trainX, trainY, epochs=epochs, validation_split=validation_split,verbose=verbose, shuffle = True)"
      ],
      "execution_count": 16,
      "outputs": [
        {
          "output_type": "stream",
          "text": [
            "Train on 48000 samples, validate on 12000 samples\n",
            "Epoch 1/100\n",
            "48000/48000 [==============================] - 8s 160us/step - loss: 0.4889 - acc: 0.8233 - val_loss: 0.3867 - val_acc: 0.8609\n",
            "Epoch 2/100\n",
            "48000/48000 [==============================] - 7s 155us/step - loss: 0.3821 - acc: 0.8604 - val_loss: 0.3800 - val_acc: 0.8625\n",
            "Epoch 3/100\n",
            "48000/48000 [==============================] - 8s 156us/step - loss: 0.3398 - acc: 0.8741 - val_loss: 0.3471 - val_acc: 0.8750\n",
            "Epoch 4/100\n",
            "48000/48000 [==============================] - 7s 156us/step - loss: 0.3167 - acc: 0.8826 - val_loss: 0.3430 - val_acc: 0.8723\n",
            "Epoch 5/100\n",
            "48000/48000 [==============================] - 7s 152us/step - loss: 0.2984 - acc: 0.8889 - val_loss: 0.3491 - val_acc: 0.8746\n",
            "Epoch 6/100\n",
            "48000/48000 [==============================] - 7s 154us/step - loss: 0.2831 - acc: 0.8939 - val_loss: 0.3356 - val_acc: 0.8792\n",
            "Epoch 7/100\n",
            "48000/48000 [==============================] - 7s 151us/step - loss: 0.2705 - acc: 0.8978 - val_loss: 0.3273 - val_acc: 0.8803\n",
            "Epoch 8/100\n",
            "48000/48000 [==============================] - 7s 151us/step - loss: 0.2571 - acc: 0.9038 - val_loss: 0.3210 - val_acc: 0.8842\n",
            "Epoch 9/100\n",
            "48000/48000 [==============================] - 7s 148us/step - loss: 0.2473 - acc: 0.9063 - val_loss: 0.3163 - val_acc: 0.8858\n",
            "Epoch 10/100\n",
            "48000/48000 [==============================] - 7s 156us/step - loss: 0.2382 - acc: 0.9101 - val_loss: 0.3327 - val_acc: 0.8808\n",
            "Epoch 11/100\n",
            "48000/48000 [==============================] - 7s 152us/step - loss: 0.2321 - acc: 0.9142 - val_loss: 0.3153 - val_acc: 0.8872\n",
            "Epoch 12/100\n",
            "48000/48000 [==============================] - 7s 150us/step - loss: 0.2236 - acc: 0.9157 - val_loss: 0.3105 - val_acc: 0.8915\n",
            "Epoch 13/100\n",
            "48000/48000 [==============================] - 7s 150us/step - loss: 0.2178 - acc: 0.9182 - val_loss: 0.2974 - val_acc: 0.8926\n",
            "Epoch 14/100\n",
            "48000/48000 [==============================] - 7s 152us/step - loss: 0.2069 - acc: 0.9225 - val_loss: 0.3327 - val_acc: 0.8813\n",
            "Epoch 15/100\n",
            "48000/48000 [==============================] - 7s 150us/step - loss: 0.2043 - acc: 0.9235 - val_loss: 0.2997 - val_acc: 0.8929\n",
            "Epoch 16/100\n",
            "48000/48000 [==============================] - 7s 150us/step - loss: 0.2002 - acc: 0.9260 - val_loss: 0.3148 - val_acc: 0.8924\n",
            "Epoch 17/100\n",
            "48000/48000 [==============================] - 7s 149us/step - loss: 0.1876 - acc: 0.9306 - val_loss: 0.3234 - val_acc: 0.8870\n",
            "Epoch 18/100\n",
            "48000/48000 [==============================] - 7s 150us/step - loss: 0.1852 - acc: 0.9311 - val_loss: 0.3132 - val_acc: 0.8911\n",
            "Epoch 19/100\n",
            "48000/48000 [==============================] - 8s 163us/step - loss: 0.1780 - acc: 0.9342 - val_loss: 0.3156 - val_acc: 0.8923\n",
            "Epoch 20/100\n",
            "48000/48000 [==============================] - 7s 152us/step - loss: 0.1775 - acc: 0.9338 - val_loss: 0.3136 - val_acc: 0.8902\n",
            "Epoch 21/100\n",
            "48000/48000 [==============================] - 7s 151us/step - loss: 0.1726 - acc: 0.9352 - val_loss: 0.3055 - val_acc: 0.8929\n",
            "Epoch 22/100\n",
            "48000/48000 [==============================] - 7s 150us/step - loss: 0.1671 - acc: 0.9388 - val_loss: 0.3257 - val_acc: 0.8902\n",
            "Epoch 23/100\n",
            "48000/48000 [==============================] - 7s 151us/step - loss: 0.1656 - acc: 0.9384 - val_loss: 0.3322 - val_acc: 0.8852\n",
            "Epoch 24/100\n",
            "48000/48000 [==============================] - 7s 153us/step - loss: 0.1637 - acc: 0.9394 - val_loss: 0.3277 - val_acc: 0.8886\n",
            "Epoch 25/100\n",
            "48000/48000 [==============================] - 7s 153us/step - loss: 0.1599 - acc: 0.9402 - val_loss: 0.3140 - val_acc: 0.8945\n",
            "Epoch 26/100\n",
            "48000/48000 [==============================] - 7s 150us/step - loss: 0.1548 - acc: 0.9416 - val_loss: 0.3393 - val_acc: 0.8894\n",
            "Epoch 27/100\n",
            "48000/48000 [==============================] - 7s 155us/step - loss: 0.1496 - acc: 0.9437 - val_loss: 0.3420 - val_acc: 0.8867\n",
            "Epoch 28/100\n",
            "48000/48000 [==============================] - 7s 153us/step - loss: 0.1466 - acc: 0.9463 - val_loss: 0.3299 - val_acc: 0.8938\n",
            "Epoch 29/100\n",
            "48000/48000 [==============================] - 7s 152us/step - loss: 0.1452 - acc: 0.9454 - val_loss: 0.3600 - val_acc: 0.8872\n",
            "Epoch 30/100\n",
            "48000/48000 [==============================] - 8s 166us/step - loss: 0.1430 - acc: 0.9459 - val_loss: 0.3404 - val_acc: 0.8892\n",
            "Epoch 31/100\n",
            "48000/48000 [==============================] - 7s 156us/step - loss: 0.1384 - acc: 0.9491 - val_loss: 0.3455 - val_acc: 0.8897\n",
            "Epoch 32/100\n",
            "48000/48000 [==============================] - 7s 153us/step - loss: 0.1382 - acc: 0.9482 - val_loss: 0.3603 - val_acc: 0.8897\n",
            "Epoch 33/100\n",
            "48000/48000 [==============================] - 7s 151us/step - loss: 0.1339 - acc: 0.9490 - val_loss: 0.3570 - val_acc: 0.8884\n",
            "Epoch 34/100\n",
            "48000/48000 [==============================] - 7s 153us/step - loss: 0.1317 - acc: 0.9517 - val_loss: 0.3707 - val_acc: 0.8878\n",
            "Epoch 35/100\n",
            "48000/48000 [==============================] - 7s 153us/step - loss: 0.1303 - acc: 0.9515 - val_loss: 0.3729 - val_acc: 0.8872\n",
            "Epoch 36/100\n",
            "48000/48000 [==============================] - 7s 152us/step - loss: 0.1240 - acc: 0.9543 - val_loss: 0.3536 - val_acc: 0.8906\n",
            "Epoch 37/100\n",
            "48000/48000 [==============================] - 7s 154us/step - loss: 0.1204 - acc: 0.9569 - val_loss: 0.3535 - val_acc: 0.8939\n",
            "Epoch 38/100\n",
            "48000/48000 [==============================] - 7s 152us/step - loss: 0.1192 - acc: 0.9546 - val_loss: 0.3639 - val_acc: 0.8908\n",
            "Epoch 39/100\n",
            "48000/48000 [==============================] - 7s 153us/step - loss: 0.1180 - acc: 0.9560 - val_loss: 0.3624 - val_acc: 0.8916\n",
            "Epoch 40/100\n",
            "48000/48000 [==============================] - 7s 152us/step - loss: 0.1162 - acc: 0.9577 - val_loss: 0.3659 - val_acc: 0.8892\n",
            "Epoch 41/100\n",
            "48000/48000 [==============================] - 7s 153us/step - loss: 0.1144 - acc: 0.9573 - val_loss: 0.3910 - val_acc: 0.8848\n",
            "Epoch 42/100\n",
            "48000/48000 [==============================] - 7s 152us/step - loss: 0.1117 - acc: 0.9593 - val_loss: 0.3872 - val_acc: 0.8868\n",
            "Epoch 43/100\n",
            "48000/48000 [==============================] - 7s 152us/step - loss: 0.1112 - acc: 0.9579 - val_loss: 0.3955 - val_acc: 0.8852\n",
            "Epoch 44/100\n",
            "48000/48000 [==============================] - 7s 150us/step - loss: 0.1093 - acc: 0.9588 - val_loss: 0.3837 - val_acc: 0.8870\n",
            "Epoch 45/100\n",
            "48000/48000 [==============================] - 7s 151us/step - loss: 0.1090 - acc: 0.9595 - val_loss: 0.3859 - val_acc: 0.8900\n",
            "Epoch 46/100\n",
            "48000/48000 [==============================] - 7s 150us/step - loss: 0.1023 - acc: 0.9623 - val_loss: 0.4021 - val_acc: 0.8848\n",
            "Epoch 47/100\n",
            "48000/48000 [==============================] - 7s 150us/step - loss: 0.1025 - acc: 0.9624 - val_loss: 0.4302 - val_acc: 0.8801\n",
            "Epoch 48/100\n",
            "48000/48000 [==============================] - 7s 150us/step - loss: 0.1023 - acc: 0.9633 - val_loss: 0.4010 - val_acc: 0.8887\n",
            "Epoch 49/100\n",
            "48000/48000 [==============================] - 7s 151us/step - loss: 0.0960 - acc: 0.9662 - val_loss: 0.4036 - val_acc: 0.8887\n",
            "Epoch 50/100\n",
            "48000/48000 [==============================] - 7s 150us/step - loss: 0.0953 - acc: 0.9649 - val_loss: 0.4040 - val_acc: 0.8875\n",
            "Epoch 51/100\n",
            "48000/48000 [==============================] - 7s 150us/step - loss: 0.0941 - acc: 0.9657 - val_loss: 0.4280 - val_acc: 0.8828\n",
            "Epoch 52/100\n",
            "48000/48000 [==============================] - 7s 151us/step - loss: 0.0945 - acc: 0.9655 - val_loss: 0.4352 - val_acc: 0.8814\n",
            "Epoch 53/100\n",
            "48000/48000 [==============================] - 7s 150us/step - loss: 0.0949 - acc: 0.9653 - val_loss: 0.4146 - val_acc: 0.8852\n",
            "Epoch 54/100\n",
            "48000/48000 [==============================] - 7s 152us/step - loss: 0.0913 - acc: 0.9669 - val_loss: 0.4131 - val_acc: 0.8869\n",
            "Epoch 55/100\n",
            "48000/48000 [==============================] - 7s 152us/step - loss: 0.0898 - acc: 0.9667 - val_loss: 0.4213 - val_acc: 0.8888\n",
            "Epoch 56/100\n",
            "48000/48000 [==============================] - 7s 156us/step - loss: 0.0873 - acc: 0.9678 - val_loss: 0.4299 - val_acc: 0.8872\n",
            "Epoch 57/100\n",
            "48000/48000 [==============================] - 7s 154us/step - loss: 0.0878 - acc: 0.9674 - val_loss: 0.4170 - val_acc: 0.8892\n",
            "Epoch 58/100\n",
            "48000/48000 [==============================] - 7s 153us/step - loss: 0.0869 - acc: 0.9674 - val_loss: 0.4508 - val_acc: 0.8833\n",
            "Epoch 59/100\n",
            "48000/48000 [==============================] - 7s 154us/step - loss: 0.0831 - acc: 0.9695 - val_loss: 0.4193 - val_acc: 0.8890\n",
            "Epoch 60/100\n",
            "48000/48000 [==============================] - 8s 159us/step - loss: 0.0796 - acc: 0.9709 - val_loss: 0.4576 - val_acc: 0.8800\n",
            "Epoch 61/100\n",
            "48000/48000 [==============================] - 8s 158us/step - loss: 0.0816 - acc: 0.9703 - val_loss: 0.4463 - val_acc: 0.8834\n",
            "Epoch 62/100\n",
            "48000/48000 [==============================] - 7s 154us/step - loss: 0.0797 - acc: 0.9704 - val_loss: 0.4310 - val_acc: 0.8885\n",
            "Epoch 63/100\n",
            "48000/48000 [==============================] - 7s 153us/step - loss: 0.0779 - acc: 0.9721 - val_loss: 0.4453 - val_acc: 0.8838\n",
            "Epoch 64/100\n",
            "48000/48000 [==============================] - 7s 152us/step - loss: 0.0807 - acc: 0.9701 - val_loss: 0.4643 - val_acc: 0.8825\n",
            "Epoch 65/100\n",
            "48000/48000 [==============================] - 7s 154us/step - loss: 0.0783 - acc: 0.9711 - val_loss: 0.4549 - val_acc: 0.8857\n",
            "Epoch 66/100\n",
            "48000/48000 [==============================] - 7s 152us/step - loss: 0.0745 - acc: 0.9725 - val_loss: 0.4685 - val_acc: 0.8792\n",
            "Epoch 67/100\n",
            "48000/48000 [==============================] - 7s 153us/step - loss: 0.0767 - acc: 0.9726 - val_loss: 0.4448 - val_acc: 0.8873\n",
            "Epoch 68/100\n",
            "48000/48000 [==============================] - 7s 155us/step - loss: 0.0719 - acc: 0.9741 - val_loss: 0.4612 - val_acc: 0.8862\n",
            "Epoch 69/100\n",
            "48000/48000 [==============================] - 7s 153us/step - loss: 0.0709 - acc: 0.9744 - val_loss: 0.5098 - val_acc: 0.8742\n",
            "Epoch 70/100\n",
            "48000/48000 [==============================] - 8s 163us/step - loss: 0.0716 - acc: 0.9735 - val_loss: 0.4651 - val_acc: 0.8854\n",
            "Epoch 71/100\n",
            "48000/48000 [==============================] - 8s 158us/step - loss: 0.0711 - acc: 0.9739 - val_loss: 0.4790 - val_acc: 0.8854\n",
            "Epoch 72/100\n",
            "48000/48000 [==============================] - 8s 167us/step - loss: 0.0669 - acc: 0.9755 - val_loss: 0.4690 - val_acc: 0.8853\n",
            "Epoch 73/100\n",
            "48000/48000 [==============================] - 8s 159us/step - loss: 0.0672 - acc: 0.9761 - val_loss: 0.4672 - val_acc: 0.8840\n",
            "Epoch 74/100\n",
            "48000/48000 [==============================] - 7s 153us/step - loss: 0.0664 - acc: 0.9761 - val_loss: 0.4820 - val_acc: 0.8822\n",
            "Epoch 75/100\n",
            "48000/48000 [==============================] - 7s 149us/step - loss: 0.0691 - acc: 0.9750 - val_loss: 0.4698 - val_acc: 0.8836\n",
            "Epoch 76/100\n",
            "48000/48000 [==============================] - 7s 150us/step - loss: 0.0679 - acc: 0.9751 - val_loss: 0.4715 - val_acc: 0.8873\n",
            "Epoch 77/100\n",
            "48000/48000 [==============================] - 7s 150us/step - loss: 0.0642 - acc: 0.9769 - val_loss: 0.4754 - val_acc: 0.8834\n",
            "Epoch 78/100\n",
            "48000/48000 [==============================] - 7s 152us/step - loss: 0.0636 - acc: 0.9760 - val_loss: 0.4847 - val_acc: 0.8843\n",
            "Epoch 79/100\n",
            "48000/48000 [==============================] - 7s 151us/step - loss: 0.0601 - acc: 0.9783 - val_loss: 0.5040 - val_acc: 0.8796\n",
            "Epoch 80/100\n",
            "48000/48000 [==============================] - 7s 151us/step - loss: 0.0646 - acc: 0.9765 - val_loss: 0.4868 - val_acc: 0.8850\n",
            "Epoch 81/100\n",
            "48000/48000 [==============================] - 7s 150us/step - loss: 0.0588 - acc: 0.9785 - val_loss: 0.4820 - val_acc: 0.8893\n",
            "Epoch 82/100\n",
            "48000/48000 [==============================] - 7s 150us/step - loss: 0.0613 - acc: 0.9780 - val_loss: 0.5003 - val_acc: 0.8827\n",
            "Epoch 83/100\n",
            "48000/48000 [==============================] - 7s 149us/step - loss: 0.0618 - acc: 0.9776 - val_loss: 0.5019 - val_acc: 0.8838\n",
            "Epoch 84/100\n",
            "48000/48000 [==============================] - 7s 148us/step - loss: 0.0621 - acc: 0.9777 - val_loss: 0.4965 - val_acc: 0.8812\n",
            "Epoch 85/100\n",
            "48000/48000 [==============================] - 7s 149us/step - loss: 0.0642 - acc: 0.9764 - val_loss: 0.5331 - val_acc: 0.8799\n",
            "Epoch 86/100\n",
            "48000/48000 [==============================] - 7s 152us/step - loss: 0.0645 - acc: 0.9764 - val_loss: 0.5030 - val_acc: 0.8844\n",
            "Epoch 87/100\n",
            "48000/48000 [==============================] - 7s 148us/step - loss: 0.0631 - acc: 0.9770 - val_loss: 0.4992 - val_acc: 0.8857\n",
            "Epoch 88/100\n",
            "48000/48000 [==============================] - 7s 150us/step - loss: 0.0627 - acc: 0.9771 - val_loss: 0.5332 - val_acc: 0.8796\n",
            "Epoch 89/100\n",
            "48000/48000 [==============================] - 7s 155us/step - loss: 0.0593 - acc: 0.9790 - val_loss: 0.4969 - val_acc: 0.8862\n",
            "Epoch 90/100\n",
            "48000/48000 [==============================] - 8s 162us/step - loss: 0.0592 - acc: 0.9783 - val_loss: 0.5187 - val_acc: 0.8840\n",
            "Epoch 91/100\n",
            "48000/48000 [==============================] - 8s 168us/step - loss: 0.0612 - acc: 0.9778 - val_loss: 0.5146 - val_acc: 0.8863\n",
            "Epoch 92/100\n",
            "48000/48000 [==============================] - 7s 154us/step - loss: 0.0573 - acc: 0.9786 - val_loss: 0.5176 - val_acc: 0.8848\n",
            "Epoch 93/100\n",
            "48000/48000 [==============================] - 7s 154us/step - loss: 0.0558 - acc: 0.9796 - val_loss: 0.5026 - val_acc: 0.8891\n",
            "Epoch 94/100\n",
            "48000/48000 [==============================] - 7s 150us/step - loss: 0.0561 - acc: 0.9798 - val_loss: 0.5210 - val_acc: 0.8838\n",
            "Epoch 95/100\n",
            "48000/48000 [==============================] - 7s 152us/step - loss: 0.0518 - acc: 0.9812 - val_loss: 0.5218 - val_acc: 0.8860\n",
            "Epoch 96/100\n",
            "48000/48000 [==============================] - 7s 150us/step - loss: 0.0505 - acc: 0.9819 - val_loss: 0.5479 - val_acc: 0.8838\n",
            "Epoch 97/100\n",
            "48000/48000 [==============================] - 7s 153us/step - loss: 0.0582 - acc: 0.9784 - val_loss: 0.5142 - val_acc: 0.8868\n",
            "Epoch 98/100\n",
            "48000/48000 [==============================] - 7s 151us/step - loss: 0.0517 - acc: 0.9811 - val_loss: 0.5275 - val_acc: 0.8863\n",
            "Epoch 99/100\n",
            "48000/48000 [==============================] - 7s 153us/step - loss: 0.0569 - acc: 0.9794 - val_loss: 0.5387 - val_acc: 0.8812\n",
            "Epoch 100/100\n",
            "48000/48000 [==============================] - 7s 151us/step - loss: 0.0542 - acc: 0.9799 - val_loss: 0.5223 - val_acc: 0.8875\n"
          ],
          "name": "stdout"
        }
      ]
    },
    {
      "cell_type": "code",
      "metadata": {
        "id": "6S07aQc4aKwQ",
        "colab_type": "code",
        "outputId": "085b8e6d-ec53-4295-be37-5bbe98b0fd15",
        "colab": {
          "base_uri": "https://localhost:8080/",
          "height": 573
        }
      },
      "source": [
        "show_graph(history_2)"
      ],
      "execution_count": 17,
      "outputs": [
        {
          "output_type": "display_data",
          "data": {
            "image/png": "[encoded data removed]",
            "text/plain": [
              "<Figure size 432x288 with 1 Axes>"
            ]
          },
          "metadata": {
            "tags": []
          }
        },
        {
          "output_type": "display_data",
          "data": {
            "image/png": "[encoded data removed]",
            "text/plain": [
              "<Figure size 432x288 with 1 Axes>"
            ]
          },
          "metadata": {
            "tags": []
          }
        }
      ]
    },
    {
      "cell_type": "code",
      "metadata": {
        "id": "_Nxx_JpPSxyb",
        "colab_type": "code",
        "outputId": "9e512c84-8aa8-46e8-93c9-06691770ac74",
        "colab": {
          "base_uri": "https://localhost:8080/",
          "height": 51
        }
      },
      "source": [
        "test_loss_2, test_acc_2 = model_2.evaluate(testX, testY)\n",
        "test_loss_2, test_acc_2"
      ],
      "execution_count": 18,
      "outputs": [
        {
          "output_type": "stream",
          "text": [
            "10000/10000 [==============================] - 0s 38us/step\n"
          ],
          "name": "stdout"
        },
        {
          "output_type": "execute_result",
          "data": {
            "text/plain": [
              "(0.5894871108524501, 0.8785)"
            ]
          },
          "metadata": {
            "tags": []
          },
          "execution_count": 18
        }
      ]
    }
  ]
}