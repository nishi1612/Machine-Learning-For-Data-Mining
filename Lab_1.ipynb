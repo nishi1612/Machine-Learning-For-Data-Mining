{
  "nbformat": 4,
  "nbformat_minor": 0,
  "metadata": {
    "colab": {
      "name": "ML4DM_Lab_1.ipynb",
      "version": "0.3.2",
      "provenance": [],
      "collapsed_sections": [],
      "include_colab_link": true
    },
    "kernelspec": {
      "name": "python3",
      "display_name": "Python 3"
    },
    "accelerator": "TPU"
  },
  "cells": [
    {
      "cell_type": "markdown",
      "metadata": {
        "id": "view-in-github",
        "colab_type": "text"
      },
      "source": [
        "<a href=\"https://colab.research.google.com/github/nishi1612/Machine-Learning-For-Data-Mining/blob/master/Lab_1.ipynb\" target=\"_parent\"><img src=\"https://colab.research.google.com/assets/colab-badge.svg\" alt=\"Open In Colab\"/></a>"
      ]
    },
    {
      "cell_type": "code",
      "metadata": {
        "id": "I2DI6ohig2KK",
        "colab_type": "code",
        "colab": {}
      },
      "source": [
        "import numpy as np\n",
        "import matplotlib.pyplot as plt\n",
        "import pandas as pd"
      ],
      "execution_count": 0,
      "outputs": []
    },
    {
      "cell_type": "code",
      "metadata": {
        "id": "6CWeUlPNgyYK",
        "colab_type": "code",
        "colab": {}
      },
      "source": [
        "N = 50\n",
        "M = 2"
      ],
      "execution_count": 0,
      "outputs": []
    },
    {
      "cell_type": "code",
      "metadata": {
        "id": "VS6CM-YIg5-a",
        "colab_type": "code",
        "colab": {}
      },
      "source": [
        "def generate_input(N,M):\n",
        "  mu = np.random.random((M,1))\n",
        "  sigma = np.random.random((M,1))\n",
        "  X = np.ones((N,M+1))\n",
        "  for i in range(M):\n",
        "     X[:,i] = np.random.normal(mu[i],sigma[i],N)\n",
        "  return X"
      ],
      "execution_count": 0,
      "outputs": []
    },
    {
      "cell_type": "code",
      "metadata": {
        "id": "Q-OLZflMOAsN",
        "colab_type": "code",
        "colab": {}
      },
      "source": [
        "def predict_output(X,weight):\n",
        "  return np.matmul(X,weight)"
      ],
      "execution_count": 0,
      "outputs": []
    },
    {
      "cell_type": "code",
      "metadata": {
        "id": "a2wBXtI8kyeO",
        "colab_type": "code",
        "colab": {}
      },
      "source": [
        "def generate_output(X,M):\n",
        "  weight = np.random.random((M+1,1))\n",
        "  Y = predict_output(X,weight)\n",
        "  return weight, Y"
      ],
      "execution_count": 0,
      "outputs": []
    },
    {
      "cell_type": "code",
      "metadata": {
        "id": "YM1BiR04nXjI",
        "colab_type": "code",
        "colab": {}
      },
      "source": [
        "def add_noise(Y,N):\n",
        "  noise = np.random.random((N,1))\n",
        "  Y_noise = Y+noise\n",
        "  return Y_noise"
      ],
      "execution_count": 0,
      "outputs": []
    },
    {
      "cell_type": "code",
      "metadata": {
        "id": "znVSseT4nrDa",
        "colab_type": "code",
        "colab": {}
      },
      "source": [
        "def closed_form(X,Y_noise):\n",
        "  a = np.linalg.inv(np.matmul(X.transpose(),X))\n",
        "  b = np.matmul(a,X.transpose())\n",
        "  weight_predicted = np.matmul(b,Y_noise)\n",
        "  return weight_predicted"
      ],
      "execution_count": 0,
      "outputs": []
    },
    {
      "cell_type": "code",
      "metadata": {
        "id": "wOLhsly9u3RI",
        "colab_type": "code",
        "colab": {}
      },
      "source": [
        "def calculate_mse(y_predicted,y,N):\n",
        "  mse = np.sum((y_predicted - y)**2)\n",
        "  return mse/N"
      ],
      "execution_count": 0,
      "outputs": []
    },
    {
      "cell_type": "markdown",
      "metadata": {
        "id": "9tdUc-u9jBqv",
        "colab_type": "text"
      },
      "source": [
        "**Closed form solution**"
      ]
    },
    {
      "cell_type": "code",
      "metadata": {
        "id": "4BANM5cKroK-",
        "colab_type": "code",
        "outputId": "e3ead615-4179-4072-cd6a-6110ac5da83d",
        "colab": {
          "base_uri": "https://localhost:8080/",
          "height": 34
        }
      },
      "source": [
        "X = generate_input(N,M)\n",
        "weight, Y = generate_output(X,M)\n",
        "Y_noise = add_noise(Y,N)\n",
        "weight_predicted = closed_form(X,Y_noise)\n",
        "y_predicted = predict_output(X,weight_predicted)\n",
        "mse = calculate_mse(y_predicted,Y_noise,N)\n",
        "mse"
      ],
      "execution_count": 0,
      "outputs": [
        {
          "output_type": "execute_result",
          "data": {
            "text/plain": [
              "0.06489050089921282"
            ]
          },
          "metadata": {
            "tags": []
          },
          "execution_count": 353
        }
      ]
    },
    {
      "cell_type": "code",
      "metadata": {
        "id": "cS78HzjXp-cY",
        "colab_type": "code",
        "outputId": "562adeb4-4d85-4b7d-d166-525d1e74523b",
        "colab": {
          "base_uri": "https://localhost:8080/",
          "height": 34
        }
      },
      "source": [
        "X.shape, weight.shape"
      ],
      "execution_count": 0,
      "outputs": [
        {
          "output_type": "execute_result",
          "data": {
            "text/plain": [
              "((50, 3), (3, 1))"
            ]
          },
          "metadata": {
            "tags": []
          },
          "execution_count": 126
        }
      ]
    },
    {
      "cell_type": "code",
      "metadata": {
        "id": "kHcsjNzPy9ny",
        "colab_type": "code",
        "colab": {}
      },
      "source": [
        "def gradient_descent(X,Y):\n",
        "  epochs = 1000000\n",
        "  alphas = [0.000000001,0.00000001,0.0000001]\n",
        "  for alpha in alphas:\n",
        "    theta = np.ones((X.shape[1],1))\n",
        "    h = predict_output(X,theta)\n",
        "    cost = np.zeros((epochs,1))\n",
        "    for i in range(epochs):\n",
        "        theta[0] = theta[0] - alpha*np.sum(h-Y)/X.shape[0]\n",
        "        for j in range(1,X.shape[1]):\n",
        "          theta[j] = theta[j] - alpha/X.shape[0] * np.sum((h-Y)*X[:,j])\n",
        "          h = predict_output(X,theta)\n",
        "        cost[i] = calculate_mse(Y,h,X.shape[0])\n",
        "    plt.plot(np.arange(epochs),cost)\n",
        "    plt.xlabel('Epochs')\n",
        "    plt.ylabel('Cost')\n",
        "    plt.title('Cost v/s Epoch for gradient descent')\n",
        "    plt.show()\n",
        "    if(alpha==0.0000001):\n",
        "      return theta"
      ],
      "execution_count": 0,
      "outputs": []
    },
    {
      "cell_type": "markdown",
      "metadata": {
        "id": "jVqbwxnIjIL4",
        "colab_type": "text"
      },
      "source": [
        "**Gradient Descent Method for multi variable linear regression**"
      ]
    },
    {
      "cell_type": "code",
      "metadata": {
        "id": "jGDa8pi8IK_X",
        "colab_type": "code",
        "outputId": "acab292b-818a-4a17-c089-1c7698bac59b",
        "colab": {
          "base_uri": "https://localhost:8080/",
          "height": 868
        }
      },
      "source": [
        "weight_predicted = gradient_descent(X,Y_noise)\n",
        "y_predicted = predict_output(X,weight_predicted)\n",
        "mse = calculate_mse(y_predicted,Y_noise,N)\n",
        "mse"
      ],
      "execution_count": 0,
      "outputs": [
        {
          "output_type": "display_data",
          "data": {
            "image/png": "[encoded data removed]",
            "text/plain": [
              "<Figure size 432x288 with 1 Axes>"
            ]
          },
          "metadata": {
            "tags": []
          }
        },
        {
          "output_type": "display_data",
          "data": {
            "image/png": "[encoded data removed]",
            "text/plain": [
              "<Figure size 432x288 with 1 Axes>"
            ]
          },
          "metadata": {
            "tags": []
          }
        },
        {
          "output_type": "display_data",
          "data": {
            "image/png": "[encoded data removed]",
            "text/plain": [
              "<Figure size 432x288 with 1 Axes>"
            ]
          },
          "metadata": {
            "tags": []
          }
        },
        {
          "output_type": "execute_result",
          "data": {
            "text/plain": [
              "0.21576991891825556"
            ]
          },
          "metadata": {
            "tags": []
          },
          "execution_count": 58
        }
      ]
    },
    {
      "cell_type": "code",
      "metadata": {
        "id": "BrIeB6TkAh_x",
        "colab_type": "code",
        "outputId": "3d40bc5f-073d-4589-e709-50989ec66e2e",
        "colab": {
          "base_uri": "https://localhost:8080/",
          "height": 102
        }
      },
      "source": [
        "weight_predicted, weight"
      ],
      "execution_count": 0,
      "outputs": [
        {
          "output_type": "execute_result",
          "data": {
            "text/plain": [
              "(array([[ 0.97596947],\n",
              "        [ 1.01585921],\n",
              "        [-0.2015266 ]]), array([[0.05942094],\n",
              "        [0.62010767],\n",
              "        [0.28910022]]))"
            ]
          },
          "metadata": {
            "tags": []
          },
          "execution_count": 59
        }
      ]
    },
    {
      "cell_type": "markdown",
      "metadata": {
        "id": "a3iuQtpOQgbq",
        "colab_type": "text"
      },
      "source": [
        "The above graphs show that as we increase the value of learning rate the optimum cost is reached faster."
      ]
    },
    {
      "cell_type": "code",
      "metadata": {
        "id": "MndHx1anc-EE",
        "colab_type": "code",
        "colab": {}
      },
      "source": [
        "def sigmoid(z):\n",
        "  return 1/(1+np.exp(-z))"
      ],
      "execution_count": 0,
      "outputs": []
    },
    {
      "cell_type": "code",
      "metadata": {
        "id": "ddDDpm-QdFnm",
        "colab_type": "code",
        "colab": {}
      },
      "source": [
        "def logistic_cost(y_actual,y_predicted):\n",
        "  return np.sum(((-y_actual*np.log(y_predicted)) - ((1-y_actual)*np.log(1-y_predicted))))/y_predicted.shape[0]"
      ],
      "execution_count": 0,
      "outputs": []
    },
    {
      "cell_type": "code",
      "metadata": {
        "id": "KimtELtPd5ZS",
        "colab_type": "code",
        "colab": {}
      },
      "source": [
        "def logistic_output(X,theta):\n",
        "  t = sigmoid(np.dot(X,theta))\n",
        "  print(t.shape)\n",
        "  for i in range(t.shape[0]):\n",
        "    if(t[i]<0.5):\n",
        "      t[i]=0\n",
        "    else:\n",
        "      t[i]=1\n",
        "  return t"
      ],
      "execution_count": 0,
      "outputs": []
    },
    {
      "cell_type": "code",
      "metadata": {
        "id": "-DoQJFdyP3GL",
        "colab_type": "code",
        "colab": {}
      },
      "source": [
        "def logistic_gradient_descent(X,Y):\n",
        "  epochs = 1000000\n",
        "  alphas = [0.000000001,0.00000001,0.0000001,0.000001]\n",
        "  for alpha in alphas:\n",
        "    theta = np.ones((X.shape[1],1))\n",
        "    h = sigmoid(np.dot(X,theta))\n",
        "    cost = np.zeros((epochs,1))\n",
        "    for i in range(epochs):\n",
        "      theta[0] = theta[0] - alpha*np.sum(h-Y)/X.shape[0]\n",
        "      for j in range(1,X.shape[1]):\n",
        "        theta[j] = theta[j] - alpha/X.shape[0] * np.sum((h-Y)*X[:,j])\n",
        "        h = sigmoid(np.dot(X,theta))\n",
        "      cost[i] = logistic_cost(Y,h)\n",
        "    plt.plot(np.arange(epochs),cost)\n",
        "    plt.xlabel('Epochs')\n",
        "    plt.ylabel('Cost')\n",
        "    plt.title('Cost v/s Epoch for gradient descent')\n",
        "    plt.show()\n",
        "    if(alpha==0.000001):\n",
        "      return theta"
      ],
      "execution_count": 0,
      "outputs": []
    },
    {
      "cell_type": "code",
      "metadata": {
        "id": "X_MZN2m0Pa6M",
        "colab_type": "code",
        "colab": {}
      },
      "source": [
        "def prediction_table(y_actual,y_predicted):\n",
        "  table = pd.DataFrame(columns=['Positive','Negative'])\n",
        "  tp = 0\n",
        "  tn = 0\n",
        "  fp = 0\n",
        "  fn = 0\n",
        "  for i in range(y_predicted.shape[0]):\n",
        "    if(y_actual[i]==1):\n",
        "      if(y_predicted[i]==1):\n",
        "        tp+=1\n",
        "      else:\n",
        "        fn+=1\n",
        "    elif(y_actual[i]==0):\n",
        "      if(y_predicted[i]==1):\n",
        "        fp+=1\n",
        "      else:\n",
        "        tn+=1\n",
        "  table.loc['Positive'] = [tp,fp]\n",
        "  table.loc['Negative'] = [fn,tn]\n",
        "  return table"
      ],
      "execution_count": 0,
      "outputs": []
    },
    {
      "cell_type": "markdown",
      "metadata": {
        "id": "ZMFC-KTIk8Pt",
        "colab_type": "text"
      },
      "source": [
        "**Gradient Descent Solution for multi variable logistic regression**"
      ]
    },
    {
      "cell_type": "code",
      "metadata": {
        "id": "KX67WrkXSyvw",
        "colab_type": "code",
        "outputId": "27f73575-2877-4e1b-a2a8-56f7390ab398",
        "colab": {
          "base_uri": "https://localhost:8080/",
          "height": 1000
        }
      },
      "source": [
        "y_categorical = logistic_output(X,weight)\n",
        "weight_predicted = logistic_gradient_descent(X,y_categorical)\n",
        "y_hat = sigmoid(np.dot(X,weight_predicted))\n",
        "cost = logistic_cost(y_categorical,y_hat)\n",
        "y_predicted = logistic_output(X,weight_predicted)\n",
        "cost"
      ],
      "execution_count": 0,
      "outputs": [
        {
          "output_type": "display_data",
          "data": {
            "image/png": "[encoded data removed]",
            "text/plain": [
              "<Figure size 432x288 with 1 Axes>"
            ]
          },
          "metadata": {
            "tags": []
          }
        },
        {
          "output_type": "display_data",
          "data": {
            "image/png": "[encoded data removed]",
            "text/plain": [
              "<Figure size 432x288 with 1 Axes>"
            ]
          },
          "metadata": {
            "tags": []
          }
        },
        {
          "output_type": "display_data",
          "data": {
            "image/png": "[encoded data removed]",
            "text/plain": [
              "<Figure size 432x288 with 1 Axes>"
            ]
          },
          "metadata": {
            "tags": []
          }
        },
        {
          "output_type": "display_data",
          "data": {
            "image/png": "[encoded data removed]",
            "text/plain": [
              "<Figure size 432x288 with 1 Axes>"
            ]
          },
          "metadata": {
            "tags": []
          }
        },
        {
          "output_type": "execute_result",
          "data": {
            "text/plain": [
              "1.4626335615654682"
            ]
          },
          "metadata": {
            "tags": []
          },
          "execution_count": 65
        }
      ]
    },
    {
      "cell_type": "code",
      "metadata": {
        "id": "zCXm03TQPogb",
        "colab_type": "code",
        "outputId": "af890370-0230-402d-d81c-ab946e0d6bf5",
        "colab": {
          "base_uri": "https://localhost:8080/",
          "height": 111
        }
      },
      "source": [
        "df = prediction_table(y_categorical,y_predicted)\n",
        "df"
      ],
      "execution_count": 0,
      "outputs": [
        {
          "output_type": "execute_result",
          "data": {
            "text/html": [
              "<div>\n",
              "<style scoped>\n",
              "    .dataframe tbody tr th:only-of-type {\n",
              "        vertical-align: middle;\n",
              "    }\n",
              "\n",
              "    .dataframe tbody tr th {\n",
              "        vertical-align: top;\n",
              "    }\n",
              "\n",
              "    .dataframe thead th {\n",
              "        text-align: right;\n",
              "    }\n",
              "</style>\n",
              "<table border=\"1\" class=\"dataframe\">\n",
              "  <thead>\n",
              "    <tr style=\"text-align: right;\">\n",
              "      <th></th>\n",
              "      <th>Positive</th>\n",
              "      <th>Negative</th>\n",
              "    </tr>\n",
              "  </thead>\n",
              "  <tbody>\n",
              "    <tr>\n",
              "      <th>Positive</th>\n",
              "      <td>45</td>\n",
              "      <td>5</td>\n",
              "    </tr>\n",
              "    <tr>\n",
              "      <th>Negative</th>\n",
              "      <td>0</td>\n",
              "      <td>0</td>\n",
              "    </tr>\n",
              "  </tbody>\n",
              "</table>\n",
              "</div>"
            ],
            "text/plain": [
              "         Positive Negative\n",
              "Positive       45        5\n",
              "Negative        0        0"
            ]
          },
          "metadata": {
            "tags": []
          },
          "execution_count": 66
        }
      ]
    },
    {
      "cell_type": "code",
      "metadata": {
        "id": "ib-wQfiC-6R3",
        "colab_type": "code",
        "outputId": "1199fbf0-2aa9-4fa2-fae4-87d9b0afa922",
        "colab": {
          "base_uri": "https://localhost:8080/",
          "height": 102
        }
      },
      "source": [
        "weight_predicted , weight"
      ],
      "execution_count": 0,
      "outputs": [
        {
          "output_type": "execute_result",
          "data": {
            "text/plain": [
              "(array([[1.00488038],\n",
              "        [0.99677914],\n",
              "        [1.24401907]]), array([[0.05942094],\n",
              "        [0.62010767],\n",
              "        [0.28910022]]))"
            ]
          },
          "metadata": {
            "tags": []
          },
          "execution_count": 67
        }
      ]
    },
    {
      "cell_type": "code",
      "metadata": {
        "id": "BML2N-2RHsrL",
        "colab_type": "code",
        "outputId": "2a654bc8-d14e-48d4-948a-8a9d3a850de4",
        "colab": {
          "base_uri": "https://localhost:8080/",
          "height": 867
        }
      },
      "source": [
        "y_categorical"
      ],
      "execution_count": 0,
      "outputs": [
        {
          "output_type": "execute_result",
          "data": {
            "text/plain": [
              "array([[1.],\n",
              "       [1.],\n",
              "       [1.],\n",
              "       [1.],\n",
              "       [1.],\n",
              "       [1.],\n",
              "       [1.],\n",
              "       [1.],\n",
              "       [1.],\n",
              "       [1.],\n",
              "       [1.],\n",
              "       [1.],\n",
              "       [0.],\n",
              "       [1.],\n",
              "       [1.],\n",
              "       [1.],\n",
              "       [1.],\n",
              "       [1.],\n",
              "       [1.],\n",
              "       [0.],\n",
              "       [1.],\n",
              "       [1.],\n",
              "       [1.],\n",
              "       [1.],\n",
              "       [1.],\n",
              "       [1.],\n",
              "       [1.],\n",
              "       [1.],\n",
              "       [1.],\n",
              "       [1.],\n",
              "       [0.],\n",
              "       [1.],\n",
              "       [1.],\n",
              "       [0.],\n",
              "       [1.],\n",
              "       [1.],\n",
              "       [1.],\n",
              "       [0.],\n",
              "       [1.],\n",
              "       [1.],\n",
              "       [1.],\n",
              "       [1.],\n",
              "       [1.],\n",
              "       [1.],\n",
              "       [1.],\n",
              "       [1.],\n",
              "       [1.],\n",
              "       [1.],\n",
              "       [1.],\n",
              "       [1.]])"
            ]
          },
          "metadata": {
            "tags": []
          },
          "execution_count": 70
        }
      ]
    },
    {
      "cell_type": "code",
      "metadata": {
        "id": "f-AvonvuIRwE",
        "colab_type": "code",
        "outputId": "ffb3c241-2e49-4c08-bd6b-37c6fbeb03de",
        "colab": {
          "base_uri": "https://localhost:8080/",
          "height": 867
        }
      },
      "source": [
        "y_predicted"
      ],
      "execution_count": 0,
      "outputs": [
        {
          "output_type": "execute_result",
          "data": {
            "text/plain": [
              "array([[1.],\n",
              "       [1.],\n",
              "       [1.],\n",
              "       [1.],\n",
              "       [1.],\n",
              "       [1.],\n",
              "       [1.],\n",
              "       [1.],\n",
              "       [1.],\n",
              "       [1.],\n",
              "       [1.],\n",
              "       [1.],\n",
              "       [1.],\n",
              "       [1.],\n",
              "       [1.],\n",
              "       [1.],\n",
              "       [1.],\n",
              "       [1.],\n",
              "       [1.],\n",
              "       [1.],\n",
              "       [1.],\n",
              "       [1.],\n",
              "       [1.],\n",
              "       [1.],\n",
              "       [1.],\n",
              "       [1.],\n",
              "       [1.],\n",
              "       [1.],\n",
              "       [1.],\n",
              "       [1.],\n",
              "       [1.],\n",
              "       [1.],\n",
              "       [1.],\n",
              "       [1.],\n",
              "       [1.],\n",
              "       [1.],\n",
              "       [1.],\n",
              "       [1.],\n",
              "       [1.],\n",
              "       [1.],\n",
              "       [1.],\n",
              "       [1.],\n",
              "       [1.],\n",
              "       [1.],\n",
              "       [1.],\n",
              "       [1.],\n",
              "       [1.],\n",
              "       [1.],\n",
              "       [1.],\n",
              "       [1.]])"
            ]
          },
          "metadata": {
            "tags": []
          },
          "execution_count": 71
        }
      ]
    },
    {
      "cell_type": "code",
      "metadata": {
        "id": "rpL0BxgEHst_",
        "colab_type": "code",
        "outputId": "5f8eb379-ca77-472a-8337-18d44ba38698",
        "colab": {
          "base_uri": "https://localhost:8080/",
          "height": 269
        }
      },
      "source": [
        "x = np.random.uniform(-5,5,(50,1))\n",
        "y = np.random.uniform(0,1,(50,1))\n",
        "plt.scatter(x,y)\n",
        "plt.show()"
      ],
      "execution_count": 0,
      "outputs": [
        {
          "output_type": "display_data",
          "data": {
            "image/png": "[encoded data removed]",
            "text/plain": [
              "<Figure size 432x288 with 1 Axes>"
            ]
          },
          "metadata": {
            "tags": []
          }
        }
      ]
    },
    {
      "cell_type": "code",
      "metadata": {
        "id": "lwxi3K3pKEwm",
        "colab_type": "code",
        "outputId": "f43e89a4-804d-4f08-d78c-9875aad15b83",
        "colab": {
          "base_uri": "https://localhost:8080/",
          "height": 269
        }
      },
      "source": [
        "labels = np.zeros((x.shape[0],1))\n",
        "vals = np.zeros((x.shape[0],1))\n",
        "for i in range(x.shape[0]):\n",
        "  if(y[i]<1/(1 + math.exp(-x[i]))):\n",
        "    labels[i]=0\n",
        "  else:\n",
        "    labels[i]=1\n",
        "for i in range(x.shape[0]):\n",
        "  if(labels[i]==1):\n",
        "    plt.scatter(x[i],y[i],color='red')\n",
        "  else:\n",
        "    plt.scatter(x[i],y[i],color='blue')\n",
        "# plt.plot(np.sort(x,axis=0),1/(1+np.exp(-np.sort(x,axis=0))),color='green')\n",
        "plt.show()"
      ],
      "execution_count": 0,
      "outputs": [
        {
          "output_type": "display_data",
          "data": {
            "image/png": "[encoded data removed]",
            "text/plain": [
              "<Figure size 432x288 with 1 Axes>"
            ]
          },
          "metadata": {
            "tags": []
          }
        }
      ]
    },
    {
      "cell_type": "code",
      "metadata": {
        "id": "DGuDV6CYKvCF",
        "colab_type": "code",
        "colab": {}
      },
      "source": [
        "X = np.zeros((x.shape[0],2))\n",
        "X[:,1] = x[:,0]\n",
        "X[:,0] = np.ones(x.shape[0])\n",
        "Y = labels"
      ],
      "execution_count": 0,
      "outputs": []
    },
    {
      "cell_type": "code",
      "metadata": {
        "id": "e5XHNWJ7MDMw",
        "colab_type": "code",
        "colab": {}
      },
      "source": [
        "def logistic_gradient_descent(X,Y):\n",
        "  epochs = 600000\n",
        "  alphas = [0.000001]\n",
        "  for alpha in alphas:\n",
        "    theta = np.zeros((X.shape[1],1))\n",
        "    h = sigmoid(np.dot(X,theta))\n",
        "    cost = np.zeros((epochs,1))\n",
        "    for i in range(epochs):\n",
        "      theta[0] = theta[0] - alpha*np.sum(h-Y)/X.shape[0]\n",
        "      for j in range(1,X.shape[1]):\n",
        "        theta[j] = theta[j] - alpha/X.shape[0] * np.sum((h-Y)*X[:,j])\n",
        "        h = sigmoid(np.dot(X,theta))\n",
        "      cost[i] = logistic_cost(Y,h)\n",
        "      if(i%20000==0):\n",
        "        print(\"Epoch : \" , i , \" Cost : \" , cost[i])\n",
        "    plt.plot(np.arange(epochs),cost)\n",
        "    plt.xlabel('Epochs')\n",
        "    plt.ylabel('Cost')\n",
        "    plt.title('Cost v/s Epoch for gradient descent')\n",
        "    plt.show()\n",
        "    if(alpha==0.000001):\n",
        "      return theta"
      ],
      "execution_count": 0,
      "outputs": []
    },
    {
      "cell_type": "code",
      "metadata": {
        "id": "uwAggEzvLS1U",
        "colab_type": "code",
        "outputId": "5b789930-9e8a-41d3-ba11-8f60ac2f4e7f",
        "colab": {
          "base_uri": "https://localhost:8080/",
          "height": 839
        }
      },
      "source": [
        "weight_predicted = logistic_gradient_descent(X,Y)\n",
        "y_hat = sigmoid(np.dot(X,weight_predicted))\n",
        "cost = logistic_cost(Y,y_hat)\n",
        "y_predicted = logistic_output(X,weight_predicted)\n",
        "cost"
      ],
      "execution_count": 0,
      "outputs": [
        {
          "output_type": "stream",
          "text": [
            "Epoch :  0  Cost :  [0.69314402]\n",
            "Epoch :  20000  Cost :  [0.6386927]\n",
            "Epoch :  40000  Cost :  [0.59836472]\n",
            "Epoch :  60000  Cost :  [0.56803747]\n",
            "Epoch :  80000  Cost :  [0.54487205]\n",
            "Epoch :  100000  Cost :  [0.52691489]\n",
            "Epoch :  120000  Cost :  [0.5128089]\n",
            "Epoch :  140000  Cost :  [0.50159775]\n",
            "Epoch :  160000  Cost :  [0.49259633]\n",
            "Epoch :  180000  Cost :  [0.48530558]\n",
            "Epoch :  200000  Cost :  [0.47935594]\n",
            "Epoch :  220000  Cost :  [0.47446951]\n",
            "Epoch :  240000  Cost :  [0.47043431]\n",
            "Epoch :  260000  Cost :  [0.46708651]\n",
            "Epoch :  280000  Cost :  [0.46429799]\n",
            "Epoch :  300000  Cost :  [0.46196747]\n",
            "Epoch :  320000  Cost :  [0.46001414]\n",
            "Epoch :  340000  Cost :  [0.45837294]\n",
            "Epoch :  360000  Cost :  [0.45699113]\n",
            "Epoch :  380000  Cost :  [0.45582566]\n",
            "Epoch :  400000  Cost :  [0.45484117]\n",
            "Epoch :  420000  Cost :  [0.45400849]\n",
            "Epoch :  440000  Cost :  [0.45330345]\n",
            "Epoch :  460000  Cost :  [0.45270593]\n",
            "Epoch :  480000  Cost :  [0.45219913]\n",
            "Epoch :  500000  Cost :  [0.45176898]\n",
            "Epoch :  520000  Cost :  [0.45140369]\n",
            "Epoch :  540000  Cost :  [0.45109332]\n",
            "Epoch :  560000  Cost :  [0.45082951]\n",
            "Epoch :  580000  Cost :  [0.45060518]\n"
          ],
          "name": "stdout"
        },
        {
          "output_type": "display_data",
          "data": {
            "image/png": "[encoded data removed]",
            "text/plain": [
              "<Figure size 432x288 with 1 Axes>"
            ]
          },
          "metadata": {
            "tags": []
          }
        },
        {
          "output_type": "stream",
          "text": [
            "(50, 1)\n"
          ],
          "name": "stdout"
        },
        {
          "output_type": "execute_result",
          "data": {
            "text/plain": [
              "0.45041439563468016"
            ]
          },
          "metadata": {
            "tags": []
          },
          "execution_count": 366
        }
      ]
    },
    {
      "cell_type": "code",
      "metadata": {
        "id": "F0ouCT57ZQML",
        "colab_type": "code",
        "outputId": "b0110362-3dc7-4b35-a5ab-561e81bd0158",
        "colab": {
          "base_uri": "https://localhost:8080/",
          "height": 111
        }
      },
      "source": [
        "df = prediction_table(Y,y_predicted)\n",
        "df"
      ],
      "execution_count": 0,
      "outputs": [
        {
          "output_type": "execute_result",
          "data": {
            "text/html": [
              "<div>\n",
              "<style scoped>\n",
              "    .dataframe tbody tr th:only-of-type {\n",
              "        vertical-align: middle;\n",
              "    }\n",
              "\n",
              "    .dataframe tbody tr th {\n",
              "        vertical-align: top;\n",
              "    }\n",
              "\n",
              "    .dataframe thead th {\n",
              "        text-align: right;\n",
              "    }\n",
              "</style>\n",
              "<table border=\"1\" class=\"dataframe\">\n",
              "  <thead>\n",
              "    <tr style=\"text-align: right;\">\n",
              "      <th></th>\n",
              "      <th>Positive</th>\n",
              "      <th>Negative</th>\n",
              "    </tr>\n",
              "  </thead>\n",
              "  <tbody>\n",
              "    <tr>\n",
              "      <th>Positive</th>\n",
              "      <td>16</td>\n",
              "      <td>1</td>\n",
              "    </tr>\n",
              "    <tr>\n",
              "      <th>Negative</th>\n",
              "      <td>6</td>\n",
              "      <td>27</td>\n",
              "    </tr>\n",
              "  </tbody>\n",
              "</table>\n",
              "</div>"
            ],
            "text/plain": [
              "         Positive Negative\n",
              "Positive       16        1\n",
              "Negative        6       27"
            ]
          },
          "metadata": {
            "tags": []
          },
          "execution_count": 367
        }
      ]
    },
    {
      "cell_type": "code",
      "metadata": {
        "id": "FNdH2tuQZXXx",
        "colab_type": "code",
        "outputId": "a43a825a-fbb3-4404-91bd-06428fe21508",
        "colab": {
          "base_uri": "https://localhost:8080/",
          "height": 773
        }
      },
      "source": [
        "for i in range(x.shape[0]):\n",
        "  if(labels[i]==1):\n",
        "    plt.scatter(x[i],y[i],color='red')\n",
        "  else:\n",
        "    plt.scatter(x[i],y[i],color='blue')\n",
        "plt.show()\n",
        "for i in range(x.shape[0]):\n",
        "  if(y_predicted[i]==1):\n",
        "    plt.scatter(x[i],y[i],color='red')\n",
        "  else:\n",
        "    plt.scatter(x[i],y[i],color='blue')\n",
        "plt.show()\n",
        "for i in range(x.shape[0]):\n",
        "  if(y_predicted[i]==labels[i]):\n",
        "    plt.scatter(x[i],y[i],color='pink')\n",
        "  else:\n",
        "    plt.scatter(x[i],y[i],color='green')\n",
        "plt.show()"
      ],
      "execution_count": 0,
      "outputs": [
        {
          "output_type": "display_data",
          "data": {
            "image/png": "[encoded data removed]",
            "text/plain": [
              "<Figure size 432x288 with 1 Axes>"
            ]
          },
          "metadata": {
            "tags": []
          }
        },
        {
          "output_type": "display_data",
          "data": {
            "image/png": "[encoded data removed]",
            "text/plain": [
              "<Figure size 432x288 with 1 Axes>"
            ]
          },
          "metadata": {
            "tags": []
          }
        },
        {
          "output_type": "display_data",
          "data": {
            "image/png": "[encoded data removed]",
            "text/plain": [
              "<Figure size 432x288 with 1 Axes>"
            ]
          },
          "metadata": {
            "tags": []
          }
        }
      ]
    }
  ]
}