{
  "nbformat": 4,
  "nbformat_minor": 0,
  "metadata": {
    "colab": {
      "name": "ML4DM_Lab_1.ipynb",
      "version": "0.3.2",
      "provenance": [],
      "collapsed_sections": [],
      "include_colab_link": true
    },
    "kernelspec": {
      "name": "python3",
      "display_name": "Python 3"
    },
    "accelerator": "TPU"
  },
  "cells": [
    {
      "cell_type": "markdown",
      "metadata": {
        "id": "view-in-github",
        "colab_type": "text"
      },
      "source": [
        "<a href=\"https://colab.research.google.com/github/nishi1612/Machine-Learning-For-Data-Mining/blob/master/Lab_1.ipynb\" target=\"_parent\"><img src=\"https://colab.research.google.com/assets/colab-badge.svg\" alt=\"Open In Colab\"/></a>"
      ]
    },
    {
      "cell_type": "code",
      "metadata": {
        "id": "I2DI6ohig2KK",
        "colab_type": "code",
        "colab": {}
      },
      "source": [
        "import numpy as np\n",
        "import matplotlib.pyplot as plt\n",
        "import pandas as pd\n",
        "import math"
      ],
      "execution_count": 0,
      "outputs": []
    },
    {
      "cell_type": "code",
      "metadata": {
        "id": "q7yudYUfAx7z",
        "colab_type": "code",
        "colab": {}
      },
      "source": [
        "def graph():\n",
        "  plt.xlabel('$x$')\n",
        "  plt.ylabel('$y$')\n",
        "  plt.show()"
      ],
      "execution_count": 0,
      "outputs": []
    },
    {
      "cell_type": "code",
      "metadata": {
        "id": "6CWeUlPNgyYK",
        "colab_type": "code",
        "colab": {}
      },
      "source": [
        "N = 50\n",
        "M = 2"
      ],
      "execution_count": 0,
      "outputs": []
    },
    {
      "cell_type": "code",
      "metadata": {
        "id": "VS6CM-YIg5-a",
        "colab_type": "code",
        "colab": {}
      },
      "source": [
        "def generate_input(N,M):\n",
        "  mu = np.random.random((M,1))\n",
        "  sigma = np.random.random((M,1))\n",
        "  X = np.ones((N,M+1))\n",
        "  for i in range(M):\n",
        "     X[:,i] = np.random.normal(mu[i],sigma[i],N)\n",
        "  return X"
      ],
      "execution_count": 0,
      "outputs": []
    },
    {
      "cell_type": "code",
      "metadata": {
        "id": "Q-OLZflMOAsN",
        "colab_type": "code",
        "colab": {}
      },
      "source": [
        "def predict_output(X,weight):\n",
        "  return np.matmul(X,weight)"
      ],
      "execution_count": 0,
      "outputs": []
    },
    {
      "cell_type": "code",
      "metadata": {
        "id": "a2wBXtI8kyeO",
        "colab_type": "code",
        "colab": {}
      },
      "source": [
        "def generate_output(X,M):\n",
        "  weight = np.random.random((M+1,1))\n",
        "  Y = predict_output(X,weight)\n",
        "  return weight, Y"
      ],
      "execution_count": 0,
      "outputs": []
    },
    {
      "cell_type": "code",
      "metadata": {
        "id": "YM1BiR04nXjI",
        "colab_type": "code",
        "colab": {}
      },
      "source": [
        "def add_noise(Y,N):\n",
        "  noise = np.random.random((N,1))\n",
        "  Y_noise = Y+noise\n",
        "  return Y_noise"
      ],
      "execution_count": 0,
      "outputs": []
    },
    {
      "cell_type": "code",
      "metadata": {
        "id": "znVSseT4nrDa",
        "colab_type": "code",
        "colab": {}
      },
      "source": [
        "def closed_form(X,Y_noise):\n",
        "  a = np.linalg.inv(np.matmul(X.transpose(),X))\n",
        "  b = np.matmul(a,X.transpose())\n",
        "  weight_predicted = np.matmul(b,Y_noise)\n",
        "  return weight_predicted"
      ],
      "execution_count": 0,
      "outputs": []
    },
    {
      "cell_type": "code",
      "metadata": {
        "id": "wOLhsly9u3RI",
        "colab_type": "code",
        "colab": {}
      },
      "source": [
        "def calculate_mse(y_predicted,y,N):\n",
        "  mse = np.sum((y_predicted - y)**2)\n",
        "  return mse/N"
      ],
      "execution_count": 0,
      "outputs": []
    },
    {
      "cell_type": "markdown",
      "metadata": {
        "id": "9tdUc-u9jBqv",
        "colab_type": "text"
      },
      "source": [
        "**Closed form solution**"
      ]
    },
    {
      "cell_type": "code",
      "metadata": {
        "id": "4BANM5cKroK-",
        "colab_type": "code",
        "outputId": "cf267262-6d2f-4369-d4ff-10b5bda2f37c",
        "colab": {
          "base_uri": "https://localhost:8080/",
          "height": 34
        }
      },
      "source": [
        "X = generate_input(N,M)\n",
        "weight, Y = generate_output(X,M)\n",
        "Y_noise = add_noise(Y,N)\n",
        "weight_predicted = closed_form(X,Y_noise)\n",
        "y_predicted = predict_output(X,weight_predicted)\n",
        "mse = calculate_mse(y_predicted,Y_noise,N)\n",
        "mse"
      ],
      "execution_count": 11,
      "outputs": [
        {
          "output_type": "execute_result",
          "data": {
            "text/plain": [
              "0.07538835285100688"
            ]
          },
          "metadata": {
            "tags": []
          },
          "execution_count": 11
        }
      ]
    },
    {
      "cell_type": "code",
      "metadata": {
        "id": "cS78HzjXp-cY",
        "colab_type": "code",
        "outputId": "6e9db135-d87a-48ab-f4ea-9da7680a087c",
        "colab": {
          "base_uri": "https://localhost:8080/",
          "height": 34
        }
      },
      "source": [
        "X.shape, weight.shape"
      ],
      "execution_count": 12,
      "outputs": [
        {
          "output_type": "execute_result",
          "data": {
            "text/plain": [
              "((50, 3), (3, 1))"
            ]
          },
          "metadata": {
            "tags": []
          },
          "execution_count": 12
        }
      ]
    },
    {
      "cell_type": "code",
      "metadata": {
        "id": "kHcsjNzPy9ny",
        "colab_type": "code",
        "colab": {}
      },
      "source": [
        "def gradient_descent(X,Y):\n",
        "  epochs = 1000000\n",
        "  alphas = [0.0000001]\n",
        "  for alpha in alphas:\n",
        "    theta = np.ones((X.shape[1],1))\n",
        "    h = predict_output(X,theta)\n",
        "    cost = np.zeros((epochs,1))\n",
        "    for i in range(epochs):\n",
        "        theta[0] = theta[0] - alpha*np.sum(h-Y)/X.shape[0]\n",
        "        for j in range(1,X.shape[1]):\n",
        "          theta[j] = theta[j] - alpha/X.shape[0] * np.sum((h-Y)*X[:,j])\n",
        "          h = predict_output(X,theta)\n",
        "        cost[i] = calculate_mse(Y,h,X.shape[0])\n",
        "        if(i>0 and cost[i]>cost[i-1]):\n",
        "          epochs = i\n",
        "          break\n",
        "        if(i%50000==0):\n",
        "          print(\"Epoch : \" , i , \" Cost : \" , cost[i])\n",
        "    plt.plot(np.arange(epochs),cost)\n",
        "    plt.xlabel('Epochs')\n",
        "    plt.ylabel('Cost')\n",
        "    plt.title('Cost v/s Epoch for gradient descent')\n",
        "    plt.show()\n",
        "    if(alpha==0.0000001):\n",
        "      return theta"
      ],
      "execution_count": 0,
      "outputs": []
    },
    {
      "cell_type": "markdown",
      "metadata": {
        "id": "jVqbwxnIjIL4",
        "colab_type": "text"
      },
      "source": [
        "**Gradient Descent Method for multi variable linear regression**"
      ]
    },
    {
      "cell_type": "code",
      "metadata": {
        "id": "jGDa8pi8IK_X",
        "colab_type": "code",
        "outputId": "82abee9e-3524-44c5-9253-8c43c4fef1bb",
        "colab": {
          "base_uri": "https://localhost:8080/",
          "height": 652
        }
      },
      "source": [
        "weight_predicted = gradient_descent(X,Y_noise)\n",
        "y_predicted = predict_output(X,weight_predicted)\n",
        "mse = calculate_mse(y_predicted,Y_noise,N)\n",
        "mse"
      ],
      "execution_count": 14,
      "outputs": [
        {
          "output_type": "stream",
          "text": [
            "Epoch :  0  Cost :  [0.41253651]\n",
            "Epoch :  50000  Cost :  [0.29676466]\n",
            "Epoch :  100000  Cost :  [0.24137038]\n",
            "Epoch :  150000  Cost :  [0.21365775]\n",
            "Epoch :  200000  Cost :  [0.19911706]\n",
            "Epoch :  250000  Cost :  [0.19112506]\n",
            "Epoch :  300000  Cost :  [0.18654717]\n",
            "Epoch :  350000  Cost :  [0.18383457]\n",
            "Epoch :  400000  Cost :  [0.18218494]\n",
            "Epoch :  450000  Cost :  [0.18116262]\n",
            "Epoch :  500000  Cost :  [0.18052063]\n",
            "Epoch :  550000  Cost :  [0.18011382]\n",
            "Epoch :  600000  Cost :  [0.17985449]\n",
            "Epoch :  650000  Cost :  [0.17968851]\n",
            "Epoch :  700000  Cost :  [0.179582]\n",
            "Epoch :  750000  Cost :  [0.17951353]\n",
            "Epoch :  800000  Cost :  [0.17946948]\n",
            "Epoch :  850000  Cost :  [0.17944111]\n",
            "Epoch :  900000  Cost :  [0.17942283]\n",
            "Epoch :  950000  Cost :  [0.17941105]\n"
          ],
          "name": "stdout"
        },
        {
          "output_type": "display_data",
          "data": {
            "image/png": "[encoded data removed]",
            "text/plain": [
              "<Figure size 432x288 with 1 Axes>"
            ]
          },
          "metadata": {
            "tags": []
          }
        },
        {
          "output_type": "execute_result",
          "data": {
            "text/plain": [
              "0.1794034599142204"
            ]
          },
          "metadata": {
            "tags": []
          },
          "execution_count": 14
        }
      ]
    },
    {
      "cell_type": "code",
      "metadata": {
        "id": "BrIeB6TkAh_x",
        "colab_type": "code",
        "outputId": "a5e9cc0f-bc41-4931-fd24-4bc1ea4c6ca9",
        "colab": {
          "base_uri": "https://localhost:8080/",
          "height": 102
        }
      },
      "source": [
        "weight_predicted, weight"
      ],
      "execution_count": 15,
      "outputs": [
        {
          "output_type": "execute_result",
          "data": {
            "text/plain": [
              "(array([[0.99600463],\n",
              "        [0.82827291],\n",
              "        [0.80023247]]), array([[0.71070982],\n",
              "        [0.47690888],\n",
              "        [0.86280381]]))"
            ]
          },
          "metadata": {
            "tags": []
          },
          "execution_count": 15
        }
      ]
    },
    {
      "cell_type": "code",
      "metadata": {
        "id": "MndHx1anc-EE",
        "colab_type": "code",
        "colab": {}
      },
      "source": [
        "def sigmoid(z):\n",
        "  return 1/(1+np.exp(-z))"
      ],
      "execution_count": 0,
      "outputs": []
    },
    {
      "cell_type": "code",
      "metadata": {
        "id": "ddDDpm-QdFnm",
        "colab_type": "code",
        "colab": {}
      },
      "source": [
        "def logistic_cost(y_actual,y_predicted):\n",
        "  return np.sum(((-y_actual*np.log(y_predicted)) - ((1-y_actual)*np.log(1-y_predicted))))/y_predicted.shape[0]"
      ],
      "execution_count": 0,
      "outputs": []
    },
    {
      "cell_type": "code",
      "metadata": {
        "id": "KimtELtPd5ZS",
        "colab_type": "code",
        "colab": {}
      },
      "source": [
        "def logistic_output(X,theta):\n",
        "  t = sigmoid(np.dot(X,theta))\n",
        "  for i in range(t.shape[0]):\n",
        "    if(t[i]<0.5):\n",
        "      t[i]=0\n",
        "    else:\n",
        "      t[i]=1\n",
        "  return t"
      ],
      "execution_count": 0,
      "outputs": []
    },
    {
      "cell_type": "code",
      "metadata": {
        "id": "-DoQJFdyP3GL",
        "colab_type": "code",
        "colab": {}
      },
      "source": [
        "def logistic_gradient_descent(X,Y):\n",
        "  epochs = 1000000\n",
        "  alphas = [0.000001]\n",
        "  for alpha in alphas:\n",
        "    theta = np.ones((X.shape[1],1))\n",
        "    h = sigmoid(np.dot(X,theta))\n",
        "    cost = np.zeros((epochs,1))\n",
        "    for i in range(epochs):\n",
        "      theta[0] = theta[0] - alpha*np.sum(h-Y)/X.shape[0]\n",
        "      for j in range(1,X.shape[1]):\n",
        "        theta[j] = theta[j] - alpha/X.shape[0] * np.sum((h-Y)*X[:,j])\n",
        "        h = sigmoid(np.dot(X,theta))\n",
        "      cost[i] = logistic_cost(Y,h)\n",
        "      if(i>0 and cost[i]>cost[i-1]):\n",
        "        epochs = i\n",
        "        break\n",
        "      if(i%50000==0):\n",
        "        print(\"Epoch : \" , i , \" Cost : \" , cost[i])\n",
        "    plt.plot(np.arange(epochs),cost)\n",
        "    plt.xlabel('Epochs')\n",
        "    plt.ylabel('Cost')\n",
        "    plt.title('Cost v/s Epoch for gradient descent')\n",
        "    plt.show()\n",
        "    if(alpha==0.000001):\n",
        "      return theta"
      ],
      "execution_count": 0,
      "outputs": []
    },
    {
      "cell_type": "code",
      "metadata": {
        "id": "X_MZN2m0Pa6M",
        "colab_type": "code",
        "colab": {}
      },
      "source": [
        "def prediction_table(y_actual,y_predicted):\n",
        "  table = pd.DataFrame(columns=['Positive','Negative'])\n",
        "  tp = 0\n",
        "  tn = 0\n",
        "  fp = 0\n",
        "  fn = 0\n",
        "  for i in range(y_predicted.shape[0]):\n",
        "    if(y_actual[i]==1):\n",
        "      if(y_predicted[i]==1):\n",
        "        tp+=1\n",
        "      else:\n",
        "        fn+=1\n",
        "    elif(y_actual[i]==0):\n",
        "      if(y_predicted[i]==1):\n",
        "        fp+=1\n",
        "      else:\n",
        "        tn+=1\n",
        "  table.loc['Positive'] = [tp,fp]\n",
        "  table.loc['Negative'] = [fn,tn]\n",
        "  return table"
      ],
      "execution_count": 0,
      "outputs": []
    },
    {
      "cell_type": "markdown",
      "metadata": {
        "id": "ZMFC-KTIk8Pt",
        "colab_type": "text"
      },
      "source": [
        "**Gradient Descent Solution for multi variable logistic regression**"
      ]
    },
    {
      "cell_type": "code",
      "metadata": {
        "id": "KX67WrkXSyvw",
        "colab_type": "code",
        "outputId": "21e5c823-3ba9-41f2-aea5-dd89261a73b9",
        "colab": {
          "base_uri": "https://localhost:8080/",
          "height": 652
        }
      },
      "source": [
        "y_categorical = logistic_output(X,weight)\n",
        "weight_predicted = logistic_gradient_descent(X,y_categorical)\n",
        "y_hat = sigmoid(np.dot(X,weight_predicted))\n",
        "cost = logistic_cost(y_categorical,y_hat)\n",
        "y_predicted = logistic_output(X,weight_predicted)\n",
        "cost"
      ],
      "execution_count": 27,
      "outputs": [
        {
          "output_type": "stream",
          "text": [
            "Epoch :  0  Cost :  [0.09379424]\n",
            "Epoch :  50000  Cost :  [0.07455909]\n",
            "Epoch :  100000  Cost :  [0.06222889]\n",
            "Epoch :  150000  Cost :  [0.05362479]\n",
            "Epoch :  200000  Cost :  [0.04726267]\n",
            "Epoch :  250000  Cost :  [0.04235649]\n",
            "Epoch :  300000  Cost :  [0.03845068]\n",
            "Epoch :  350000  Cost :  [0.03526274]\n",
            "Epoch :  400000  Cost :  [0.032608]\n",
            "Epoch :  450000  Cost :  [0.03036054]\n",
            "Epoch :  500000  Cost :  [0.02843148]\n",
            "Epoch :  550000  Cost :  [0.02675626]\n",
            "Epoch :  600000  Cost :  [0.02528679]\n",
            "Epoch :  650000  Cost :  [0.02398653]\n",
            "Epoch :  700000  Cost :  [0.02282718]\n",
            "Epoch :  750000  Cost :  [0.02178647]\n",
            "Epoch :  800000  Cost :  [0.02084664]\n",
            "Epoch :  850000  Cost :  [0.01999335]\n",
            "Epoch :  900000  Cost :  [0.01921487]\n",
            "Epoch :  950000  Cost :  [0.01850153]\n"
          ],
          "name": "stdout"
        },
        {
          "output_type": "display_data",
          "data": {
            "image/png": "[encoded data removed]",
            "text/plain": [
              "<Figure size 432x288 with 1 Axes>"
            ]
          },
          "metadata": {
            "tags": []
          }
        },
        {
          "output_type": "execute_result",
          "data": {
            "text/plain": [
              "0.017845272509944988"
            ]
          },
          "metadata": {
            "tags": []
          },
          "execution_count": 27
        }
      ]
    },
    {
      "cell_type": "code",
      "metadata": {
        "id": "zCXm03TQPogb",
        "colab_type": "code",
        "outputId": "b8b3fdf1-a24e-410f-aa7c-6d86fe2e579e",
        "colab": {
          "base_uri": "https://localhost:8080/",
          "height": 111
        }
      },
      "source": [
        "df = prediction_table(y_categorical,y_predicted)\n",
        "df"
      ],
      "execution_count": 28,
      "outputs": [
        {
          "output_type": "execute_result",
          "data": {
            "text/html": [
              "<div>\n",
              "<style scoped>\n",
              "    .dataframe tbody tr th:only-of-type {\n",
              "        vertical-align: middle;\n",
              "    }\n",
              "\n",
              "    .dataframe tbody tr th {\n",
              "        vertical-align: top;\n",
              "    }\n",
              "\n",
              "    .dataframe thead th {\n",
              "        text-align: right;\n",
              "    }\n",
              "</style>\n",
              "<table border=\"1\" class=\"dataframe\">\n",
              "  <thead>\n",
              "    <tr style=\"text-align: right;\">\n",
              "      <th></th>\n",
              "      <th>Positive</th>\n",
              "      <th>Negative</th>\n",
              "    </tr>\n",
              "  </thead>\n",
              "  <tbody>\n",
              "    <tr>\n",
              "      <th>Positive</th>\n",
              "      <td>50</td>\n",
              "      <td>0</td>\n",
              "    </tr>\n",
              "    <tr>\n",
              "      <th>Negative</th>\n",
              "      <td>0</td>\n",
              "      <td>0</td>\n",
              "    </tr>\n",
              "  </tbody>\n",
              "</table>\n",
              "</div>"
            ],
            "text/plain": [
              "         Positive Negative\n",
              "Positive       50        0\n",
              "Negative        0        0"
            ]
          },
          "metadata": {
            "tags": []
          },
          "execution_count": 28
        }
      ]
    },
    {
      "cell_type": "code",
      "metadata": {
        "id": "ib-wQfiC-6R3",
        "colab_type": "code",
        "outputId": "b303138d-2ee9-468e-9a18-b4ff8c1e7781",
        "colab": {
          "base_uri": "https://localhost:8080/",
          "height": 102
        }
      },
      "source": [
        "weight_predicted , weight"
      ],
      "execution_count": 29,
      "outputs": [
        {
          "output_type": "execute_result",
          "data": {
            "text/plain": [
              "(array([[1.03316124],\n",
              "        [2.42532212],\n",
              "        [2.65806154]]), array([[0.71070982],\n",
              "        [0.47690888],\n",
              "        [0.86280381]]))"
            ]
          },
          "metadata": {
            "tags": []
          },
          "execution_count": 29
        }
      ]
    },
    {
      "cell_type": "code",
      "metadata": {
        "id": "BML2N-2RHsrL",
        "colab_type": "code",
        "outputId": "714ad15b-9e75-4bbe-8cd7-a3214e7826dd",
        "colab": {
          "base_uri": "https://localhost:8080/",
          "height": 34
        }
      },
      "source": [
        "zeros=0\n",
        "ones=0\n",
        "for i in range(y_categorical.shape[0]):\n",
        "  if(y_categorical[i][0]==0):\n",
        "    zeros+=1\n",
        "  else:\n",
        "    ones+=1\n",
        "print(zeros,ones)"
      ],
      "execution_count": 30,
      "outputs": [
        {
          "output_type": "stream",
          "text": [
            "0 50\n"
          ],
          "name": "stdout"
        }
      ]
    },
    {
      "cell_type": "code",
      "metadata": {
        "id": "rpL0BxgEHst_",
        "colab_type": "code",
        "outputId": "d7698050-f1c4-4001-bad6-06e87be8d588",
        "colab": {
          "base_uri": "https://localhost:8080/",
          "height": 295
        }
      },
      "source": [
        "x = np.random.uniform(-5,5,(50,1))\n",
        "y = np.random.uniform(0,1,(50,1))\n",
        "plt.scatter(x,y)\n",
        "plt.title('Scatter Graph for randomly generated data')\n",
        "graph()"
      ],
      "execution_count": 52,
      "outputs": [
        {
          "output_type": "display_data",
          "data": {
            "image/png": "[encoded data removed]",
            "text/plain": [
              "<Figure size 432x288 with 1 Axes>"
            ]
          },
          "metadata": {
            "tags": []
          }
        }
      ]
    },
    {
      "cell_type": "code",
      "metadata": {
        "id": "lwxi3K3pKEwm",
        "colab_type": "code",
        "outputId": "1cfaf3b8-2114-4aad-c0e1-5fae1d0fb042",
        "colab": {
          "base_uri": "https://localhost:8080/",
          "height": 295
        }
      },
      "source": [
        "labels = np.zeros((x.shape[0],1))\n",
        "vals = np.zeros((x.shape[0],1))\n",
        "for i in range(x.shape[0]):\n",
        "  if(y[i]<1/(1 + math.exp(-x[i]))):\n",
        "    labels[i]=0\n",
        "  else:\n",
        "    labels[i]=1\n",
        "for i in range(x.shape[0]):\n",
        "  if(labels[i]==1):\n",
        "    plt.scatter(x[i],y[i],color='red')\n",
        "  else:\n",
        "    plt.scatter(x[i],y[i],color='blue')\n",
        "plt.plot(np.sort(x,axis=0),1/(1+np.exp(-np.sort(x,axis=0))),color='green',label='Logistic function')\n",
        "plt.legend()\n",
        "plt.title('Data classified into two classes with the logistic regression')\n",
        "graph()"
      ],
      "execution_count": 49,
      "outputs": [
        {
          "output_type": "display_data",
          "data": {
            "image/png": "[encoded data removed]",
            "text/plain": [
              "<Figure size 432x288 with 1 Axes>"
            ]
          },
          "metadata": {
            "tags": []
          }
        }
      ]
    },
    {
      "cell_type": "code",
      "metadata": {
        "id": "DGuDV6CYKvCF",
        "colab_type": "code",
        "colab": {}
      },
      "source": [
        "X = np.zeros((x.shape[0],2))\n",
        "X[:,1] = x[:,0]\n",
        "X[:,0] = np.ones(x.shape[0])\n",
        "Y = labels"
      ],
      "execution_count": 0,
      "outputs": []
    },
    {
      "cell_type": "code",
      "metadata": {
        "id": "e5XHNWJ7MDMw",
        "colab_type": "code",
        "colab": {}
      },
      "source": [
        "def logistic_gradient_descent(X,Y):\n",
        "  epochs = 1000000\n",
        "  alphas = [0.00001]\n",
        "  for alpha in alphas:\n",
        "    theta = np.zeros((X.shape[1],1))\n",
        "    h = sigmoid(np.dot(X,theta))\n",
        "    cost = np.zeros((epochs,1))\n",
        "    for i in range(epochs):\n",
        "      theta[0] = theta[0] - alpha*np.sum(h-Y)/X.shape[0]\n",
        "      for j in range(1,X.shape[1]):\n",
        "        theta[j] = theta[j] - alpha/X.shape[0] * np.sum((h-Y)*X[:,j])\n",
        "        h = sigmoid(np.dot(X,theta))\n",
        "      cost[i] = logistic_cost(Y,h)\n",
        "      if(i>0 and cost[i]>cost[i-1]):\n",
        "        epochs = i\n",
        "        break\n",
        "      if(i%50000==0):\n",
        "        print(\"Epoch : \" , i , \" Cost : \" , cost[i])\n",
        "    plt.plot(np.arange(epochs),cost)\n",
        "    plt.xlabel('Epochs')\n",
        "    plt.ylabel('Cost')\n",
        "    plt.title('Cost v/s Epoch for gradient descent')\n",
        "    plt.show()\n",
        "    if(alpha==0.00001):\n",
        "      return theta"
      ],
      "execution_count": 0,
      "outputs": []
    },
    {
      "cell_type": "code",
      "metadata": {
        "id": "uwAggEzvLS1U",
        "colab_type": "code",
        "outputId": "80b938c5-0a94-421b-8056-6a215bff92fa",
        "colab": {
          "base_uri": "https://localhost:8080/",
          "height": 652
        }
      },
      "source": [
        "weight_predicted = logistic_gradient_descent(X,Y)\n",
        "y_hat = sigmoid(np.dot(X,weight_predicted))\n",
        "cost = logistic_cost(Y,y_hat)\n",
        "y_predicted = logistic_output(X,weight_predicted)\n",
        "cost"
      ],
      "execution_count": 37,
      "outputs": [
        {
          "output_type": "stream",
          "text": [
            "Epoch :  0  Cost :  [0.69313998]\n",
            "Epoch :  50000  Cost :  [0.48157614]\n",
            "Epoch :  100000  Cost :  [0.40518043]\n",
            "Epoch :  150000  Cost :  [0.37056786]\n",
            "Epoch :  200000  Cost :  [0.35251088]\n",
            "Epoch :  250000  Cost :  [0.34227166]\n",
            "Epoch :  300000  Cost :  [0.33616436]\n",
            "Epoch :  350000  Cost :  [0.33240533]\n",
            "Epoch :  400000  Cost :  [0.33004529]\n",
            "Epoch :  450000  Cost :  [0.3285447]\n",
            "Epoch :  500000  Cost :  [0.32758278]\n",
            "Epoch :  550000  Cost :  [0.32696291]\n",
            "Epoch :  600000  Cost :  [0.32656211]\n",
            "Epoch :  650000  Cost :  [0.32630237]\n",
            "Epoch :  700000  Cost :  [0.32613382]\n",
            "Epoch :  750000  Cost :  [0.32602433]\n",
            "Epoch :  800000  Cost :  [0.32595317]\n",
            "Epoch :  850000  Cost :  [0.3259069]\n",
            "Epoch :  900000  Cost :  [0.32587681]\n",
            "Epoch :  950000  Cost :  [0.32585723]\n"
          ],
          "name": "stdout"
        },
        {
          "output_type": "display_data",
          "data": {
            "image/png": "[encoded data removed]",
            "text/plain": [
              "<Figure size 432x288 with 1 Axes>"
            ]
          },
          "metadata": {
            "tags": []
          }
        },
        {
          "output_type": "execute_result",
          "data": {
            "text/plain": [
              "0.32584449716679215"
            ]
          },
          "metadata": {
            "tags": []
          },
          "execution_count": 37
        }
      ]
    },
    {
      "cell_type": "code",
      "metadata": {
        "id": "F0ouCT57ZQML",
        "colab_type": "code",
        "outputId": "42acb80e-4ca0-4ab0-df3b-b9420335b5ef",
        "colab": {
          "base_uri": "https://localhost:8080/",
          "height": 111
        }
      },
      "source": [
        "df = prediction_table(Y,y_predicted)\n",
        "df"
      ],
      "execution_count": 38,
      "outputs": [
        {
          "output_type": "execute_result",
          "data": {
            "text/html": [
              "<div>\n",
              "<style scoped>\n",
              "    .dataframe tbody tr th:only-of-type {\n",
              "        vertical-align: middle;\n",
              "    }\n",
              "\n",
              "    .dataframe tbody tr th {\n",
              "        vertical-align: top;\n",
              "    }\n",
              "\n",
              "    .dataframe thead th {\n",
              "        text-align: right;\n",
              "    }\n",
              "</style>\n",
              "<table border=\"1\" class=\"dataframe\">\n",
              "  <thead>\n",
              "    <tr style=\"text-align: right;\">\n",
              "      <th></th>\n",
              "      <th>Positive</th>\n",
              "      <th>Negative</th>\n",
              "    </tr>\n",
              "  </thead>\n",
              "  <tbody>\n",
              "    <tr>\n",
              "      <th>Positive</th>\n",
              "      <td>20</td>\n",
              "      <td>0</td>\n",
              "    </tr>\n",
              "    <tr>\n",
              "      <th>Negative</th>\n",
              "      <td>3</td>\n",
              "      <td>27</td>\n",
              "    </tr>\n",
              "  </tbody>\n",
              "</table>\n",
              "</div>"
            ],
            "text/plain": [
              "         Positive Negative\n",
              "Positive       20        0\n",
              "Negative        3       27"
            ]
          },
          "metadata": {
            "tags": []
          },
          "execution_count": 38
        }
      ]
    },
    {
      "cell_type": "code",
      "metadata": {
        "id": "FNdH2tuQZXXx",
        "colab_type": "code",
        "outputId": "4ac91a58-2679-44f8-8002-41616651229f",
        "colab": {
          "base_uri": "https://localhost:8080/",
          "height": 851
        }
      },
      "source": [
        "for i in range(x.shape[0]):\n",
        "  if(labels[i]==1):\n",
        "    plt.scatter(x[i],y[i],color='red')\n",
        "  else:\n",
        "    plt.scatter(x[i],y[i],color='blue')\n",
        "plt.plot(np.sort(x,axis=0),1/(1+np.exp(-np.sort(x,axis=0))),color='green',label='Logistic function')\n",
        "plt.legend()\n",
        "plt.title('Data classified into two classes with the logistic regression')\n",
        "graph()\n",
        "for i in range(x.shape[0]):\n",
        "  if(y_predicted[i]==1):\n",
        "    plt.scatter(x[i],y[i],color='red')\n",
        "  else:\n",
        "    plt.scatter(x[i],y[i],color='blue')\n",
        "plt.plot(np.sort(x,axis=0),1/(1+np.exp(-np.sort(x,axis=0))),color='green',label='Logistic function')\n",
        "plt.legend()\n",
        "plt.title('Data classified into two classes with predicted values')\n",
        "graph()\n",
        "for i in range(x.shape[0]):\n",
        "  if(y_predicted[i]==labels[i]):\n",
        "    plt.scatter(x[i],y[i],color='pink')\n",
        "  else:\n",
        "    plt.scatter(x[i],y[i],color='green')\n",
        "plt.plot(np.sort(x,axis=0),1/(1+np.exp(-np.sort(x,axis=0))),color='red',label='Logistic function')\n",
        "plt.legend()\n",
        "plt.title('Data misclassified data highlighted')\n",
        "graph()"
      ],
      "execution_count": 50,
      "outputs": [
        {
          "output_type": "display_data",
          "data": {
            "image/png": "[encoded data removed]",
            "text/plain": [
              "<Figure size 432x288 with 1 Axes>"
            ]
          },
          "metadata": {
            "tags": []
          }
        },
        {
          "output_type": "display_data",
          "data": {
            "image/png": "[encoded data removed]",
            "text/plain": [
              "<Figure size 432x288 with 1 Axes>"
            ]
          },
          "metadata": {
            "tags": []
          }
        },
        {
          "output_type": "display_data",
          "data": {
            "image/png": "[encoded data removed]",
            "text/plain": [
              "<Figure size 432x288 with 1 Axes>"
            ]
          },
          "metadata": {
            "tags": []
          }
        }
      ]
    },
    {
      "cell_type": "code",
      "metadata": {
        "id": "kNImRs0U9bn1",
        "colab_type": "code",
        "outputId": "2733ac81-e9d8-44d1-be8e-0041c7270afa",
        "colab": {
          "base_uri": "https://localhost:8080/",
          "height": 51
        }
      },
      "source": [
        "weight_predicted"
      ],
      "execution_count": 40,
      "outputs": [
        {
          "output_type": "execute_result",
          "data": {
            "text/plain": [
              "array([[-0.03434416],\n",
              "       [-0.51672901]])"
            ]
          },
          "metadata": {
            "tags": []
          },
          "execution_count": 40
        }
      ]
    },
    {
      "cell_type": "code",
      "metadata": {
        "id": "Cpnm-1ye_MG8",
        "colab_type": "code",
        "outputId": "b1bc330c-62dd-43fb-c770-51d7713ea6ad",
        "colab": {
          "base_uri": "https://localhost:8080/",
          "height": 34
        }
      },
      "source": [
        "weight_predicted.shape"
      ],
      "execution_count": 41,
      "outputs": [
        {
          "output_type": "execute_result",
          "data": {
            "text/plain": [
              "(2, 1)"
            ]
          },
          "metadata": {
            "tags": []
          },
          "execution_count": 41
        }
      ]
    },
    {
      "cell_type": "code",
      "metadata": {
        "id": "3vN0lbW9_AMp",
        "colab_type": "code",
        "outputId": "dc99ccdc-836d-4888-f810-296e98103e4a",
        "colab": {
          "base_uri": "https://localhost:8080/",
          "height": 295
        }
      },
      "source": [
        "t = np.sort(x,axis=0)\n",
        "plt.plot(t,1/(1+np.exp(t*weight_predicted[1][0] + weight_predicted[0][0])),color='red',label='Predcited function')\n",
        "plt.plot(np.sort(x,axis=0),1/(1+np.exp(-np.sort(x,axis=0))),color='green',label='Logistic function')\n",
        "plt.legend()\n",
        "plt.title('Comparison of original function with predicted function')\n",
        "graph()"
      ],
      "execution_count": 51,
      "outputs": [
        {
          "output_type": "display_data",
          "data": {
            "image/png": "[encoded data removed]",
            "text/plain": [
              "<Figure size 432x288 with 1 Axes>"
            ]
          },
          "metadata": {
            "tags": []
          }
        }
      ]
    }
  ]
}